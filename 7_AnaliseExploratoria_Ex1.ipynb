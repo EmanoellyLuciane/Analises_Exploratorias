{
  "nbformat": 4,
  "nbformat_minor": 0,
  "metadata": {
    "kernelspec": {
      "display_name": "Python [conda env:Anaconda2]",
      "language": "python",
      "name": "conda-env-Anaconda2-py"
    },
    "language_info": {
      "codemirror_mode": {
        "name": "ipython",
        "version": 2
      },
      "file_extension": ".py",
      "mimetype": "text/x-python",
      "name": "python",
      "nbconvert_exporter": "python",
      "pygments_lexer": "ipython2",
      "version": "2.7.12"
    },
    "colab": {
      "provenance": [],
      "collapsed_sections": [
        "M_IUcbIsupYu"
      ],
      "include_colab_link": true
    }
  },
  "cells": [
    {
      "cell_type": "markdown",
      "metadata": {
        "id": "view-in-github",
        "colab_type": "text"
      },
      "source": [
        "<a href=\"https://colab.research.google.com/github/EmanoellyLuciane/Analises_Exploratorias/blob/main/7_AnaliseExploratoria_Ex1.ipynb\" target=\"_parent\"><img src=\"https://colab.research.google.com/assets/colab-badge.svg\" alt=\"Open In Colab\"/></a>"
      ]
    },
    {
      "cell_type": "markdown",
      "metadata": {
        "id": "D4ArqC0DupWg"
      },
      "source": [
        "# Python para análise de dados\n",
        "Aqui, vamos mostrar como podemos utilizar o Python para uma tarefa, no meu ver a mais importante em projetos envolvendo análise de dados, a **Análise Exploratória de Dados**!"
      ]
    },
    {
      "cell_type": "markdown",
      "source": [
        "A `análise exploratória de dados` ou, em resumo, EDA (do inglês: *Exploratory Data Analysis*) é uma abordagem para analisar dados para resumir as principais características dos dados, obter uma melhor compreensão do conjunto de dados, descobrir relacionamentos entre diferentes variáveis ​​e extrair variáveis ​​importantes. EDA, é um passo importante em qualquer projeto de Análise de Dados ou Ciência de Dados.\n",
        "\n",
        "O **principal objetivo** da EDA é detectar quaisquer erros ou discrepâncias, bem como entender diferentes padrões nos dados. Ele permite que os analistas entendam melhor os dados antes de fazer qualquer suposição e também descubram relacionamentos entre variáveis. Os resultados da EDA ajudam as empresas a conhecer seus clientes, expandir seus negócios e tomar melhores decisões."
      ],
      "metadata": {
        "id": "UXAJIsFG4rKl"
      }
    },
    {
      "cell_type": "markdown",
      "source": [
        "## Concessionária de Veículos (Exemplo)\n",
        "Nosso conjunto de dados de exemplo, se trata de Vendas de uma Concessionária de veículos usados.\n",
        "\n",
        "Vamos entender melhor nosso conjunto de dados?"
      ],
      "metadata": {
        "id": "fzBLB2iQ8Knm"
      }
    },
    {
      "cell_type": "markdown",
      "metadata": {
        "id": "L-QJBjHfupWj"
      },
      "source": [
        "**Instalando e importando as bibliotecas necessárias**\n",
        "\n"
      ]
    },
    {
      "cell_type": "code",
      "source": [
        "# instalando a xlrd\n",
        "!pip install xlrd --upgrade"
      ],
      "metadata": {
        "id": "4nbi2VRP7IZe"
      },
      "execution_count": null,
      "outputs": []
    },
    {
      "cell_type": "code",
      "metadata": {
        "id": "AdZjASaVupWl"
      },
      "source": [
        "import pandas as pd"
      ],
      "execution_count": null,
      "outputs": []
    },
    {
      "cell_type": "code",
      "metadata": {
        "id": "bynuOclnuzZc",
        "colab": {
          "base_uri": "https://localhost:8080/"
        },
        "outputId": "83df1efc-a654-48ba-ed72-78847bea0672"
      },
      "source": [
        "from google.colab import drive\n",
        "drive.mount('/content/drive')"
      ],
      "execution_count": null,
      "outputs": [
        {
          "output_type": "stream",
          "name": "stdout",
          "text": [
            "Mounted at /content/drive\n"
          ]
        }
      ]
    },
    {
      "cell_type": "markdown",
      "source": [
        "**Importando o arquivo em Excel**\n",
        "\n",
        "Importando para um dataframe (df)"
      ],
      "metadata": {
        "id": "Hl8WYJ1mgMOF"
      }
    },
    {
      "cell_type": "code",
      "metadata": {
        "id": "5pImFk5lupWs"
      },
      "source": [
        "df = pd.read_excel('/content/drive/MyDrive/3. Estudos/Profissional/IA, ML/0. Scripts/Dados/carros_usados.xls')"
      ],
      "execution_count": null,
      "outputs": []
    },
    {
      "cell_type": "markdown",
      "metadata": {
        "id": "rJV0nIw2upWy"
      },
      "source": [
        "**Visualizando as 5 primeiras linhas do Dataframe**"
      ]
    },
    {
      "cell_type": "code",
      "metadata": {
        "id": "KQj0IvmCupW0",
        "colab": {
          "base_uri": "https://localhost:8080/",
          "height": 206
        },
        "outputId": "274f6e70-7124-4682-9ea8-09ad92f03910"
      },
      "source": [
        "df.head()"
      ],
      "execution_count": null,
      "outputs": [
        {
          "output_type": "execute_result",
          "data": {
            "text/plain": [
              "  data.set  total.cost  lot.sale.days overage  mileage   vehicle.type  \\\n",
              "0    TRAIN        4037            135     YES    67341   FAMILY.LARGE   \n",
              "1    TRAIN        6886            114     YES    72823  FAMILY.MEDIUM   \n",
              "2    TRAIN        3924            205     YES    96330  FAMILY.MEDIUM   \n",
              "3    TRAIN        4636            100     YES    58519        ECONOMY   \n",
              "4    TRAIN        5080            129     YES    99057  FAMILY.MEDIUM   \n",
              "\n",
              "  domestic.import  vehicle.age vehicle.age.group color.set       makex state  \\\n",
              "0        Domestic            8            SEVEN+    SILVER       BUICK    CA   \n",
              "1        Domestic            6               SIX     WHITE       DODGE    AZ   \n",
              "2        Domestic            9            SEVEN+     WHITE  OLDSMOBILE    FL   \n",
              "3          Import            4              FOUR      GOLD         KIA    NV   \n",
              "4        Domestic            4              FOUR     GREEN  OLDSMOBILE    NV   \n",
              "\n",
              "                   make.model  \n",
              "0               BUICK.CENTURY  \n",
              "1                  DODGE.NEON  \n",
              "2  OLDSMOBILE.CUTLASS SUPREME  \n",
              "3                  KIA.SEPHIA  \n",
              "4  OLDSMOBILE.CUTLASS SUPREME  "
            ],
            "text/html": [
              "\n",
              "  <div id=\"df-55356448-82c8-4607-b99d-0e39c0436632\">\n",
              "    <div class=\"colab-df-container\">\n",
              "      <div>\n",
              "<style scoped>\n",
              "    .dataframe tbody tr th:only-of-type {\n",
              "        vertical-align: middle;\n",
              "    }\n",
              "\n",
              "    .dataframe tbody tr th {\n",
              "        vertical-align: top;\n",
              "    }\n",
              "\n",
              "    .dataframe thead th {\n",
              "        text-align: right;\n",
              "    }\n",
              "</style>\n",
              "<table border=\"1\" class=\"dataframe\">\n",
              "  <thead>\n",
              "    <tr style=\"text-align: right;\">\n",
              "      <th></th>\n",
              "      <th>data.set</th>\n",
              "      <th>total.cost</th>\n",
              "      <th>lot.sale.days</th>\n",
              "      <th>overage</th>\n",
              "      <th>mileage</th>\n",
              "      <th>vehicle.type</th>\n",
              "      <th>domestic.import</th>\n",
              "      <th>vehicle.age</th>\n",
              "      <th>vehicle.age.group</th>\n",
              "      <th>color.set</th>\n",
              "      <th>makex</th>\n",
              "      <th>state</th>\n",
              "      <th>make.model</th>\n",
              "    </tr>\n",
              "  </thead>\n",
              "  <tbody>\n",
              "    <tr>\n",
              "      <th>0</th>\n",
              "      <td>TRAIN</td>\n",
              "      <td>4037</td>\n",
              "      <td>135</td>\n",
              "      <td>YES</td>\n",
              "      <td>67341</td>\n",
              "      <td>FAMILY.LARGE</td>\n",
              "      <td>Domestic</td>\n",
              "      <td>8</td>\n",
              "      <td>SEVEN+</td>\n",
              "      <td>SILVER</td>\n",
              "      <td>BUICK</td>\n",
              "      <td>CA</td>\n",
              "      <td>BUICK.CENTURY</td>\n",
              "    </tr>\n",
              "    <tr>\n",
              "      <th>1</th>\n",
              "      <td>TRAIN</td>\n",
              "      <td>6886</td>\n",
              "      <td>114</td>\n",
              "      <td>YES</td>\n",
              "      <td>72823</td>\n",
              "      <td>FAMILY.MEDIUM</td>\n",
              "      <td>Domestic</td>\n",
              "      <td>6</td>\n",
              "      <td>SIX</td>\n",
              "      <td>WHITE</td>\n",
              "      <td>DODGE</td>\n",
              "      <td>AZ</td>\n",
              "      <td>DODGE.NEON</td>\n",
              "    </tr>\n",
              "    <tr>\n",
              "      <th>2</th>\n",
              "      <td>TRAIN</td>\n",
              "      <td>3924</td>\n",
              "      <td>205</td>\n",
              "      <td>YES</td>\n",
              "      <td>96330</td>\n",
              "      <td>FAMILY.MEDIUM</td>\n",
              "      <td>Domestic</td>\n",
              "      <td>9</td>\n",
              "      <td>SEVEN+</td>\n",
              "      <td>WHITE</td>\n",
              "      <td>OLDSMOBILE</td>\n",
              "      <td>FL</td>\n",
              "      <td>OLDSMOBILE.CUTLASS SUPREME</td>\n",
              "    </tr>\n",
              "    <tr>\n",
              "      <th>3</th>\n",
              "      <td>TRAIN</td>\n",
              "      <td>4636</td>\n",
              "      <td>100</td>\n",
              "      <td>YES</td>\n",
              "      <td>58519</td>\n",
              "      <td>ECONOMY</td>\n",
              "      <td>Import</td>\n",
              "      <td>4</td>\n",
              "      <td>FOUR</td>\n",
              "      <td>GOLD</td>\n",
              "      <td>KIA</td>\n",
              "      <td>NV</td>\n",
              "      <td>KIA.SEPHIA</td>\n",
              "    </tr>\n",
              "    <tr>\n",
              "      <th>4</th>\n",
              "      <td>TRAIN</td>\n",
              "      <td>5080</td>\n",
              "      <td>129</td>\n",
              "      <td>YES</td>\n",
              "      <td>99057</td>\n",
              "      <td>FAMILY.MEDIUM</td>\n",
              "      <td>Domestic</td>\n",
              "      <td>4</td>\n",
              "      <td>FOUR</td>\n",
              "      <td>GREEN</td>\n",
              "      <td>OLDSMOBILE</td>\n",
              "      <td>NV</td>\n",
              "      <td>OLDSMOBILE.CUTLASS SUPREME</td>\n",
              "    </tr>\n",
              "  </tbody>\n",
              "</table>\n",
              "</div>\n",
              "      <button class=\"colab-df-convert\" onclick=\"convertToInteractive('df-55356448-82c8-4607-b99d-0e39c0436632')\"\n",
              "              title=\"Convert this dataframe to an interactive table.\"\n",
              "              style=\"display:none;\">\n",
              "        \n",
              "  <svg xmlns=\"http://www.w3.org/2000/svg\" height=\"24px\"viewBox=\"0 0 24 24\"\n",
              "       width=\"24px\">\n",
              "    <path d=\"M0 0h24v24H0V0z\" fill=\"none\"/>\n",
              "    <path d=\"M18.56 5.44l.94 2.06.94-2.06 2.06-.94-2.06-.94-.94-2.06-.94 2.06-2.06.94zm-11 1L8.5 8.5l.94-2.06 2.06-.94-2.06-.94L8.5 2.5l-.94 2.06-2.06.94zm10 10l.94 2.06.94-2.06 2.06-.94-2.06-.94-.94-2.06-.94 2.06-2.06.94z\"/><path d=\"M17.41 7.96l-1.37-1.37c-.4-.4-.92-.59-1.43-.59-.52 0-1.04.2-1.43.59L10.3 9.45l-7.72 7.72c-.78.78-.78 2.05 0 2.83L4 21.41c.39.39.9.59 1.41.59.51 0 1.02-.2 1.41-.59l7.78-7.78 2.81-2.81c.8-.78.8-2.07 0-2.86zM5.41 20L4 18.59l7.72-7.72 1.47 1.35L5.41 20z\"/>\n",
              "  </svg>\n",
              "      </button>\n",
              "      \n",
              "  <style>\n",
              "    .colab-df-container {\n",
              "      display:flex;\n",
              "      flex-wrap:wrap;\n",
              "      gap: 12px;\n",
              "    }\n",
              "\n",
              "    .colab-df-convert {\n",
              "      background-color: #E8F0FE;\n",
              "      border: none;\n",
              "      border-radius: 50%;\n",
              "      cursor: pointer;\n",
              "      display: none;\n",
              "      fill: #1967D2;\n",
              "      height: 32px;\n",
              "      padding: 0 0 0 0;\n",
              "      width: 32px;\n",
              "    }\n",
              "\n",
              "    .colab-df-convert:hover {\n",
              "      background-color: #E2EBFA;\n",
              "      box-shadow: 0px 1px 2px rgba(60, 64, 67, 0.3), 0px 1px 3px 1px rgba(60, 64, 67, 0.15);\n",
              "      fill: #174EA6;\n",
              "    }\n",
              "\n",
              "    [theme=dark] .colab-df-convert {\n",
              "      background-color: #3B4455;\n",
              "      fill: #D2E3FC;\n",
              "    }\n",
              "\n",
              "    [theme=dark] .colab-df-convert:hover {\n",
              "      background-color: #434B5C;\n",
              "      box-shadow: 0px 1px 3px 1px rgba(0, 0, 0, 0.15);\n",
              "      filter: drop-shadow(0px 1px 2px rgba(0, 0, 0, 0.3));\n",
              "      fill: #FFFFFF;\n",
              "    }\n",
              "  </style>\n",
              "\n",
              "      <script>\n",
              "        const buttonEl =\n",
              "          document.querySelector('#df-55356448-82c8-4607-b99d-0e39c0436632 button.colab-df-convert');\n",
              "        buttonEl.style.display =\n",
              "          google.colab.kernel.accessAllowed ? 'block' : 'none';\n",
              "\n",
              "        async function convertToInteractive(key) {\n",
              "          const element = document.querySelector('#df-55356448-82c8-4607-b99d-0e39c0436632');\n",
              "          const dataTable =\n",
              "            await google.colab.kernel.invokeFunction('convertToInteractive',\n",
              "                                                     [key], {});\n",
              "          if (!dataTable) return;\n",
              "\n",
              "          const docLinkHtml = 'Like what you see? Visit the ' +\n",
              "            '<a target=\"_blank\" href=https://colab.research.google.com/notebooks/data_table.ipynb>data table notebook</a>'\n",
              "            + ' to learn more about interactive tables.';\n",
              "          element.innerHTML = '';\n",
              "          dataTable['output_type'] = 'display_data';\n",
              "          await google.colab.output.renderOutput(dataTable, element);\n",
              "          const docLink = document.createElement('div');\n",
              "          docLink.innerHTML = docLinkHtml;\n",
              "          element.appendChild(docLink);\n",
              "        }\n",
              "      </script>\n",
              "    </div>\n",
              "  </div>\n",
              "  "
            ]
          },
          "metadata": {},
          "execution_count": 78
        }
      ]
    },
    {
      "cell_type": "markdown",
      "metadata": {
        "id": "sN1tX0uTupW7"
      },
      "source": [
        "**Visualizando as informações de colunas do Dataframe**"
      ]
    },
    {
      "cell_type": "code",
      "metadata": {
        "id": "E8YC7iMCupW9",
        "colab": {
          "base_uri": "https://localhost:8080/"
        },
        "outputId": "aba307f9-94ca-4c3e-e867-d086df488ed9"
      },
      "source": [
        "df.info()"
      ],
      "execution_count": null,
      "outputs": [
        {
          "output_type": "stream",
          "name": "stdout",
          "text": [
            "<class 'pandas.core.frame.DataFrame'>\n",
            "RangeIndex: 7495 entries, 0 to 7494\n",
            "Data columns (total 13 columns):\n",
            " #   Column             Non-Null Count  Dtype \n",
            "---  ------             --------------  ----- \n",
            " 0   data.set           7495 non-null   object\n",
            " 1   total.cost         7495 non-null   int64 \n",
            " 2   lot.sale.days      7495 non-null   int64 \n",
            " 3   overage            7495 non-null   object\n",
            " 4   mileage            7495 non-null   int64 \n",
            " 5   vehicle.type       7495 non-null   object\n",
            " 6   domestic.import    7495 non-null   object\n",
            " 7   vehicle.age        7495 non-null   int64 \n",
            " 8   vehicle.age.group  7495 non-null   object\n",
            " 9   color.set          7495 non-null   object\n",
            " 10  makex              7495 non-null   object\n",
            " 11  state              7495 non-null   object\n",
            " 12  make.model         7495 non-null   object\n",
            "dtypes: int64(4), object(9)\n",
            "memory usage: 761.3+ KB\n"
          ]
        }
      ]
    },
    {
      "cell_type": "markdown",
      "source": [
        "**Descrição das Colunas**\n",
        "- `data.set` - Dado de treino ou de test\n",
        "- `total.cost` - Custo total do veiculo\n",
        "- `lot.sale.days` - Tempo de venda em dias\n",
        "- `overage` - Venda após 90 dias\n",
        "- `mileage` - Kilometragem\n",
        "- `vehicle.type` - Tipo do veículo (economy, family.medium, family.large...)\n",
        "- `domestic.import` - Fabricação, domestico ou importado\n",
        "- `vehicle.age` - Idade do veículo\n",
        "- `vehicle.age.group` - Grupo de idade do veículo\n",
        "- `color.set` - Cor\n",
        "- `makex` - Marca\n",
        "- `state` - Estado do Carro (região)\n",
        "- `make.model` - Modelo"
      ],
      "metadata": {
        "id": "aM37Skn312HT"
      }
    },
    {
      "cell_type": "markdown",
      "metadata": {
        "id": "CQJX-1Q4upXD"
      },
      "source": [
        "**Informações estatísticas das colunas Dataframe**\n",
        "- contagens\n",
        "- média\n",
        "- valores máximo e mínimo\n",
        "- desvio padrão\n",
        "- quartis..."
      ]
    },
    {
      "cell_type": "code",
      "metadata": {
        "id": "ng27OTO9upXF",
        "outputId": "17ed199a-f6e5-4e11-cdf3-36284d54092e",
        "colab": {
          "base_uri": "https://localhost:8080/",
          "height": 300
        }
      },
      "source": [
        "df.describe()"
      ],
      "execution_count": null,
      "outputs": [
        {
          "output_type": "execute_result",
          "data": {
            "text/plain": [
              "        total.cost  lot.sale.days        mileage  vehicle.age\n",
              "count  7495.000000    7495.000000    7495.000000  7495.000000\n",
              "mean   4980.035490      76.454303   77234.533422     5.567312\n",
              "std     937.602064      64.644337   17142.552588     1.756219\n",
              "min    1375.000000       0.000000    1036.000000     1.000000\n",
              "25%    4354.000000      14.000000   67946.000000     4.000000\n",
              "50%    4919.000000      73.000000   78534.000000     5.000000\n",
              "75%    5540.000000     120.000000   89340.000000     7.000000\n",
              "max    9813.000000     300.000000  119250.000000    12.000000"
            ],
            "text/html": [
              "\n",
              "  <div id=\"df-fae4684d-ce94-4fca-94f6-be93d2a6592c\">\n",
              "    <div class=\"colab-df-container\">\n",
              "      <div>\n",
              "<style scoped>\n",
              "    .dataframe tbody tr th:only-of-type {\n",
              "        vertical-align: middle;\n",
              "    }\n",
              "\n",
              "    .dataframe tbody tr th {\n",
              "        vertical-align: top;\n",
              "    }\n",
              "\n",
              "    .dataframe thead th {\n",
              "        text-align: right;\n",
              "    }\n",
              "</style>\n",
              "<table border=\"1\" class=\"dataframe\">\n",
              "  <thead>\n",
              "    <tr style=\"text-align: right;\">\n",
              "      <th></th>\n",
              "      <th>total.cost</th>\n",
              "      <th>lot.sale.days</th>\n",
              "      <th>mileage</th>\n",
              "      <th>vehicle.age</th>\n",
              "    </tr>\n",
              "  </thead>\n",
              "  <tbody>\n",
              "    <tr>\n",
              "      <th>count</th>\n",
              "      <td>7495.000000</td>\n",
              "      <td>7495.000000</td>\n",
              "      <td>7495.000000</td>\n",
              "      <td>7495.000000</td>\n",
              "    </tr>\n",
              "    <tr>\n",
              "      <th>mean</th>\n",
              "      <td>4980.035490</td>\n",
              "      <td>76.454303</td>\n",
              "      <td>77234.533422</td>\n",
              "      <td>5.567312</td>\n",
              "    </tr>\n",
              "    <tr>\n",
              "      <th>std</th>\n",
              "      <td>937.602064</td>\n",
              "      <td>64.644337</td>\n",
              "      <td>17142.552588</td>\n",
              "      <td>1.756219</td>\n",
              "    </tr>\n",
              "    <tr>\n",
              "      <th>min</th>\n",
              "      <td>1375.000000</td>\n",
              "      <td>0.000000</td>\n",
              "      <td>1036.000000</td>\n",
              "      <td>1.000000</td>\n",
              "    </tr>\n",
              "    <tr>\n",
              "      <th>25%</th>\n",
              "      <td>4354.000000</td>\n",
              "      <td>14.000000</td>\n",
              "      <td>67946.000000</td>\n",
              "      <td>4.000000</td>\n",
              "    </tr>\n",
              "    <tr>\n",
              "      <th>50%</th>\n",
              "      <td>4919.000000</td>\n",
              "      <td>73.000000</td>\n",
              "      <td>78534.000000</td>\n",
              "      <td>5.000000</td>\n",
              "    </tr>\n",
              "    <tr>\n",
              "      <th>75%</th>\n",
              "      <td>5540.000000</td>\n",
              "      <td>120.000000</td>\n",
              "      <td>89340.000000</td>\n",
              "      <td>7.000000</td>\n",
              "    </tr>\n",
              "    <tr>\n",
              "      <th>max</th>\n",
              "      <td>9813.000000</td>\n",
              "      <td>300.000000</td>\n",
              "      <td>119250.000000</td>\n",
              "      <td>12.000000</td>\n",
              "    </tr>\n",
              "  </tbody>\n",
              "</table>\n",
              "</div>\n",
              "      <button class=\"colab-df-convert\" onclick=\"convertToInteractive('df-fae4684d-ce94-4fca-94f6-be93d2a6592c')\"\n",
              "              title=\"Convert this dataframe to an interactive table.\"\n",
              "              style=\"display:none;\">\n",
              "        \n",
              "  <svg xmlns=\"http://www.w3.org/2000/svg\" height=\"24px\"viewBox=\"0 0 24 24\"\n",
              "       width=\"24px\">\n",
              "    <path d=\"M0 0h24v24H0V0z\" fill=\"none\"/>\n",
              "    <path d=\"M18.56 5.44l.94 2.06.94-2.06 2.06-.94-2.06-.94-.94-2.06-.94 2.06-2.06.94zm-11 1L8.5 8.5l.94-2.06 2.06-.94-2.06-.94L8.5 2.5l-.94 2.06-2.06.94zm10 10l.94 2.06.94-2.06 2.06-.94-2.06-.94-.94-2.06-.94 2.06-2.06.94z\"/><path d=\"M17.41 7.96l-1.37-1.37c-.4-.4-.92-.59-1.43-.59-.52 0-1.04.2-1.43.59L10.3 9.45l-7.72 7.72c-.78.78-.78 2.05 0 2.83L4 21.41c.39.39.9.59 1.41.59.51 0 1.02-.2 1.41-.59l7.78-7.78 2.81-2.81c.8-.78.8-2.07 0-2.86zM5.41 20L4 18.59l7.72-7.72 1.47 1.35L5.41 20z\"/>\n",
              "  </svg>\n",
              "      </button>\n",
              "      \n",
              "  <style>\n",
              "    .colab-df-container {\n",
              "      display:flex;\n",
              "      flex-wrap:wrap;\n",
              "      gap: 12px;\n",
              "    }\n",
              "\n",
              "    .colab-df-convert {\n",
              "      background-color: #E8F0FE;\n",
              "      border: none;\n",
              "      border-radius: 50%;\n",
              "      cursor: pointer;\n",
              "      display: none;\n",
              "      fill: #1967D2;\n",
              "      height: 32px;\n",
              "      padding: 0 0 0 0;\n",
              "      width: 32px;\n",
              "    }\n",
              "\n",
              "    .colab-df-convert:hover {\n",
              "      background-color: #E2EBFA;\n",
              "      box-shadow: 0px 1px 2px rgba(60, 64, 67, 0.3), 0px 1px 3px 1px rgba(60, 64, 67, 0.15);\n",
              "      fill: #174EA6;\n",
              "    }\n",
              "\n",
              "    [theme=dark] .colab-df-convert {\n",
              "      background-color: #3B4455;\n",
              "      fill: #D2E3FC;\n",
              "    }\n",
              "\n",
              "    [theme=dark] .colab-df-convert:hover {\n",
              "      background-color: #434B5C;\n",
              "      box-shadow: 0px 1px 3px 1px rgba(0, 0, 0, 0.15);\n",
              "      filter: drop-shadow(0px 1px 2px rgba(0, 0, 0, 0.3));\n",
              "      fill: #FFFFFF;\n",
              "    }\n",
              "  </style>\n",
              "\n",
              "      <script>\n",
              "        const buttonEl =\n",
              "          document.querySelector('#df-fae4684d-ce94-4fca-94f6-be93d2a6592c button.colab-df-convert');\n",
              "        buttonEl.style.display =\n",
              "          google.colab.kernel.accessAllowed ? 'block' : 'none';\n",
              "\n",
              "        async function convertToInteractive(key) {\n",
              "          const element = document.querySelector('#df-fae4684d-ce94-4fca-94f6-be93d2a6592c');\n",
              "          const dataTable =\n",
              "            await google.colab.kernel.invokeFunction('convertToInteractive',\n",
              "                                                     [key], {});\n",
              "          if (!dataTable) return;\n",
              "\n",
              "          const docLinkHtml = 'Like what you see? Visit the ' +\n",
              "            '<a target=\"_blank\" href=https://colab.research.google.com/notebooks/data_table.ipynb>data table notebook</a>'\n",
              "            + ' to learn more about interactive tables.';\n",
              "          element.innerHTML = '';\n",
              "          dataTable['output_type'] = 'display_data';\n",
              "          await google.colab.output.renderOutput(dataTable, element);\n",
              "          const docLink = document.createElement('div');\n",
              "          docLink.innerHTML = docLinkHtml;\n",
              "          element.appendChild(docLink);\n",
              "        }\n",
              "      </script>\n",
              "    </div>\n",
              "  </div>\n",
              "  "
            ]
          },
          "metadata": {},
          "execution_count": 5
        }
      ]
    },
    {
      "cell_type": "markdown",
      "metadata": {
        "id": "a5KMmJHhupXL"
      },
      "source": [
        "**Consultando dados nulos ou Missing Values no Dataframe**\n",
        "\n",
        "Neste caso não tem, isso em um arquivo do dia a dia é raro!"
      ]
    },
    {
      "cell_type": "code",
      "metadata": {
        "id": "TDN7Mt9EupXN",
        "outputId": "1e664219-16a4-4a6e-ad6e-950c7f2980ae",
        "colab": {
          "base_uri": "https://localhost:8080/"
        }
      },
      "source": [
        "df.isnull().sum()"
      ],
      "execution_count": null,
      "outputs": [
        {
          "output_type": "execute_result",
          "data": {
            "text/plain": [
              "data.set             0\n",
              "total.cost           0\n",
              "lot.sale.days        0\n",
              "overage              0\n",
              "mileage              0\n",
              "vehicle.type         0\n",
              "domestic.import      0\n",
              "vehicle.age          0\n",
              "vehicle.age.group    0\n",
              "color.set            0\n",
              "makex                0\n",
              "state                0\n",
              "make.model           0\n",
              "dtype: int64"
            ]
          },
          "metadata": {},
          "execution_count": 6
        }
      ]
    },
    {
      "cell_type": "markdown",
      "source": [
        "Agora que já temos uma ideia inicial do nosso conjunto de dados, vamos para a `Análise Exploratória de Dados` propriamente dita."
      ],
      "metadata": {
        "id": "6BO_zKothYdq"
      }
    },
    {
      "cell_type": "markdown",
      "metadata": {
        "id": "2DJT0o-yupXT"
      },
      "source": [
        "## Análise Exploratória de Dados\n",
        "\n",
        "\n"
      ]
    },
    {
      "cell_type": "code",
      "metadata": {
        "id": "9dHt7y1JupXU"
      },
      "source": [
        "# Importando bibliotecas que usaremos para visualizar as análises\n",
        "import seaborn as sns\n",
        "from matplotlib import pyplot as plt"
      ],
      "execution_count": null,
      "outputs": []
    },
    {
      "cell_type": "markdown",
      "metadata": {
        "id": "sJEv3vP1upXa"
      },
      "source": [
        "**Define um estilo para nossos plots**"
      ]
    },
    {
      "cell_type": "code",
      "metadata": {
        "id": "j5ve4YVIupXc"
      },
      "source": [
        "plt.style.use('ggplot')"
      ],
      "execution_count": null,
      "outputs": []
    },
    {
      "cell_type": "markdown",
      "metadata": {
        "id": "WaGCevoMupXi"
      },
      "source": [
        "**Plota a distribuição da variável `total.cost`**\n",
        "\n",
        "- Essa é a variável que contem o Custo Total do Veículo."
      ]
    },
    {
      "cell_type": "code",
      "metadata": {
        "id": "e-Xqw_7RupXj",
        "outputId": "8af994ab-dce2-4001-a96b-7b705cfec15d",
        "colab": {
          "base_uri": "https://localhost:8080/",
          "height": 403
        }
      },
      "source": [
        "%matplotlib inline\n",
        "sns.displot(df['total.cost'],color='green', kde=False)\n",
        "plt.title('Distribuição da coluna total.cost')"
      ],
      "execution_count": null,
      "outputs": [
        {
          "output_type": "execute_result",
          "data": {
            "text/plain": [
              "Text(0.5, 1.0, 'Distribuição da coluna total.cost')"
            ]
          },
          "metadata": {},
          "execution_count": 9
        },
        {
          "output_type": "display_data",
          "data": {
            "text/plain": [
              "<Figure size 360x360 with 1 Axes>"
            ],
            "image/png": "[encoded data removed]"
          },
          "metadata": {
            "needs_background": "light"
          }
        }
      ]
    },
    {
      "cell_type": "markdown",
      "metadata": {
        "id": "43mtp3KxupXq"
      },
      "source": [
        "*Podemos observar que a maioria dos carros custam em torno de 4k e 6k.*"
      ]
    },
    {
      "cell_type": "markdown",
      "metadata": {
        "id": "oid871kLupXs"
      },
      "source": [
        "### Qual a quantidade média de dias que os carros ficam na concessionária?"
      ]
    },
    {
      "cell_type": "code",
      "metadata": {
        "id": "qYzA9j13upXt",
        "outputId": "a234b7b4-49b8-4b72-f4df-4ad958ff32e5",
        "colab": {
          "base_uri": "https://localhost:8080/",
          "height": 403
        }
      },
      "source": [
        "%matplotlib inline\n",
        "sns.displot(df['lot.sale.days'],color='red', kde=False)\n",
        "plt.title('Distribuição da coluna lot.sale.days')"
      ],
      "execution_count": null,
      "outputs": [
        {
          "output_type": "execute_result",
          "data": {
            "text/plain": [
              "Text(0.5, 1.0, 'Distribuição da coluna lot.sale.days')"
            ]
          },
          "metadata": {},
          "execution_count": 10
        },
        {
          "output_type": "display_data",
          "data": {
            "text/plain": [
              "<Figure size 360x360 with 1 Axes>"
            ],
            "image/png": "[encoded data removed]"
          },
          "metadata": {
            "needs_background": "light"
          }
        }
      ]
    },
    {
      "cell_type": "markdown",
      "metadata": {
        "id": "0Vq_gjZcupX0"
      },
      "source": [
        "- *Podemos observar que os dias de vendas são inclinados para o lado esquerdo\n",
        " isso nos mostra que a maioria dos são vendidos nos primeiros 90 dias.*\n",
        "- *Os restantes 20% são vendidos após 20 dias e são vendidos a preço de desconto.*"
      ]
    },
    {
      "cell_type": "markdown",
      "metadata": {
        "id": "ouTYAG8ZupX2"
      },
      "source": [
        "### Qual a Kilometragem média dos veículos da concessionária?"
      ]
    },
    {
      "cell_type": "code",
      "metadata": {
        "id": "tVCEbUAZupX4",
        "outputId": "a9d58d98-ad2b-4c9f-8f8c-e8ecc1667bad",
        "colab": {
          "base_uri": "https://localhost:8080/",
          "height": 403
        }
      },
      "source": [
        "# mileage - Kilometragem\n",
        "\n",
        "%matplotlib inline\n",
        "sns.displot(df['mileage'],color='blue', kde=False)\n",
        "plt.title('Distribuição da coluna mileage')"
      ],
      "execution_count": null,
      "outputs": [
        {
          "output_type": "execute_result",
          "data": {
            "text/plain": [
              "Text(0.5, 1.0, 'Distribuição da coluna mileage')"
            ]
          },
          "metadata": {},
          "execution_count": 11
        },
        {
          "output_type": "display_data",
          "data": {
            "text/plain": [
              "<Figure size 360x360 with 1 Axes>"
            ],
            "image/png": "[encoded data removed]"
          },
          "metadata": {
            "needs_background": "light"
          }
        }
      ]
    },
    {
      "cell_type": "markdown",
      "metadata": {
        "id": "wkYEMG4LupX_"
      },
      "source": [
        "- *Podemos observar que a grande maioria dos veículos estão na faixa de 60.000 a 90.000 de kilometragem*"
      ]
    },
    {
      "cell_type": "markdown",
      "metadata": {
        "id": "Gj96aekNupYB"
      },
      "source": [
        "### Qual a idade média dos veículos da concessionária?"
      ]
    },
    {
      "cell_type": "code",
      "metadata": {
        "id": "5NH3AJ4QupYC",
        "outputId": "af99dbc6-a9b8-4053-cd55-dcd466abdb1c",
        "colab": {
          "base_uri": "https://localhost:8080/",
          "height": 403
        }
      },
      "source": [
        "%matplotlib inline\n",
        "sns.displot(df['vehicle.age'],color='red', kde=False)\n",
        "plt.title('Distribuição da coluna vehicle.age')"
      ],
      "execution_count": null,
      "outputs": [
        {
          "output_type": "execute_result",
          "data": {
            "text/plain": [
              "Text(0.5, 1.0, 'Distribuição da coluna vehicle.age')"
            ]
          },
          "metadata": {},
          "execution_count": 12
        },
        {
          "output_type": "display_data",
          "data": {
            "text/plain": [
              "<Figure size 360x360 with 1 Axes>"
            ],
            "image/png": "[encoded data removed]"
          },
          "metadata": {
            "needs_background": "light"
          }
        }
      ]
    },
    {
      "cell_type": "markdown",
      "metadata": {
        "id": "enx7oNGqupYJ"
      },
      "source": [
        "- *Podemos observar que a idade (`vehicle.age`) média dos veículos da concessionária são de 4 a 7 anos.*"
      ]
    },
    {
      "cell_type": "markdown",
      "metadata": {
        "id": "FXdy8obRupYK"
      },
      "source": [
        "### Visualizando a Correlação entre algumas variáveis"
      ]
    },
    {
      "cell_type": "markdown",
      "metadata": {
        "id": "X_1ZGd3XupYN"
      },
      "source": [
        "A Correlação de Pearson mede a dependência linear entre duas variáveis ​​X e Y.\n",
        "\n",
        "O coeficiente resultante é um valor entre -1 e 1 inclusive, onde:\n",
        "\n",
        "- 1 : Correlação linear positiva perfeita.\n",
        "- 0 : Sem correlação linear, as duas variáveis ​​provavelmente não afetam uma à outra.\n",
        "- -1 : Correlação linear negativa perfeita.\n",
        "Correlação de Pearson é o método padrão da função “corr”.\n",
        "\n",
        "Mostra:\n",
        "- O quanto alguma variável numérica tem correlação com outra variável ?\n",
        "- Correlação pode ser positiva ou negativa"
      ]
    },
    {
      "cell_type": "code",
      "metadata": {
        "id": "CaBNKCJgupYP",
        "outputId": "c65bcc07-86d5-41cc-e83a-e41c40e46e7a",
        "colab": {
          "base_uri": "https://localhost:8080/",
          "height": 206
        }
      },
      "source": [
        "# Kilometragem | Idade | Dia para venda | Custo total\n",
        "df[['mileage','vehicle.age','lot.sale.days','total.cost']].head()"
      ],
      "execution_count": null,
      "outputs": [
        {
          "output_type": "execute_result",
          "data": {
            "text/plain": [
              "   mileage  vehicle.age  lot.sale.days  total.cost\n",
              "0    67341            8            135        4037\n",
              "1    72823            6            114        6886\n",
              "2    96330            9            205        3924\n",
              "3    58519            4            100        4636\n",
              "4    99057            4            129        5080"
            ],
            "text/html": [
              "\n",
              "  <div id=\"df-77729f3e-4462-4a53-9289-0dde44332f91\">\n",
              "    <div class=\"colab-df-container\">\n",
              "      <div>\n",
              "<style scoped>\n",
              "    .dataframe tbody tr th:only-of-type {\n",
              "        vertical-align: middle;\n",
              "    }\n",
              "\n",
              "    .dataframe tbody tr th {\n",
              "        vertical-align: top;\n",
              "    }\n",
              "\n",
              "    .dataframe thead th {\n",
              "        text-align: right;\n",
              "    }\n",
              "</style>\n",
              "<table border=\"1\" class=\"dataframe\">\n",
              "  <thead>\n",
              "    <tr style=\"text-align: right;\">\n",
              "      <th></th>\n",
              "      <th>mileage</th>\n",
              "      <th>vehicle.age</th>\n",
              "      <th>lot.sale.days</th>\n",
              "      <th>total.cost</th>\n",
              "    </tr>\n",
              "  </thead>\n",
              "  <tbody>\n",
              "    <tr>\n",
              "      <th>0</th>\n",
              "      <td>67341</td>\n",
              "      <td>8</td>\n",
              "      <td>135</td>\n",
              "      <td>4037</td>\n",
              "    </tr>\n",
              "    <tr>\n",
              "      <th>1</th>\n",
              "      <td>72823</td>\n",
              "      <td>6</td>\n",
              "      <td>114</td>\n",
              "      <td>6886</td>\n",
              "    </tr>\n",
              "    <tr>\n",
              "      <th>2</th>\n",
              "      <td>96330</td>\n",
              "      <td>9</td>\n",
              "      <td>205</td>\n",
              "      <td>3924</td>\n",
              "    </tr>\n",
              "    <tr>\n",
              "      <th>3</th>\n",
              "      <td>58519</td>\n",
              "      <td>4</td>\n",
              "      <td>100</td>\n",
              "      <td>4636</td>\n",
              "    </tr>\n",
              "    <tr>\n",
              "      <th>4</th>\n",
              "      <td>99057</td>\n",
              "      <td>4</td>\n",
              "      <td>129</td>\n",
              "      <td>5080</td>\n",
              "    </tr>\n",
              "  </tbody>\n",
              "</table>\n",
              "</div>\n",
              "      <button class=\"colab-df-convert\" onclick=\"convertToInteractive('df-77729f3e-4462-4a53-9289-0dde44332f91')\"\n",
              "              title=\"Convert this dataframe to an interactive table.\"\n",
              "              style=\"display:none;\">\n",
              "        \n",
              "  <svg xmlns=\"http://www.w3.org/2000/svg\" height=\"24px\"viewBox=\"0 0 24 24\"\n",
              "       width=\"24px\">\n",
              "    <path d=\"M0 0h24v24H0V0z\" fill=\"none\"/>\n",
              "    <path d=\"M18.56 5.44l.94 2.06.94-2.06 2.06-.94-2.06-.94-.94-2.06-.94 2.06-2.06.94zm-11 1L8.5 8.5l.94-2.06 2.06-.94-2.06-.94L8.5 2.5l-.94 2.06-2.06.94zm10 10l.94 2.06.94-2.06 2.06-.94-2.06-.94-.94-2.06-.94 2.06-2.06.94z\"/><path d=\"M17.41 7.96l-1.37-1.37c-.4-.4-.92-.59-1.43-.59-.52 0-1.04.2-1.43.59L10.3 9.45l-7.72 7.72c-.78.78-.78 2.05 0 2.83L4 21.41c.39.39.9.59 1.41.59.51 0 1.02-.2 1.41-.59l7.78-7.78 2.81-2.81c.8-.78.8-2.07 0-2.86zM5.41 20L4 18.59l7.72-7.72 1.47 1.35L5.41 20z\"/>\n",
              "  </svg>\n",
              "      </button>\n",
              "      \n",
              "  <style>\n",
              "    .colab-df-container {\n",
              "      display:flex;\n",
              "      flex-wrap:wrap;\n",
              "      gap: 12px;\n",
              "    }\n",
              "\n",
              "    .colab-df-convert {\n",
              "      background-color: #E8F0FE;\n",
              "      border: none;\n",
              "      border-radius: 50%;\n",
              "      cursor: pointer;\n",
              "      display: none;\n",
              "      fill: #1967D2;\n",
              "      height: 32px;\n",
              "      padding: 0 0 0 0;\n",
              "      width: 32px;\n",
              "    }\n",
              "\n",
              "    .colab-df-convert:hover {\n",
              "      background-color: #E2EBFA;\n",
              "      box-shadow: 0px 1px 2px rgba(60, 64, 67, 0.3), 0px 1px 3px 1px rgba(60, 64, 67, 0.15);\n",
              "      fill: #174EA6;\n",
              "    }\n",
              "\n",
              "    [theme=dark] .colab-df-convert {\n",
              "      background-color: #3B4455;\n",
              "      fill: #D2E3FC;\n",
              "    }\n",
              "\n",
              "    [theme=dark] .colab-df-convert:hover {\n",
              "      background-color: #434B5C;\n",
              "      box-shadow: 0px 1px 3px 1px rgba(0, 0, 0, 0.15);\n",
              "      filter: drop-shadow(0px 1px 2px rgba(0, 0, 0, 0.3));\n",
              "      fill: #FFFFFF;\n",
              "    }\n",
              "  </style>\n",
              "\n",
              "      <script>\n",
              "        const buttonEl =\n",
              "          document.querySelector('#df-77729f3e-4462-4a53-9289-0dde44332f91 button.colab-df-convert');\n",
              "        buttonEl.style.display =\n",
              "          google.colab.kernel.accessAllowed ? 'block' : 'none';\n",
              "\n",
              "        async function convertToInteractive(key) {\n",
              "          const element = document.querySelector('#df-77729f3e-4462-4a53-9289-0dde44332f91');\n",
              "          const dataTable =\n",
              "            await google.colab.kernel.invokeFunction('convertToInteractive',\n",
              "                                                     [key], {});\n",
              "          if (!dataTable) return;\n",
              "\n",
              "          const docLinkHtml = 'Like what you see? Visit the ' +\n",
              "            '<a target=\"_blank\" href=https://colab.research.google.com/notebooks/data_table.ipynb>data table notebook</a>'\n",
              "            + ' to learn more about interactive tables.';\n",
              "          element.innerHTML = '';\n",
              "          dataTable['output_type'] = 'display_data';\n",
              "          await google.colab.output.renderOutput(dataTable, element);\n",
              "          const docLink = document.createElement('div');\n",
              "          docLink.innerHTML = docLinkHtml;\n",
              "          element.appendChild(docLink);\n",
              "        }\n",
              "      </script>\n",
              "    </div>\n",
              "  </div>\n",
              "  "
            ]
          },
          "metadata": {},
          "execution_count": 13
        }
      ]
    },
    {
      "cell_type": "markdown",
      "metadata": {
        "id": "dQo6hHQMupYa"
      },
      "source": [
        "- Calcula a correlação com método corr()"
      ]
    },
    {
      "cell_type": "code",
      "metadata": {
        "id": "YGsbncjQupYb",
        "outputId": "508b97f9-e06b-46d5-e968-a72fde7b358d",
        "colab": {
          "base_uri": "https://localhost:8080/",
          "height": 175
        }
      },
      "source": [
        "# Kilometragem | Idade | Dia para venda | Custo total\n",
        "df[['mileage','vehicle.age','lot.sale.days','total.cost']].corr()"
      ],
      "execution_count": null,
      "outputs": [
        {
          "output_type": "execute_result",
          "data": {
            "text/plain": [
              "                mileage  vehicle.age  lot.sale.days  total.cost\n",
              "mileage        1.000000     0.462838       0.060003   -0.127258\n",
              "vehicle.age    0.462838     1.000000       0.186480   -0.309716\n",
              "lot.sale.days  0.060003     0.186480       1.000000    0.167632\n",
              "total.cost    -0.127258    -0.309716       0.167632    1.000000"
            ],
            "text/html": [
              "\n",
              "  <div id=\"df-91b1dc0c-f5a8-493b-9f66-ce1aa80afad4\">\n",
              "    <div class=\"colab-df-container\">\n",
              "      <div>\n",
              "<style scoped>\n",
              "    .dataframe tbody tr th:only-of-type {\n",
              "        vertical-align: middle;\n",
              "    }\n",
              "\n",
              "    .dataframe tbody tr th {\n",
              "        vertical-align: top;\n",
              "    }\n",
              "\n",
              "    .dataframe thead th {\n",
              "        text-align: right;\n",
              "    }\n",
              "</style>\n",
              "<table border=\"1\" class=\"dataframe\">\n",
              "  <thead>\n",
              "    <tr style=\"text-align: right;\">\n",
              "      <th></th>\n",
              "      <th>mileage</th>\n",
              "      <th>vehicle.age</th>\n",
              "      <th>lot.sale.days</th>\n",
              "      <th>total.cost</th>\n",
              "    </tr>\n",
              "  </thead>\n",
              "  <tbody>\n",
              "    <tr>\n",
              "      <th>mileage</th>\n",
              "      <td>1.000000</td>\n",
              "      <td>0.462838</td>\n",
              "      <td>0.060003</td>\n",
              "      <td>-0.127258</td>\n",
              "    </tr>\n",
              "    <tr>\n",
              "      <th>vehicle.age</th>\n",
              "      <td>0.462838</td>\n",
              "      <td>1.000000</td>\n",
              "      <td>0.186480</td>\n",
              "      <td>-0.309716</td>\n",
              "    </tr>\n",
              "    <tr>\n",
              "      <th>lot.sale.days</th>\n",
              "      <td>0.060003</td>\n",
              "      <td>0.186480</td>\n",
              "      <td>1.000000</td>\n",
              "      <td>0.167632</td>\n",
              "    </tr>\n",
              "    <tr>\n",
              "      <th>total.cost</th>\n",
              "      <td>-0.127258</td>\n",
              "      <td>-0.309716</td>\n",
              "      <td>0.167632</td>\n",
              "      <td>1.000000</td>\n",
              "    </tr>\n",
              "  </tbody>\n",
              "</table>\n",
              "</div>\n",
              "      <button class=\"colab-df-convert\" onclick=\"convertToInteractive('df-91b1dc0c-f5a8-493b-9f66-ce1aa80afad4')\"\n",
              "              title=\"Convert this dataframe to an interactive table.\"\n",
              "              style=\"display:none;\">\n",
              "        \n",
              "  <svg xmlns=\"http://www.w3.org/2000/svg\" height=\"24px\"viewBox=\"0 0 24 24\"\n",
              "       width=\"24px\">\n",
              "    <path d=\"M0 0h24v24H0V0z\" fill=\"none\"/>\n",
              "    <path d=\"M18.56 5.44l.94 2.06.94-2.06 2.06-.94-2.06-.94-.94-2.06-.94 2.06-2.06.94zm-11 1L8.5 8.5l.94-2.06 2.06-.94-2.06-.94L8.5 2.5l-.94 2.06-2.06.94zm10 10l.94 2.06.94-2.06 2.06-.94-2.06-.94-.94-2.06-.94 2.06-2.06.94z\"/><path d=\"M17.41 7.96l-1.37-1.37c-.4-.4-.92-.59-1.43-.59-.52 0-1.04.2-1.43.59L10.3 9.45l-7.72 7.72c-.78.78-.78 2.05 0 2.83L4 21.41c.39.39.9.59 1.41.59.51 0 1.02-.2 1.41-.59l7.78-7.78 2.81-2.81c.8-.78.8-2.07 0-2.86zM5.41 20L4 18.59l7.72-7.72 1.47 1.35L5.41 20z\"/>\n",
              "  </svg>\n",
              "      </button>\n",
              "      \n",
              "  <style>\n",
              "    .colab-df-container {\n",
              "      display:flex;\n",
              "      flex-wrap:wrap;\n",
              "      gap: 12px;\n",
              "    }\n",
              "\n",
              "    .colab-df-convert {\n",
              "      background-color: #E8F0FE;\n",
              "      border: none;\n",
              "      border-radius: 50%;\n",
              "      cursor: pointer;\n",
              "      display: none;\n",
              "      fill: #1967D2;\n",
              "      height: 32px;\n",
              "      padding: 0 0 0 0;\n",
              "      width: 32px;\n",
              "    }\n",
              "\n",
              "    .colab-df-convert:hover {\n",
              "      background-color: #E2EBFA;\n",
              "      box-shadow: 0px 1px 2px rgba(60, 64, 67, 0.3), 0px 1px 3px 1px rgba(60, 64, 67, 0.15);\n",
              "      fill: #174EA6;\n",
              "    }\n",
              "\n",
              "    [theme=dark] .colab-df-convert {\n",
              "      background-color: #3B4455;\n",
              "      fill: #D2E3FC;\n",
              "    }\n",
              "\n",
              "    [theme=dark] .colab-df-convert:hover {\n",
              "      background-color: #434B5C;\n",
              "      box-shadow: 0px 1px 3px 1px rgba(0, 0, 0, 0.15);\n",
              "      filter: drop-shadow(0px 1px 2px rgba(0, 0, 0, 0.3));\n",
              "      fill: #FFFFFF;\n",
              "    }\n",
              "  </style>\n",
              "\n",
              "      <script>\n",
              "        const buttonEl =\n",
              "          document.querySelector('#df-91b1dc0c-f5a8-493b-9f66-ce1aa80afad4 button.colab-df-convert');\n",
              "        buttonEl.style.display =\n",
              "          google.colab.kernel.accessAllowed ? 'block' : 'none';\n",
              "\n",
              "        async function convertToInteractive(key) {\n",
              "          const element = document.querySelector('#df-91b1dc0c-f5a8-493b-9f66-ce1aa80afad4');\n",
              "          const dataTable =\n",
              "            await google.colab.kernel.invokeFunction('convertToInteractive',\n",
              "                                                     [key], {});\n",
              "          if (!dataTable) return;\n",
              "\n",
              "          const docLinkHtml = 'Like what you see? Visit the ' +\n",
              "            '<a target=\"_blank\" href=https://colab.research.google.com/notebooks/data_table.ipynb>data table notebook</a>'\n",
              "            + ' to learn more about interactive tables.';\n",
              "          element.innerHTML = '';\n",
              "          dataTable['output_type'] = 'display_data';\n",
              "          await google.colab.output.renderOutput(dataTable, element);\n",
              "          const docLink = document.createElement('div');\n",
              "          docLink.innerHTML = docLinkHtml;\n",
              "          element.appendChild(docLink);\n",
              "        }\n",
              "      </script>\n",
              "    </div>\n",
              "  </div>\n",
              "  "
            ]
          },
          "metadata": {},
          "execution_count": 67
        }
      ]
    },
    {
      "cell_type": "markdown",
      "metadata": {
        "id": "Fi-PVk8EupYl"
      },
      "source": [
        "- Plot o `mapa de calor` para visualizar as `correlações`"
      ]
    },
    {
      "cell_type": "code",
      "metadata": {
        "id": "zb3iifkcupYm",
        "outputId": "7637c2c1-198f-49c3-eee2-58b6c65ecbd9",
        "colab": {
          "base_uri": "https://localhost:8080/",
          "height": 286
        }
      },
      "source": [
        "correlacoes = df[['mileage','vehicle.age','lot.sale.days','total.cost']].corr()\n",
        "\n",
        "%matplotlib inline\n",
        "sns.heatmap(correlacoes, annot=True, cmap=\"YlGnBu\")"
      ],
      "execution_count": null,
      "outputs": [
        {
          "output_type": "execute_result",
          "data": {
            "text/plain": [
              "<matplotlib.axes._subplots.AxesSubplot at 0x7f8f77c6b750>"
            ]
          },
          "metadata": {},
          "execution_count": 18
        },
        {
          "output_type": "display_data",
          "data": {
            "text/plain": [
              "<Figure size 432x288 with 2 Axes>"
            ],
            "image/png": "[encoded data removed]"
          },
          "metadata": {
            "needs_background": "light"
          }
        }
      ]
    },
    {
      "cell_type": "markdown",
      "metadata": {
        "id": "8-Hy3QfNupYs"
      },
      "source": [
        "- *O gráfico de calor acima nos mostra que não existe uma correlação forte das variáveis com a quantidade de dias de vendas(lot.sale.days)*\n",
        "- *Podemos ver que a kilometragem (Mileage) tem uma correlação positiva com a idade do veículo (vehicle.age).*\n",
        "- *Podemos ver também que os dias de vendas (lot.sale.days) tem uma correlação positiva com o custo total do veículo (total.cost) e com a idade do veículo (vehicle.age)*"
      ]
    },
    {
      "cell_type": "markdown",
      "source": [
        "### Quantas modelos de veiculos temos na nossa base e a quantidade de cada um deles?"
      ],
      "metadata": {
        "id": "plpE89Fc-CNF"
      }
    },
    {
      "cell_type": "code",
      "source": [
        "df['make.model'].value_counts().to_frame()"
      ],
      "metadata": {
        "colab": {
          "base_uri": "https://localhost:8080/",
          "height": 424
        },
        "id": "rYuur5_K-MDA",
        "outputId": "a906460a-2c98-4584-9e23-c78e8e2e5b31"
      },
      "execution_count": null,
      "outputs": [
        {
          "output_type": "execute_result",
          "data": {
            "text/plain": [
              "                       make.model\n",
              "NISSAN.SENTRA                 441\n",
              "CHEVROLET.LUMINA              431\n",
              "FORD.TAURUS                   357\n",
              "BUICK.LESABRE                 271\n",
              "PONTIAC.GRAND AM              269\n",
              "...                           ...\n",
              "CHRYSLER.FIFTH AVENUE           1\n",
              "SUBARU.IMPREZA                  1\n",
              "SUBARU.LOYALE                   1\n",
              "INFINITI.I30                    1\n",
              "CADILLAC.BROUGHAM RWD           1\n",
              "\n",
              "[95 rows x 1 columns]"
            ],
            "text/html": [
              "\n",
              "  <div id=\"df-349ce7b0-393e-4c8c-b541-da14a7c07654\">\n",
              "    <div class=\"colab-df-container\">\n",
              "      <div>\n",
              "<style scoped>\n",
              "    .dataframe tbody tr th:only-of-type {\n",
              "        vertical-align: middle;\n",
              "    }\n",
              "\n",
              "    .dataframe tbody tr th {\n",
              "        vertical-align: top;\n",
              "    }\n",
              "\n",
              "    .dataframe thead th {\n",
              "        text-align: right;\n",
              "    }\n",
              "</style>\n",
              "<table border=\"1\" class=\"dataframe\">\n",
              "  <thead>\n",
              "    <tr style=\"text-align: right;\">\n",
              "      <th></th>\n",
              "      <th>make.model</th>\n",
              "    </tr>\n",
              "  </thead>\n",
              "  <tbody>\n",
              "    <tr>\n",
              "      <th>NISSAN.SENTRA</th>\n",
              "      <td>441</td>\n",
              "    </tr>\n",
              "    <tr>\n",
              "      <th>CHEVROLET.LUMINA</th>\n",
              "      <td>431</td>\n",
              "    </tr>\n",
              "    <tr>\n",
              "      <th>FORD.TAURUS</th>\n",
              "      <td>357</td>\n",
              "    </tr>\n",
              "    <tr>\n",
              "      <th>BUICK.LESABRE</th>\n",
              "      <td>271</td>\n",
              "    </tr>\n",
              "    <tr>\n",
              "      <th>PONTIAC.GRAND AM</th>\n",
              "      <td>269</td>\n",
              "    </tr>\n",
              "    <tr>\n",
              "      <th>...</th>\n",
              "      <td>...</td>\n",
              "    </tr>\n",
              "    <tr>\n",
              "      <th>CHRYSLER.FIFTH AVENUE</th>\n",
              "      <td>1</td>\n",
              "    </tr>\n",
              "    <tr>\n",
              "      <th>SUBARU.IMPREZA</th>\n",
              "      <td>1</td>\n",
              "    </tr>\n",
              "    <tr>\n",
              "      <th>SUBARU.LOYALE</th>\n",
              "      <td>1</td>\n",
              "    </tr>\n",
              "    <tr>\n",
              "      <th>INFINITI.I30</th>\n",
              "      <td>1</td>\n",
              "    </tr>\n",
              "    <tr>\n",
              "      <th>CADILLAC.BROUGHAM RWD</th>\n",
              "      <td>1</td>\n",
              "    </tr>\n",
              "  </tbody>\n",
              "</table>\n",
              "<p>95 rows × 1 columns</p>\n",
              "</div>\n",
              "      <button class=\"colab-df-convert\" onclick=\"convertToInteractive('df-349ce7b0-393e-4c8c-b541-da14a7c07654')\"\n",
              "              title=\"Convert this dataframe to an interactive table.\"\n",
              "              style=\"display:none;\">\n",
              "        \n",
              "  <svg xmlns=\"http://www.w3.org/2000/svg\" height=\"24px\"viewBox=\"0 0 24 24\"\n",
              "       width=\"24px\">\n",
              "    <path d=\"M0 0h24v24H0V0z\" fill=\"none\"/>\n",
              "    <path d=\"M18.56 5.44l.94 2.06.94-2.06 2.06-.94-2.06-.94-.94-2.06-.94 2.06-2.06.94zm-11 1L8.5 8.5l.94-2.06 2.06-.94-2.06-.94L8.5 2.5l-.94 2.06-2.06.94zm10 10l.94 2.06.94-2.06 2.06-.94-2.06-.94-.94-2.06-.94 2.06-2.06.94z\"/><path d=\"M17.41 7.96l-1.37-1.37c-.4-.4-.92-.59-1.43-.59-.52 0-1.04.2-1.43.59L10.3 9.45l-7.72 7.72c-.78.78-.78 2.05 0 2.83L4 21.41c.39.39.9.59 1.41.59.51 0 1.02-.2 1.41-.59l7.78-7.78 2.81-2.81c.8-.78.8-2.07 0-2.86zM5.41 20L4 18.59l7.72-7.72 1.47 1.35L5.41 20z\"/>\n",
              "  </svg>\n",
              "      </button>\n",
              "      \n",
              "  <style>\n",
              "    .colab-df-container {\n",
              "      display:flex;\n",
              "      flex-wrap:wrap;\n",
              "      gap: 12px;\n",
              "    }\n",
              "\n",
              "    .colab-df-convert {\n",
              "      background-color: #E8F0FE;\n",
              "      border: none;\n",
              "      border-radius: 50%;\n",
              "      cursor: pointer;\n",
              "      display: none;\n",
              "      fill: #1967D2;\n",
              "      height: 32px;\n",
              "      padding: 0 0 0 0;\n",
              "      width: 32px;\n",
              "    }\n",
              "\n",
              "    .colab-df-convert:hover {\n",
              "      background-color: #E2EBFA;\n",
              "      box-shadow: 0px 1px 2px rgba(60, 64, 67, 0.3), 0px 1px 3px 1px rgba(60, 64, 67, 0.15);\n",
              "      fill: #174EA6;\n",
              "    }\n",
              "\n",
              "    [theme=dark] .colab-df-convert {\n",
              "      background-color: #3B4455;\n",
              "      fill: #D2E3FC;\n",
              "    }\n",
              "\n",
              "    [theme=dark] .colab-df-convert:hover {\n",
              "      background-color: #434B5C;\n",
              "      box-shadow: 0px 1px 3px 1px rgba(0, 0, 0, 0.15);\n",
              "      filter: drop-shadow(0px 1px 2px rgba(0, 0, 0, 0.3));\n",
              "      fill: #FFFFFF;\n",
              "    }\n",
              "  </style>\n",
              "\n",
              "      <script>\n",
              "        const buttonEl =\n",
              "          document.querySelector('#df-349ce7b0-393e-4c8c-b541-da14a7c07654 button.colab-df-convert');\n",
              "        buttonEl.style.display =\n",
              "          google.colab.kernel.accessAllowed ? 'block' : 'none';\n",
              "\n",
              "        async function convertToInteractive(key) {\n",
              "          const element = document.querySelector('#df-349ce7b0-393e-4c8c-b541-da14a7c07654');\n",
              "          const dataTable =\n",
              "            await google.colab.kernel.invokeFunction('convertToInteractive',\n",
              "                                                     [key], {});\n",
              "          if (!dataTable) return;\n",
              "\n",
              "          const docLinkHtml = 'Like what you see? Visit the ' +\n",
              "            '<a target=\"_blank\" href=https://colab.research.google.com/notebooks/data_table.ipynb>data table notebook</a>'\n",
              "            + ' to learn more about interactive tables.';\n",
              "          element.innerHTML = '';\n",
              "          dataTable['output_type'] = 'display_data';\n",
              "          await google.colab.output.renderOutput(dataTable, element);\n",
              "          const docLink = document.createElement('div');\n",
              "          docLink.innerHTML = docLinkHtml;\n",
              "          element.appendChild(docLink);\n",
              "        }\n",
              "      </script>\n",
              "    </div>\n",
              "  </div>\n",
              "  "
            ]
          },
          "metadata": {},
          "execution_count": 80
        }
      ]
    },
    {
      "cell_type": "markdown",
      "source": [
        "Quantas marcas e quais são as marcas de veículos?"
      ],
      "metadata": {
        "id": "OtGZ1Lev-3jw"
      }
    },
    {
      "cell_type": "code",
      "source": [
        "df['makex'].unique()"
      ],
      "metadata": {
        "colab": {
          "base_uri": "https://localhost:8080/"
        },
        "id": "CIAXQ6mK-9Ix",
        "outputId": "1e13de28-7248-4ead-f734-7a395f55b4a2"
      },
      "execution_count": null,
      "outputs": [
        {
          "output_type": "execute_result",
          "data": {
            "text/plain": [
              "array(['BUICK', 'DODGE', 'OLDSMOBILE', 'KIA', 'CHEVROLET', 'MITSUBISHI',\n",
              "       'FORD', 'MERCURY', 'PONTIAC', 'DAEWOO', 'NISSAN', 'GEO',\n",
              "       'CHRYSLER', 'MAZDA', 'PLYMOUTH', 'TOYOTA', 'HONDA', 'HYUNDAI',\n",
              "       'OTHER', 'CADILLAC'], dtype=object)"
            ]
          },
          "metadata": {},
          "execution_count": 81
        }
      ]
    },
    {
      "cell_type": "markdown",
      "source": [
        "### Quais os veículos com Idade maior que 11 anos?"
      ],
      "metadata": {
        "id": "XQy-Z8v4_5bh"
      }
    },
    {
      "cell_type": "code",
      "source": [
        "df[df['vehicle.age'] > 11]"
      ],
      "metadata": {
        "colab": {
          "base_uri": "https://localhost:8080/",
          "height": 143
        },
        "id": "EZKDKyaDAKj-",
        "outputId": "ba497924-24e6-40b7-d002-eaeedef411b6"
      },
      "execution_count": null,
      "outputs": [
        {
          "output_type": "execute_result",
          "data": {
            "text/plain": [
              "      data.set  total.cost  lot.sale.days overage  mileage   vehicle.type  \\\n",
              "50       TRAIN        3767            233     YES    87086  FAMILY.MEDIUM   \n",
              "209      TRAIN        2954            101     YES   115427   FAMILY.SMALL   \n",
              "2710  VALIDATE        2530            143     YES   108709        ECONOMY   \n",
              "\n",
              "     domestic.import  vehicle.age vehicle.age.group color.set       makex  \\\n",
              "50          Domestic           12            SEVEN+      BLUE  OLDSMOBILE   \n",
              "209           Import           12            SEVEN+      GOLD       MAZDA   \n",
              "2710        Domestic           12            SEVEN+     WHITE   CHEVROLET   \n",
              "\n",
              "     state         make.model  \n",
              "50      VA   OLDSMOBILE.CIERA  \n",
              "209     VA          MAZDA.626  \n",
              "2710    VA  CHEVROLET.CORSICA  "
            ],
            "text/html": [
              "\n",
              "  <div id=\"df-98f1ed07-60eb-4abf-9af9-c7c3516fb922\">\n",
              "    <div class=\"colab-df-container\">\n",
              "      <div>\n",
              "<style scoped>\n",
              "    .dataframe tbody tr th:only-of-type {\n",
              "        vertical-align: middle;\n",
              "    }\n",
              "\n",
              "    .dataframe tbody tr th {\n",
              "        vertical-align: top;\n",
              "    }\n",
              "\n",
              "    .dataframe thead th {\n",
              "        text-align: right;\n",
              "    }\n",
              "</style>\n",
              "<table border=\"1\" class=\"dataframe\">\n",
              "  <thead>\n",
              "    <tr style=\"text-align: right;\">\n",
              "      <th></th>\n",
              "      <th>data.set</th>\n",
              "      <th>total.cost</th>\n",
              "      <th>lot.sale.days</th>\n",
              "      <th>overage</th>\n",
              "      <th>mileage</th>\n",
              "      <th>vehicle.type</th>\n",
              "      <th>domestic.import</th>\n",
              "      <th>vehicle.age</th>\n",
              "      <th>vehicle.age.group</th>\n",
              "      <th>color.set</th>\n",
              "      <th>makex</th>\n",
              "      <th>state</th>\n",
              "      <th>make.model</th>\n",
              "    </tr>\n",
              "  </thead>\n",
              "  <tbody>\n",
              "    <tr>\n",
              "      <th>50</th>\n",
              "      <td>TRAIN</td>\n",
              "      <td>3767</td>\n",
              "      <td>233</td>\n",
              "      <td>YES</td>\n",
              "      <td>87086</td>\n",
              "      <td>FAMILY.MEDIUM</td>\n",
              "      <td>Domestic</td>\n",
              "      <td>12</td>\n",
              "      <td>SEVEN+</td>\n",
              "      <td>BLUE</td>\n",
              "      <td>OLDSMOBILE</td>\n",
              "      <td>VA</td>\n",
              "      <td>OLDSMOBILE.CIERA</td>\n",
              "    </tr>\n",
              "    <tr>\n",
              "      <th>209</th>\n",
              "      <td>TRAIN</td>\n",
              "      <td>2954</td>\n",
              "      <td>101</td>\n",
              "      <td>YES</td>\n",
              "      <td>115427</td>\n",
              "      <td>FAMILY.SMALL</td>\n",
              "      <td>Import</td>\n",
              "      <td>12</td>\n",
              "      <td>SEVEN+</td>\n",
              "      <td>GOLD</td>\n",
              "      <td>MAZDA</td>\n",
              "      <td>VA</td>\n",
              "      <td>MAZDA.626</td>\n",
              "    </tr>\n",
              "    <tr>\n",
              "      <th>2710</th>\n",
              "      <td>VALIDATE</td>\n",
              "      <td>2530</td>\n",
              "      <td>143</td>\n",
              "      <td>YES</td>\n",
              "      <td>108709</td>\n",
              "      <td>ECONOMY</td>\n",
              "      <td>Domestic</td>\n",
              "      <td>12</td>\n",
              "      <td>SEVEN+</td>\n",
              "      <td>WHITE</td>\n",
              "      <td>CHEVROLET</td>\n",
              "      <td>VA</td>\n",
              "      <td>CHEVROLET.CORSICA</td>\n",
              "    </tr>\n",
              "  </tbody>\n",
              "</table>\n",
              "</div>\n",
              "      <button class=\"colab-df-convert\" onclick=\"convertToInteractive('df-98f1ed07-60eb-4abf-9af9-c7c3516fb922')\"\n",
              "              title=\"Convert this dataframe to an interactive table.\"\n",
              "              style=\"display:none;\">\n",
              "        \n",
              "  <svg xmlns=\"http://www.w3.org/2000/svg\" height=\"24px\"viewBox=\"0 0 24 24\"\n",
              "       width=\"24px\">\n",
              "    <path d=\"M0 0h24v24H0V0z\" fill=\"none\"/>\n",
              "    <path d=\"M18.56 5.44l.94 2.06.94-2.06 2.06-.94-2.06-.94-.94-2.06-.94 2.06-2.06.94zm-11 1L8.5 8.5l.94-2.06 2.06-.94-2.06-.94L8.5 2.5l-.94 2.06-2.06.94zm10 10l.94 2.06.94-2.06 2.06-.94-2.06-.94-.94-2.06-.94 2.06-2.06.94z\"/><path d=\"M17.41 7.96l-1.37-1.37c-.4-.4-.92-.59-1.43-.59-.52 0-1.04.2-1.43.59L10.3 9.45l-7.72 7.72c-.78.78-.78 2.05 0 2.83L4 21.41c.39.39.9.59 1.41.59.51 0 1.02-.2 1.41-.59l7.78-7.78 2.81-2.81c.8-.78.8-2.07 0-2.86zM5.41 20L4 18.59l7.72-7.72 1.47 1.35L5.41 20z\"/>\n",
              "  </svg>\n",
              "      </button>\n",
              "      \n",
              "  <style>\n",
              "    .colab-df-container {\n",
              "      display:flex;\n",
              "      flex-wrap:wrap;\n",
              "      gap: 12px;\n",
              "    }\n",
              "\n",
              "    .colab-df-convert {\n",
              "      background-color: #E8F0FE;\n",
              "      border: none;\n",
              "      border-radius: 50%;\n",
              "      cursor: pointer;\n",
              "      display: none;\n",
              "      fill: #1967D2;\n",
              "      height: 32px;\n",
              "      padding: 0 0 0 0;\n",
              "      width: 32px;\n",
              "    }\n",
              "\n",
              "    .colab-df-convert:hover {\n",
              "      background-color: #E2EBFA;\n",
              "      box-shadow: 0px 1px 2px rgba(60, 64, 67, 0.3), 0px 1px 3px 1px rgba(60, 64, 67, 0.15);\n",
              "      fill: #174EA6;\n",
              "    }\n",
              "\n",
              "    [theme=dark] .colab-df-convert {\n",
              "      background-color: #3B4455;\n",
              "      fill: #D2E3FC;\n",
              "    }\n",
              "\n",
              "    [theme=dark] .colab-df-convert:hover {\n",
              "      background-color: #434B5C;\n",
              "      box-shadow: 0px 1px 3px 1px rgba(0, 0, 0, 0.15);\n",
              "      filter: drop-shadow(0px 1px 2px rgba(0, 0, 0, 0.3));\n",
              "      fill: #FFFFFF;\n",
              "    }\n",
              "  </style>\n",
              "\n",
              "      <script>\n",
              "        const buttonEl =\n",
              "          document.querySelector('#df-98f1ed07-60eb-4abf-9af9-c7c3516fb922 button.colab-df-convert');\n",
              "        buttonEl.style.display =\n",
              "          google.colab.kernel.accessAllowed ? 'block' : 'none';\n",
              "\n",
              "        async function convertToInteractive(key) {\n",
              "          const element = document.querySelector('#df-98f1ed07-60eb-4abf-9af9-c7c3516fb922');\n",
              "          const dataTable =\n",
              "            await google.colab.kernel.invokeFunction('convertToInteractive',\n",
              "                                                     [key], {});\n",
              "          if (!dataTable) return;\n",
              "\n",
              "          const docLinkHtml = 'Like what you see? Visit the ' +\n",
              "            '<a target=\"_blank\" href=https://colab.research.google.com/notebooks/data_table.ipynb>data table notebook</a>'\n",
              "            + ' to learn more about interactive tables.';\n",
              "          element.innerHTML = '';\n",
              "          dataTable['output_type'] = 'display_data';\n",
              "          await google.colab.output.renderOutput(dataTable, element);\n",
              "          const docLink = document.createElement('div');\n",
              "          docLink.innerHTML = docLinkHtml;\n",
              "          element.appendChild(docLink);\n",
              "        }\n",
              "      </script>\n",
              "    </div>\n",
              "  </div>\n",
              "  "
            ]
          },
          "metadata": {},
          "execution_count": 91
        }
      ]
    },
    {
      "cell_type": "markdown",
      "metadata": {
        "id": "M_IUcbIsupYu"
      },
      "source": [
        "### Visualizando a dispersão entre os dias de vendas (lot.sale.days) e algumas variáveis"
      ]
    },
    {
      "cell_type": "code",
      "metadata": {
        "id": "UTMVbtt5upYv",
        "outputId": "07eaf484-5d48-4e6c-e36e-c6304444b3d6",
        "colab": {
          "base_uri": "https://localhost:8080/",
          "height": 299
        }
      },
      "source": [
        "# lot.sale.days com total.cost\n",
        "\n",
        "%matplotlib inline\n",
        "sns.scatterplot(x='lot.sale.days', y=\"total.cost\", data=df)"
      ],
      "execution_count": null,
      "outputs": [
        {
          "output_type": "execute_result",
          "data": {
            "text/plain": [
              "<matplotlib.axes._subplots.AxesSubplot at 0x7f8f77b16b50>"
            ]
          },
          "metadata": {},
          "execution_count": 19
        },
        {
          "output_type": "display_data",
          "data": {
            "text/plain": [
              "<Figure size 432x288 with 1 Axes>"
            ],
            "image/png": "[encoded data removed]"
          },
          "metadata": {
            "needs_background": "light"
          }
        }
      ]
    },
    {
      "cell_type": "code",
      "metadata": {
        "id": "6vyryClpupY0",
        "outputId": "3d4be96d-c7a8-4cda-8bb7-38109862d8ca",
        "colab": {
          "base_uri": "https://localhost:8080/",
          "height": 299
        }
      },
      "source": [
        "# lot.sale.days com mileage\n",
        "\n",
        "%matplotlib inline\n",
        "sns.scatterplot(x='lot.sale.days', y=\"mileage\", color='green', data=df)"
      ],
      "execution_count": null,
      "outputs": [
        {
          "output_type": "execute_result",
          "data": {
            "text/plain": [
              "<matplotlib.axes._subplots.AxesSubplot at 0x7f8f895fd490>"
            ]
          },
          "metadata": {},
          "execution_count": 21
        },
        {
          "output_type": "display_data",
          "data": {
            "text/plain": [
              "<Figure size 432x288 with 1 Axes>"
            ],
            "image/png": "[encoded data removed]"
          },
          "metadata": {
            "needs_background": "light"
          }
        }
      ]
    },
    {
      "cell_type": "markdown",
      "metadata": {
        "id": "DiHtR8mKupY5"
      },
      "source": [
        "### Tempo médio de vendas por tipos de Veiculos (domestic.import)"
      ]
    },
    {
      "cell_type": "code",
      "metadata": {
        "id": "ejV2yOjmupY6",
        "outputId": "b7f284ac-02a0-4b10-f69f-8e275aef9100",
        "colab": {
          "base_uri": "https://localhost:8080/",
          "height": 299
        }
      },
      "source": [
        "%matplotlib inline\n",
        "sns.boxplot(x=\"domestic.import\", y=\"lot.sale.days\", data=df)"
      ],
      "execution_count": null,
      "outputs": [
        {
          "output_type": "execute_result",
          "data": {
            "text/plain": [
              "<matplotlib.axes._subplots.AxesSubplot at 0x7f8f77de7850>"
            ]
          },
          "metadata": {},
          "execution_count": 22
        },
        {
          "output_type": "display_data",
          "data": {
            "text/plain": [
              "<Figure size 432x288 with 1 Axes>"
            ],
            "image/png": "[encoded data removed]"
          },
          "metadata": {
            "needs_background": "light"
          }
        }
      ]
    },
    {
      "cell_type": "markdown",
      "metadata": {
        "id": "gU0LOGEuupY-"
      },
      "source": [
        "### Tempo médio de vendas por categoria de Veiculos\n",
        "\n",
        "`lot.sale.days` por `vehicle.type`"
      ]
    },
    {
      "cell_type": "code",
      "metadata": {
        "id": "mS52et0TupZA",
        "outputId": "f17e9d83-888f-49f2-9c38-588f90c3f772",
        "colab": {
          "base_uri": "https://localhost:8080/",
          "height": 299
        }
      },
      "source": [
        "%matplotlib inline\n",
        "sns.boxplot(x=\"vehicle.type\", y=\"lot.sale.days\", data=df)"
      ],
      "execution_count": null,
      "outputs": [
        {
          "output_type": "execute_result",
          "data": {
            "text/plain": [
              "<matplotlib.axes._subplots.AxesSubplot at 0x7f8f75f87950>"
            ]
          },
          "metadata": {},
          "execution_count": 25
        },
        {
          "output_type": "display_data",
          "data": {
            "text/plain": [
              "<Figure size 432x288 with 1 Axes>"
            ],
            "image/png": "[encoded data removed]"
          },
          "metadata": {
            "needs_background": "light"
          }
        }
      ]
    },
    {
      "cell_type": "markdown",
      "metadata": {
        "id": "AcFEnkuwupZI"
      },
      "source": [
        "- *Não existem diferenças significativas entre veículos domesticos e veículos importados em termos de quão rápido eles são vendidos.*\n",
        "- *Veiculos econômicos demoram um pouco mais para serem vendidos se comparado veículos de família, de luxo ou sedans.*\n",
        "- *Em média, leva 90 dias para vender veículos econômicos,  84 dias para vender veículos de família e 40 dias para vender veículos de luxo.*"
      ]
    },
    {
      "cell_type": "markdown",
      "metadata": {
        "id": "RQ-54JMlupZK"
      },
      "source": [
        "### Tempo médio de vendas por cor de Veiculos"
      ]
    },
    {
      "cell_type": "code",
      "metadata": {
        "id": "WxuoQayPupZL",
        "outputId": "7d7924dd-6d6e-4444-87b6-23f57868f266",
        "colab": {
          "base_uri": "https://localhost:8080/",
          "height": 299
        }
      },
      "source": [
        "%matplotlib inline\n",
        "sns.boxplot(x=\"color.set\", y=\"lot.sale.days\", data=df)"
      ],
      "execution_count": null,
      "outputs": [
        {
          "output_type": "execute_result",
          "data": {
            "text/plain": [
              "<matplotlib.axes._subplots.AxesSubplot at 0x7f8f75ede050>"
            ]
          },
          "metadata": {},
          "execution_count": 26
        },
        {
          "output_type": "display_data",
          "data": {
            "text/plain": [
              "<Figure size 432x288 with 1 Axes>"
            ],
            "image/png": "[encoded data removed]"
          },
          "metadata": {
            "needs_background": "light"
          }
        }
      ]
    },
    {
      "cell_type": "markdown",
      "metadata": {
        "id": "YmJFXVFLupZS"
      },
      "source": [
        "- *Podemos observar que nesse gráfico que em média os carros que saem mais rápido são carros pretos.*\n",
        "- *Em segundo lugar são carros dourados com 53 dias. Por fim os carros que demoram mais para serem vendidos são carros brancos com 90 dias*"
      ]
    },
    {
      "cell_type": "markdown",
      "metadata": {
        "id": "hd-MkzsaupZT"
      },
      "source": [
        "### Tempo médio de vendas (lot.sale.days) por marca dos Veiculos (makex)"
      ]
    },
    {
      "cell_type": "code",
      "metadata": {
        "id": "KQDSmDTYupZU",
        "outputId": "cc613292-2815-4f26-b968-ecb606bc2d1a",
        "colab": {
          "base_uri": "https://localhost:8080/",
          "height": 312
        }
      },
      "source": [
        "%matplotlib inline\n",
        "sns.boxplot(x=\"makex\", y=\"lot.sale.days\", data=df)\n",
        "plt.xticks(size=5)"
      ],
      "execution_count": null,
      "outputs": [
        {
          "output_type": "execute_result",
          "data": {
            "text/plain": [
              "(array([ 0,  1,  2,  3,  4,  5,  6,  7,  8,  9, 10, 11, 12, 13, 14, 15, 16,\n",
              "        17, 18, 19]), <a list of 20 Text major ticklabel objects>)"
            ]
          },
          "metadata": {},
          "execution_count": 29
        },
        {
          "output_type": "display_data",
          "data": {
            "text/plain": [
              "<Figure size 432x288 with 1 Axes>"
            ],
            "image/png": "[encoded data removed]"
          },
          "metadata": {
            "needs_background": "light"
          }
        }
      ]
    },
    {
      "cell_type": "markdown",
      "metadata": {
        "id": "5dsTfc5pupZa"
      },
      "source": [
        "- *Marcas tem uma grande diferença no tempo de vendas dos veículos.*\n",
        "- *Algumas marcas de veículos quem vendem rápido tendem a ser Honda, Chrysler, Dodge, Hyundai, Plymouth.*\n",
        "- *As marcas Daewoo, Oldsmobile, Buick e GEO permanecem por mais tempo antes de serem vendidos.*"
      ]
    },
    {
      "cell_type": "markdown",
      "metadata": {
        "id": "zj_F17VJupZb"
      },
      "source": [
        "### Tempo médio de vendas por estado"
      ]
    },
    {
      "cell_type": "code",
      "metadata": {
        "id": "X0JOSjJwupZd",
        "outputId": "a33d1aca-b70f-499d-a4a8-441fc168024b",
        "colab": {
          "base_uri": "https://localhost:8080/",
          "height": 299
        }
      },
      "source": [
        "%matplotlib inline\n",
        "sns.boxplot(x=\"state\", y=\"lot.sale.days\", data=df)"
      ],
      "execution_count": null,
      "outputs": [
        {
          "output_type": "execute_result",
          "data": {
            "text/plain": [
              "<matplotlib.axes._subplots.AxesSubplot at 0x7f8f75bc5810>"
            ]
          },
          "metadata": {},
          "execution_count": 30
        },
        {
          "output_type": "display_data",
          "data": {
            "text/plain": [
              "<Figure size 432x288 with 1 Axes>"
            ],
            "image/png": "[encoded data removed]"
          },
          "metadata": {
            "needs_background": "light"
          }
        }
      ]
    },
    {
      "cell_type": "code",
      "source": [],
      "metadata": {
        "id": "jbni5GV_6qAt"
      },
      "execution_count": null,
      "outputs": []
    },
    {
      "cell_type": "markdown",
      "metadata": {
        "id": "JC4DkcSjupZj"
      },
      "source": [
        "- *Alguns estados como California, Georgia e Texas tem diferença significante de dias para serem vendidos se comparado com Florida, Arizona e Nevada.*\n"
      ]
    },
    {
      "cell_type": "markdown",
      "metadata": {
        "id": "G-sX9UPXupZl"
      },
      "source": [
        "## Construindo um Modelo de Machine Learning\n",
        "\n",
        "Agora que já demos uma olhada nos nossos dados, entendemos algumas correlações e etc, vamos fazer um modelo de *Machine Learning*? Vamos lá..."
      ]
    },
    {
      "cell_type": "code",
      "metadata": {
        "id": "UJaKHq44upZm",
        "colab": {
          "base_uri": "https://localhost:8080/",
          "height": 285
        },
        "outputId": "65ac6688-59cd-4fec-8d4e-971380d4dc9b"
      },
      "source": [
        "df.head()"
      ],
      "execution_count": null,
      "outputs": [
        {
          "output_type": "execute_result",
          "data": {
            "text/plain": [
              "  data.set  total.cost  lot.sale.days overage  mileage   vehicle.type  \\\n",
              "0    TRAIN        4037            135     YES    67341   FAMILY.LARGE   \n",
              "1    TRAIN        6886            114     YES    72823  FAMILY.MEDIUM   \n",
              "2    TRAIN        3924            205     YES    96330  FAMILY.MEDIUM   \n",
              "3    TRAIN        4636            100     YES    58519        ECONOMY   \n",
              "4    TRAIN        5080            129     YES    99057  FAMILY.MEDIUM   \n",
              "\n",
              "  domestic.import  vehicle.age vehicle.age.group color.set       makex state  \\\n",
              "0        Domestic            8            SEVEN+    SILVER       BUICK    CA   \n",
              "1        Domestic            6               SIX     WHITE       DODGE    AZ   \n",
              "2        Domestic            9            SEVEN+     WHITE  OLDSMOBILE    FL   \n",
              "3          Import            4              FOUR      GOLD         KIA    NV   \n",
              "4        Domestic            4              FOUR     GREEN  OLDSMOBILE    NV   \n",
              "\n",
              "                   make.model  \n",
              "0               BUICK.CENTURY  \n",
              "1                  DODGE.NEON  \n",
              "2  OLDSMOBILE.CUTLASS SUPREME  \n",
              "3                  KIA.SEPHIA  \n",
              "4  OLDSMOBILE.CUTLASS SUPREME  "
            ],
            "text/html": [
              "\n",
              "  <div id=\"df-583d480f-cb0f-4590-b007-ad9f7c79d2d3\">\n",
              "    <div class=\"colab-df-container\">\n",
              "      <div>\n",
              "<style scoped>\n",
              "    .dataframe tbody tr th:only-of-type {\n",
              "        vertical-align: middle;\n",
              "    }\n",
              "\n",
              "    .dataframe tbody tr th {\n",
              "        vertical-align: top;\n",
              "    }\n",
              "\n",
              "    .dataframe thead th {\n",
              "        text-align: right;\n",
              "    }\n",
              "</style>\n",
              "<table border=\"1\" class=\"dataframe\">\n",
              "  <thead>\n",
              "    <tr style=\"text-align: right;\">\n",
              "      <th></th>\n",
              "      <th>data.set</th>\n",
              "      <th>total.cost</th>\n",
              "      <th>lot.sale.days</th>\n",
              "      <th>overage</th>\n",
              "      <th>mileage</th>\n",
              "      <th>vehicle.type</th>\n",
              "      <th>domestic.import</th>\n",
              "      <th>vehicle.age</th>\n",
              "      <th>vehicle.age.group</th>\n",
              "      <th>color.set</th>\n",
              "      <th>makex</th>\n",
              "      <th>state</th>\n",
              "      <th>make.model</th>\n",
              "    </tr>\n",
              "  </thead>\n",
              "  <tbody>\n",
              "    <tr>\n",
              "      <th>0</th>\n",
              "      <td>TRAIN</td>\n",
              "      <td>4037</td>\n",
              "      <td>135</td>\n",
              "      <td>YES</td>\n",
              "      <td>67341</td>\n",
              "      <td>FAMILY.LARGE</td>\n",
              "      <td>Domestic</td>\n",
              "      <td>8</td>\n",
              "      <td>SEVEN+</td>\n",
              "      <td>SILVER</td>\n",
              "      <td>BUICK</td>\n",
              "      <td>CA</td>\n",
              "      <td>BUICK.CENTURY</td>\n",
              "    </tr>\n",
              "    <tr>\n",
              "      <th>1</th>\n",
              "      <td>TRAIN</td>\n",
              "      <td>6886</td>\n",
              "      <td>114</td>\n",
              "      <td>YES</td>\n",
              "      <td>72823</td>\n",
              "      <td>FAMILY.MEDIUM</td>\n",
              "      <td>Domestic</td>\n",
              "      <td>6</td>\n",
              "      <td>SIX</td>\n",
              "      <td>WHITE</td>\n",
              "      <td>DODGE</td>\n",
              "      <td>AZ</td>\n",
              "      <td>DODGE.NEON</td>\n",
              "    </tr>\n",
              "    <tr>\n",
              "      <th>2</th>\n",
              "      <td>TRAIN</td>\n",
              "      <td>3924</td>\n",
              "      <td>205</td>\n",
              "      <td>YES</td>\n",
              "      <td>96330</td>\n",
              "      <td>FAMILY.MEDIUM</td>\n",
              "      <td>Domestic</td>\n",
              "      <td>9</td>\n",
              "      <td>SEVEN+</td>\n",
              "      <td>WHITE</td>\n",
              "      <td>OLDSMOBILE</td>\n",
              "      <td>FL</td>\n",
              "      <td>OLDSMOBILE.CUTLASS SUPREME</td>\n",
              "    </tr>\n",
              "    <tr>\n",
              "      <th>3</th>\n",
              "      <td>TRAIN</td>\n",
              "      <td>4636</td>\n",
              "      <td>100</td>\n",
              "      <td>YES</td>\n",
              "      <td>58519</td>\n",
              "      <td>ECONOMY</td>\n",
              "      <td>Import</td>\n",
              "      <td>4</td>\n",
              "      <td>FOUR</td>\n",
              "      <td>GOLD</td>\n",
              "      <td>KIA</td>\n",
              "      <td>NV</td>\n",
              "      <td>KIA.SEPHIA</td>\n",
              "    </tr>\n",
              "    <tr>\n",
              "      <th>4</th>\n",
              "      <td>TRAIN</td>\n",
              "      <td>5080</td>\n",
              "      <td>129</td>\n",
              "      <td>YES</td>\n",
              "      <td>99057</td>\n",
              "      <td>FAMILY.MEDIUM</td>\n",
              "      <td>Domestic</td>\n",
              "      <td>4</td>\n",
              "      <td>FOUR</td>\n",
              "      <td>GREEN</td>\n",
              "      <td>OLDSMOBILE</td>\n",
              "      <td>NV</td>\n",
              "      <td>OLDSMOBILE.CUTLASS SUPREME</td>\n",
              "    </tr>\n",
              "  </tbody>\n",
              "</table>\n",
              "</div>\n",
              "      <button class=\"colab-df-convert\" onclick=\"convertToInteractive('df-583d480f-cb0f-4590-b007-ad9f7c79d2d3')\"\n",
              "              title=\"Convert this dataframe to an interactive table.\"\n",
              "              style=\"display:none;\">\n",
              "        \n",
              "  <svg xmlns=\"http://www.w3.org/2000/svg\" height=\"24px\"viewBox=\"0 0 24 24\"\n",
              "       width=\"24px\">\n",
              "    <path d=\"M0 0h24v24H0V0z\" fill=\"none\"/>\n",
              "    <path d=\"M18.56 5.44l.94 2.06.94-2.06 2.06-.94-2.06-.94-.94-2.06-.94 2.06-2.06.94zm-11 1L8.5 8.5l.94-2.06 2.06-.94-2.06-.94L8.5 2.5l-.94 2.06-2.06.94zm10 10l.94 2.06.94-2.06 2.06-.94-2.06-.94-.94-2.06-.94 2.06-2.06.94z\"/><path d=\"M17.41 7.96l-1.37-1.37c-.4-.4-.92-.59-1.43-.59-.52 0-1.04.2-1.43.59L10.3 9.45l-7.72 7.72c-.78.78-.78 2.05 0 2.83L4 21.41c.39.39.9.59 1.41.59.51 0 1.02-.2 1.41-.59l7.78-7.78 2.81-2.81c.8-.78.8-2.07 0-2.86zM5.41 20L4 18.59l7.72-7.72 1.47 1.35L5.41 20z\"/>\n",
              "  </svg>\n",
              "      </button>\n",
              "      \n",
              "  <style>\n",
              "    .colab-df-container {\n",
              "      display:flex;\n",
              "      flex-wrap:wrap;\n",
              "      gap: 12px;\n",
              "    }\n",
              "\n",
              "    .colab-df-convert {\n",
              "      background-color: #E8F0FE;\n",
              "      border: none;\n",
              "      border-radius: 50%;\n",
              "      cursor: pointer;\n",
              "      display: none;\n",
              "      fill: #1967D2;\n",
              "      height: 32px;\n",
              "      padding: 0 0 0 0;\n",
              "      width: 32px;\n",
              "    }\n",
              "\n",
              "    .colab-df-convert:hover {\n",
              "      background-color: #E2EBFA;\n",
              "      box-shadow: 0px 1px 2px rgba(60, 64, 67, 0.3), 0px 1px 3px 1px rgba(60, 64, 67, 0.15);\n",
              "      fill: #174EA6;\n",
              "    }\n",
              "\n",
              "    [theme=dark] .colab-df-convert {\n",
              "      background-color: #3B4455;\n",
              "      fill: #D2E3FC;\n",
              "    }\n",
              "\n",
              "    [theme=dark] .colab-df-convert:hover {\n",
              "      background-color: #434B5C;\n",
              "      box-shadow: 0px 1px 3px 1px rgba(0, 0, 0, 0.15);\n",
              "      filter: drop-shadow(0px 1px 2px rgba(0, 0, 0, 0.3));\n",
              "      fill: #FFFFFF;\n",
              "    }\n",
              "  </style>\n",
              "\n",
              "      <script>\n",
              "        const buttonEl =\n",
              "          document.querySelector('#df-583d480f-cb0f-4590-b007-ad9f7c79d2d3 button.colab-df-convert');\n",
              "        buttonEl.style.display =\n",
              "          google.colab.kernel.accessAllowed ? 'block' : 'none';\n",
              "\n",
              "        async function convertToInteractive(key) {\n",
              "          const element = document.querySelector('#df-583d480f-cb0f-4590-b007-ad9f7c79d2d3');\n",
              "          const dataTable =\n",
              "            await google.colab.kernel.invokeFunction('convertToInteractive',\n",
              "                                                     [key], {});\n",
              "          if (!dataTable) return;\n",
              "\n",
              "          const docLinkHtml = 'Like what you see? Visit the ' +\n",
              "            '<a target=\"_blank\" href=https://colab.research.google.com/notebooks/data_table.ipynb>data table notebook</a>'\n",
              "            + ' to learn more about interactive tables.';\n",
              "          element.innerHTML = '';\n",
              "          dataTable['output_type'] = 'display_data';\n",
              "          await google.colab.output.renderOutput(dataTable, element);\n",
              "          const docLink = document.createElement('div');\n",
              "          docLink.innerHTML = docLinkHtml;\n",
              "          element.appendChild(docLink);\n",
              "        }\n",
              "      </script>\n",
              "    </div>\n",
              "  </div>\n",
              "  "
            ]
          },
          "metadata": {},
          "execution_count": 31
        }
      ]
    },
    {
      "cell_type": "markdown",
      "metadata": {
        "id": "Lz-GsDgrupZr"
      },
      "source": [
        "**Pre-processando os dados**"
      ]
    },
    {
      "cell_type": "markdown",
      "metadata": {
        "id": "Byd2LQz4upZt"
      },
      "source": [
        "- Precisamos pré-processar algumas colunas, pois, são colunas categóricas.\n",
        "- Nesta etapa também removemos colunas não importantes para o modelo."
      ]
    },
    {
      "cell_type": "markdown",
      "metadata": {
        "id": "IhtwnSKjupZv"
      },
      "source": [
        "Removendo as colunas `vehicle.age.group` e `data.set` - não importantes para o modelo"
      ]
    },
    {
      "cell_type": "code",
      "metadata": {
        "id": "8FbqWeZdupZw"
      },
      "source": [
        "df.drop('vehicle.age.group', axis=1, inplace=True)"
      ],
      "execution_count": null,
      "outputs": []
    },
    {
      "cell_type": "code",
      "metadata": {
        "id": "g62HreZrupZ0"
      },
      "source": [
        "df.drop('data.set', axis=1, inplace=True)"
      ],
      "execution_count": null,
      "outputs": []
    },
    {
      "cell_type": "markdown",
      "metadata": {
        "id": "BK3wr16FupZ6"
      },
      "source": [
        "**Aplicando o LabelEncoder para codificação de variáveis categóricas**\n",
        "\n",
        "\"Descategorizando\" variáveis categóricas (transformando variáveis categóricas em numéricas)"
      ]
    },
    {
      "cell_type": "code",
      "metadata": {
        "id": "nMTixybaupZ7"
      },
      "source": [
        "from sklearn.preprocessing import LabelEncoder"
      ],
      "execution_count": null,
      "outputs": []
    },
    {
      "cell_type": "code",
      "metadata": {
        "id": "D2Tb2UxJupaC"
      },
      "source": [
        "label_encoder1 = LabelEncoder()\n",
        "label_encoder2 = LabelEncoder()\n",
        "label_encoder3 = LabelEncoder()\n",
        "label_encoder4 = LabelEncoder()\n",
        "label_encoder5 = LabelEncoder()\n",
        "label_encoder6 = LabelEncoder()"
      ],
      "execution_count": null,
      "outputs": []
    },
    {
      "cell_type": "markdown",
      "metadata": {
        "id": "0zqY_q5bupaI"
      },
      "source": [
        "**Aplica o Labelencoder nos dados categóricos**"
      ]
    },
    {
      "cell_type": "code",
      "metadata": {
        "id": "yBZ-a3WRupaJ"
      },
      "source": [
        "df['vehicle.type'] = label_encoder1.fit_transform(df['vehicle.type'])\n",
        "df['domestic.import'] = label_encoder2.fit_transform(df['domestic.import'])\n",
        "df['color.set'] = label_encoder3.fit_transform(df['color.set'])\n",
        "df['makex'] = label_encoder4.fit_transform(df['makex'])\n",
        "df['state'] = label_encoder5.fit_transform(df['state'])\n",
        "df['make.model'] = label_encoder6.fit_transform(df['make.model'])"
      ],
      "execution_count": null,
      "outputs": []
    },
    {
      "cell_type": "markdown",
      "metadata": {
        "id": "Bykv5i3NupaR"
      },
      "source": [
        "**Dados transformados**"
      ]
    },
    {
      "cell_type": "code",
      "metadata": {
        "id": "xACsfcEBupaS",
        "colab": {
          "base_uri": "https://localhost:8080/",
          "height": 206
        },
        "outputId": "4fbc57be-f61a-4aee-bc69-cdd4a71d808e"
      },
      "source": [
        "# Visualizando os 5 primeiros registros\n",
        "df.head()"
      ],
      "execution_count": null,
      "outputs": [
        {
          "output_type": "execute_result",
          "data": {
            "text/plain": [
              "   total.cost  lot.sale.days overage  mileage  vehicle.type  domestic.import  \\\n",
              "0        4037            135     YES    67341             1                0   \n",
              "1        6886            114     YES    72823             2                0   \n",
              "2        3924            205     YES    96330             2                0   \n",
              "3        4636            100     YES    58519             0                1   \n",
              "4        5080            129     YES    99057             2                0   \n",
              "\n",
              "   vehicle.age  color.set  makex  state  make.model  \n",
              "0            8          6      0      1           1  \n",
              "1            6          7      5      0          33  \n",
              "2            9          7     15      2          77  \n",
              "3            4          2     10      5          54  \n",
              "4            4          3     15      5          77  "
            ],
            "text/html": [
              "\n",
              "  <div id=\"df-cbbd0932-4eba-4e01-a2bd-26752ead4bdb\">\n",
              "    <div class=\"colab-df-container\">\n",
              "      <div>\n",
              "<style scoped>\n",
              "    .dataframe tbody tr th:only-of-type {\n",
              "        vertical-align: middle;\n",
              "    }\n",
              "\n",
              "    .dataframe tbody tr th {\n",
              "        vertical-align: top;\n",
              "    }\n",
              "\n",
              "    .dataframe thead th {\n",
              "        text-align: right;\n",
              "    }\n",
              "</style>\n",
              "<table border=\"1\" class=\"dataframe\">\n",
              "  <thead>\n",
              "    <tr style=\"text-align: right;\">\n",
              "      <th></th>\n",
              "      <th>total.cost</th>\n",
              "      <th>lot.sale.days</th>\n",
              "      <th>overage</th>\n",
              "      <th>mileage</th>\n",
              "      <th>vehicle.type</th>\n",
              "      <th>domestic.import</th>\n",
              "      <th>vehicle.age</th>\n",
              "      <th>color.set</th>\n",
              "      <th>makex</th>\n",
              "      <th>state</th>\n",
              "      <th>make.model</th>\n",
              "    </tr>\n",
              "  </thead>\n",
              "  <tbody>\n",
              "    <tr>\n",
              "      <th>0</th>\n",
              "      <td>4037</td>\n",
              "      <td>135</td>\n",
              "      <td>YES</td>\n",
              "      <td>67341</td>\n",
              "      <td>1</td>\n",
              "      <td>0</td>\n",
              "      <td>8</td>\n",
              "      <td>6</td>\n",
              "      <td>0</td>\n",
              "      <td>1</td>\n",
              "      <td>1</td>\n",
              "    </tr>\n",
              "    <tr>\n",
              "      <th>1</th>\n",
              "      <td>6886</td>\n",
              "      <td>114</td>\n",
              "      <td>YES</td>\n",
              "      <td>72823</td>\n",
              "      <td>2</td>\n",
              "      <td>0</td>\n",
              "      <td>6</td>\n",
              "      <td>7</td>\n",
              "      <td>5</td>\n",
              "      <td>0</td>\n",
              "      <td>33</td>\n",
              "    </tr>\n",
              "    <tr>\n",
              "      <th>2</th>\n",
              "      <td>3924</td>\n",
              "      <td>205</td>\n",
              "      <td>YES</td>\n",
              "      <td>96330</td>\n",
              "      <td>2</td>\n",
              "      <td>0</td>\n",
              "      <td>9</td>\n",
              "      <td>7</td>\n",
              "      <td>15</td>\n",
              "      <td>2</td>\n",
              "      <td>77</td>\n",
              "    </tr>\n",
              "    <tr>\n",
              "      <th>3</th>\n",
              "      <td>4636</td>\n",
              "      <td>100</td>\n",
              "      <td>YES</td>\n",
              "      <td>58519</td>\n",
              "      <td>0</td>\n",
              "      <td>1</td>\n",
              "      <td>4</td>\n",
              "      <td>2</td>\n",
              "      <td>10</td>\n",
              "      <td>5</td>\n",
              "      <td>54</td>\n",
              "    </tr>\n",
              "    <tr>\n",
              "      <th>4</th>\n",
              "      <td>5080</td>\n",
              "      <td>129</td>\n",
              "      <td>YES</td>\n",
              "      <td>99057</td>\n",
              "      <td>2</td>\n",
              "      <td>0</td>\n",
              "      <td>4</td>\n",
              "      <td>3</td>\n",
              "      <td>15</td>\n",
              "      <td>5</td>\n",
              "      <td>77</td>\n",
              "    </tr>\n",
              "  </tbody>\n",
              "</table>\n",
              "</div>\n",
              "      <button class=\"colab-df-convert\" onclick=\"convertToInteractive('df-cbbd0932-4eba-4e01-a2bd-26752ead4bdb')\"\n",
              "              title=\"Convert this dataframe to an interactive table.\"\n",
              "              style=\"display:none;\">\n",
              "        \n",
              "  <svg xmlns=\"http://www.w3.org/2000/svg\" height=\"24px\"viewBox=\"0 0 24 24\"\n",
              "       width=\"24px\">\n",
              "    <path d=\"M0 0h24v24H0V0z\" fill=\"none\"/>\n",
              "    <path d=\"M18.56 5.44l.94 2.06.94-2.06 2.06-.94-2.06-.94-.94-2.06-.94 2.06-2.06.94zm-11 1L8.5 8.5l.94-2.06 2.06-.94-2.06-.94L8.5 2.5l-.94 2.06-2.06.94zm10 10l.94 2.06.94-2.06 2.06-.94-2.06-.94-.94-2.06-.94 2.06-2.06.94z\"/><path d=\"M17.41 7.96l-1.37-1.37c-.4-.4-.92-.59-1.43-.59-.52 0-1.04.2-1.43.59L10.3 9.45l-7.72 7.72c-.78.78-.78 2.05 0 2.83L4 21.41c.39.39.9.59 1.41.59.51 0 1.02-.2 1.41-.59l7.78-7.78 2.81-2.81c.8-.78.8-2.07 0-2.86zM5.41 20L4 18.59l7.72-7.72 1.47 1.35L5.41 20z\"/>\n",
              "  </svg>\n",
              "      </button>\n",
              "      \n",
              "  <style>\n",
              "    .colab-df-container {\n",
              "      display:flex;\n",
              "      flex-wrap:wrap;\n",
              "      gap: 12px;\n",
              "    }\n",
              "\n",
              "    .colab-df-convert {\n",
              "      background-color: #E8F0FE;\n",
              "      border: none;\n",
              "      border-radius: 50%;\n",
              "      cursor: pointer;\n",
              "      display: none;\n",
              "      fill: #1967D2;\n",
              "      height: 32px;\n",
              "      padding: 0 0 0 0;\n",
              "      width: 32px;\n",
              "    }\n",
              "\n",
              "    .colab-df-convert:hover {\n",
              "      background-color: #E2EBFA;\n",
              "      box-shadow: 0px 1px 2px rgba(60, 64, 67, 0.3), 0px 1px 3px 1px rgba(60, 64, 67, 0.15);\n",
              "      fill: #174EA6;\n",
              "    }\n",
              "\n",
              "    [theme=dark] .colab-df-convert {\n",
              "      background-color: #3B4455;\n",
              "      fill: #D2E3FC;\n",
              "    }\n",
              "\n",
              "    [theme=dark] .colab-df-convert:hover {\n",
              "      background-color: #434B5C;\n",
              "      box-shadow: 0px 1px 3px 1px rgba(0, 0, 0, 0.15);\n",
              "      filter: drop-shadow(0px 1px 2px rgba(0, 0, 0, 0.3));\n",
              "      fill: #FFFFFF;\n",
              "    }\n",
              "  </style>\n",
              "\n",
              "      <script>\n",
              "        const buttonEl =\n",
              "          document.querySelector('#df-cbbd0932-4eba-4e01-a2bd-26752ead4bdb button.colab-df-convert');\n",
              "        buttonEl.style.display =\n",
              "          google.colab.kernel.accessAllowed ? 'block' : 'none';\n",
              "\n",
              "        async function convertToInteractive(key) {\n",
              "          const element = document.querySelector('#df-cbbd0932-4eba-4e01-a2bd-26752ead4bdb');\n",
              "          const dataTable =\n",
              "            await google.colab.kernel.invokeFunction('convertToInteractive',\n",
              "                                                     [key], {});\n",
              "          if (!dataTable) return;\n",
              "\n",
              "          const docLinkHtml = 'Like what you see? Visit the ' +\n",
              "            '<a target=\"_blank\" href=https://colab.research.google.com/notebooks/data_table.ipynb>data table notebook</a>'\n",
              "            + ' to learn more about interactive tables.';\n",
              "          element.innerHTML = '';\n",
              "          dataTable['output_type'] = 'display_data';\n",
              "          await google.colab.output.renderOutput(dataTable, element);\n",
              "          const docLink = document.createElement('div');\n",
              "          docLink.innerHTML = docLinkHtml;\n",
              "          element.appendChild(docLink);\n",
              "        }\n",
              "      </script>\n",
              "    </div>\n",
              "  </div>\n",
              "  "
            ]
          },
          "metadata": {},
          "execution_count": 70
        }
      ]
    },
    {
      "cell_type": "markdown",
      "metadata": {
        "id": "uSkEklGlupaY"
      },
      "source": [
        "**Separa a classe dos dados**\n",
        "\n",
        "A classe (target - y) aqui para nosso modelo será a variável: `overage`, que é a variável que mostra que o veículo foi vencido em menos de 90 dias ou não."
      ]
    },
    {
      "cell_type": "code",
      "metadata": {
        "id": "lY8FNnbOupaZ"
      },
      "source": [
        "y = df['overage']"
      ],
      "execution_count": null,
      "outputs": []
    },
    {
      "cell_type": "code",
      "metadata": {
        "id": "WVybY4qgupad",
        "colab": {
          "base_uri": "https://localhost:8080/"
        },
        "outputId": "cad382d5-c111-4699-e7bb-750dcaaeef08"
      },
      "source": [
        "y.head()"
      ],
      "execution_count": null,
      "outputs": [
        {
          "output_type": "execute_result",
          "data": {
            "text/plain": [
              "0    YES\n",
              "1    YES\n",
              "2    YES\n",
              "3    YES\n",
              "4    YES\n",
              "Name: overage, dtype: object"
            ]
          },
          "metadata": {},
          "execution_count": 72
        }
      ]
    },
    {
      "cell_type": "markdown",
      "metadata": {
        "id": "OTfNmHjfupah"
      },
      "source": [
        "**Apaga a coluna overage e a coluna lot.days.sales**\n",
        "\n",
        "Para X, apagamos os atributos: `overage` e `lot.days.sales` (essa última, para evitar viés)"
      ]
    },
    {
      "cell_type": "code",
      "metadata": {
        "id": "9lWXbAXnupai"
      },
      "source": [
        "X = df.drop(['lot.sale.days','overage'], axis=1)"
      ],
      "execution_count": null,
      "outputs": []
    },
    {
      "cell_type": "code",
      "metadata": {
        "id": "4WlFHlhkupao",
        "colab": {
          "base_uri": "https://localhost:8080/",
          "height": 206
        },
        "outputId": "e23ee23a-332d-4040-c677-9b4c21103040"
      },
      "source": [
        "X.head()"
      ],
      "execution_count": null,
      "outputs": [
        {
          "output_type": "execute_result",
          "data": {
            "text/plain": [
              "   total.cost  mileage  vehicle.type  domestic.import  vehicle.age  color.set  \\\n",
              "0        4037    67341             1                0            8          6   \n",
              "1        6886    72823             2                0            6          7   \n",
              "2        3924    96330             2                0            9          7   \n",
              "3        4636    58519             0                1            4          2   \n",
              "4        5080    99057             2                0            4          3   \n",
              "\n",
              "   makex  state  make.model  \n",
              "0      0      1           1  \n",
              "1      5      0          33  \n",
              "2     15      2          77  \n",
              "3     10      5          54  \n",
              "4     15      5          77  "
            ],
            "text/html": [
              "\n",
              "  <div id=\"df-73d24541-4247-41c1-b1de-81517d8b3e43\">\n",
              "    <div class=\"colab-df-container\">\n",
              "      <div>\n",
              "<style scoped>\n",
              "    .dataframe tbody tr th:only-of-type {\n",
              "        vertical-align: middle;\n",
              "    }\n",
              "\n",
              "    .dataframe tbody tr th {\n",
              "        vertical-align: top;\n",
              "    }\n",
              "\n",
              "    .dataframe thead th {\n",
              "        text-align: right;\n",
              "    }\n",
              "</style>\n",
              "<table border=\"1\" class=\"dataframe\">\n",
              "  <thead>\n",
              "    <tr style=\"text-align: right;\">\n",
              "      <th></th>\n",
              "      <th>total.cost</th>\n",
              "      <th>mileage</th>\n",
              "      <th>vehicle.type</th>\n",
              "      <th>domestic.import</th>\n",
              "      <th>vehicle.age</th>\n",
              "      <th>color.set</th>\n",
              "      <th>makex</th>\n",
              "      <th>state</th>\n",
              "      <th>make.model</th>\n",
              "    </tr>\n",
              "  </thead>\n",
              "  <tbody>\n",
              "    <tr>\n",
              "      <th>0</th>\n",
              "      <td>4037</td>\n",
              "      <td>67341</td>\n",
              "      <td>1</td>\n",
              "      <td>0</td>\n",
              "      <td>8</td>\n",
              "      <td>6</td>\n",
              "      <td>0</td>\n",
              "      <td>1</td>\n",
              "      <td>1</td>\n",
              "    </tr>\n",
              "    <tr>\n",
              "      <th>1</th>\n",
              "      <td>6886</td>\n",
              "      <td>72823</td>\n",
              "      <td>2</td>\n",
              "      <td>0</td>\n",
              "      <td>6</td>\n",
              "      <td>7</td>\n",
              "      <td>5</td>\n",
              "      <td>0</td>\n",
              "      <td>33</td>\n",
              "    </tr>\n",
              "    <tr>\n",
              "      <th>2</th>\n",
              "      <td>3924</td>\n",
              "      <td>96330</td>\n",
              "      <td>2</td>\n",
              "      <td>0</td>\n",
              "      <td>9</td>\n",
              "      <td>7</td>\n",
              "      <td>15</td>\n",
              "      <td>2</td>\n",
              "      <td>77</td>\n",
              "    </tr>\n",
              "    <tr>\n",
              "      <th>3</th>\n",
              "      <td>4636</td>\n",
              "      <td>58519</td>\n",
              "      <td>0</td>\n",
              "      <td>1</td>\n",
              "      <td>4</td>\n",
              "      <td>2</td>\n",
              "      <td>10</td>\n",
              "      <td>5</td>\n",
              "      <td>54</td>\n",
              "    </tr>\n",
              "    <tr>\n",
              "      <th>4</th>\n",
              "      <td>5080</td>\n",
              "      <td>99057</td>\n",
              "      <td>2</td>\n",
              "      <td>0</td>\n",
              "      <td>4</td>\n",
              "      <td>3</td>\n",
              "      <td>15</td>\n",
              "      <td>5</td>\n",
              "      <td>77</td>\n",
              "    </tr>\n",
              "  </tbody>\n",
              "</table>\n",
              "</div>\n",
              "      <button class=\"colab-df-convert\" onclick=\"convertToInteractive('df-73d24541-4247-41c1-b1de-81517d8b3e43')\"\n",
              "              title=\"Convert this dataframe to an interactive table.\"\n",
              "              style=\"display:none;\">\n",
              "        \n",
              "  <svg xmlns=\"http://www.w3.org/2000/svg\" height=\"24px\"viewBox=\"0 0 24 24\"\n",
              "       width=\"24px\">\n",
              "    <path d=\"M0 0h24v24H0V0z\" fill=\"none\"/>\n",
              "    <path d=\"M18.56 5.44l.94 2.06.94-2.06 2.06-.94-2.06-.94-.94-2.06-.94 2.06-2.06.94zm-11 1L8.5 8.5l.94-2.06 2.06-.94-2.06-.94L8.5 2.5l-.94 2.06-2.06.94zm10 10l.94 2.06.94-2.06 2.06-.94-2.06-.94-.94-2.06-.94 2.06-2.06.94z\"/><path d=\"M17.41 7.96l-1.37-1.37c-.4-.4-.92-.59-1.43-.59-.52 0-1.04.2-1.43.59L10.3 9.45l-7.72 7.72c-.78.78-.78 2.05 0 2.83L4 21.41c.39.39.9.59 1.41.59.51 0 1.02-.2 1.41-.59l7.78-7.78 2.81-2.81c.8-.78.8-2.07 0-2.86zM5.41 20L4 18.59l7.72-7.72 1.47 1.35L5.41 20z\"/>\n",
              "  </svg>\n",
              "      </button>\n",
              "      \n",
              "  <style>\n",
              "    .colab-df-container {\n",
              "      display:flex;\n",
              "      flex-wrap:wrap;\n",
              "      gap: 12px;\n",
              "    }\n",
              "\n",
              "    .colab-df-convert {\n",
              "      background-color: #E8F0FE;\n",
              "      border: none;\n",
              "      border-radius: 50%;\n",
              "      cursor: pointer;\n",
              "      display: none;\n",
              "      fill: #1967D2;\n",
              "      height: 32px;\n",
              "      padding: 0 0 0 0;\n",
              "      width: 32px;\n",
              "    }\n",
              "\n",
              "    .colab-df-convert:hover {\n",
              "      background-color: #E2EBFA;\n",
              "      box-shadow: 0px 1px 2px rgba(60, 64, 67, 0.3), 0px 1px 3px 1px rgba(60, 64, 67, 0.15);\n",
              "      fill: #174EA6;\n",
              "    }\n",
              "\n",
              "    [theme=dark] .colab-df-convert {\n",
              "      background-color: #3B4455;\n",
              "      fill: #D2E3FC;\n",
              "    }\n",
              "\n",
              "    [theme=dark] .colab-df-convert:hover {\n",
              "      background-color: #434B5C;\n",
              "      box-shadow: 0px 1px 3px 1px rgba(0, 0, 0, 0.15);\n",
              "      filter: drop-shadow(0px 1px 2px rgba(0, 0, 0, 0.3));\n",
              "      fill: #FFFFFF;\n",
              "    }\n",
              "  </style>\n",
              "\n",
              "      <script>\n",
              "        const buttonEl =\n",
              "          document.querySelector('#df-73d24541-4247-41c1-b1de-81517d8b3e43 button.colab-df-convert');\n",
              "        buttonEl.style.display =\n",
              "          google.colab.kernel.accessAllowed ? 'block' : 'none';\n",
              "\n",
              "        async function convertToInteractive(key) {\n",
              "          const element = document.querySelector('#df-73d24541-4247-41c1-b1de-81517d8b3e43');\n",
              "          const dataTable =\n",
              "            await google.colab.kernel.invokeFunction('convertToInteractive',\n",
              "                                                     [key], {});\n",
              "          if (!dataTable) return;\n",
              "\n",
              "          const docLinkHtml = 'Like what you see? Visit the ' +\n",
              "            '<a target=\"_blank\" href=https://colab.research.google.com/notebooks/data_table.ipynb>data table notebook</a>'\n",
              "            + ' to learn more about interactive tables.';\n",
              "          element.innerHTML = '';\n",
              "          dataTable['output_type'] = 'display_data';\n",
              "          await google.colab.output.renderOutput(dataTable, element);\n",
              "          const docLink = document.createElement('div');\n",
              "          docLink.innerHTML = docLinkHtml;\n",
              "          element.appendChild(docLink);\n",
              "        }\n",
              "      </script>\n",
              "    </div>\n",
              "  </div>\n",
              "  "
            ]
          },
          "metadata": {},
          "execution_count": 74
        }
      ]
    },
    {
      "cell_type": "markdown",
      "metadata": {
        "id": "Hx1BN00kupav"
      },
      "source": [
        "**Separando os dados de treino e teste**"
      ]
    },
    {
      "cell_type": "code",
      "metadata": {
        "id": "v0Yq_nieupaw"
      },
      "source": [
        "from sklearn.model_selection import train_test_split"
      ],
      "execution_count": null,
      "outputs": []
    },
    {
      "cell_type": "code",
      "metadata": {
        "id": "XrWdn3yrupaz"
      },
      "source": [
        "X_treino, X_teste, y_treino, y_teste = train_test_split(X, y)"
      ],
      "execution_count": null,
      "outputs": []
    },
    {
      "cell_type": "markdown",
      "source": [
        "Visualizando os dados de treino e teste"
      ],
      "metadata": {
        "id": "qBDLdOuv8fdF"
      }
    },
    {
      "cell_type": "code",
      "metadata": {
        "id": "WqjebhF9upa4",
        "colab": {
          "base_uri": "https://localhost:8080/"
        },
        "outputId": "bdfd83ae-8a13-460c-d218-9195e381a9b5"
      },
      "source": [
        "X_treino.count()"
      ],
      "execution_count": null,
      "outputs": [
        {
          "output_type": "execute_result",
          "data": {
            "text/plain": [
              "total.cost         5621\n",
              "mileage            5621\n",
              "vehicle.type       5621\n",
              "domestic.import    5621\n",
              "vehicle.age        5621\n",
              "color.set          5621\n",
              "makex              5621\n",
              "state              5621\n",
              "make.model         5621\n",
              "dtype: int64"
            ]
          },
          "metadata": {},
          "execution_count": 44
        }
      ]
    },
    {
      "cell_type": "code",
      "metadata": {
        "id": "BlpcMYwQupa9",
        "colab": {
          "base_uri": "https://localhost:8080/"
        },
        "outputId": "d2d787ed-1922-4cdd-8e0f-2275612dc2ac"
      },
      "source": [
        "y_treino.count()"
      ],
      "execution_count": null,
      "outputs": [
        {
          "output_type": "execute_result",
          "data": {
            "text/plain": [
              "5621"
            ]
          },
          "metadata": {},
          "execution_count": 45
        }
      ]
    },
    {
      "cell_type": "code",
      "metadata": {
        "id": "FsD4Laa5upbB",
        "colab": {
          "base_uri": "https://localhost:8080/",
          "height": 206
        },
        "outputId": "65274455-ac60-44e8-9c75-77ac3d4b2320"
      },
      "source": [
        "X_treino.head()"
      ],
      "execution_count": null,
      "outputs": [
        {
          "output_type": "execute_result",
          "data": {
            "text/plain": [
              "      total.cost  mileage  vehicle.type  domestic.import  vehicle.age  \\\n",
              "6319        4306    42204             0                1            3   \n",
              "2914        4816    89106             2                0            8   \n",
              "5533        5466    81563             1                0            6   \n",
              "5137        4522    93521             3                1            6   \n",
              "6070        3416    84883             3                1            8   \n",
              "\n",
              "      color.set  makex  state  make.model  \n",
              "6319          7     10      6          54  \n",
              "2914          1      0      2           4  \n",
              "5533          7     15      0          77  \n",
              "5137          1     19      1          93  \n",
              "6070          3      7      1          44  "
            ],
            "text/html": [
              "\n",
              "  <div id=\"df-2d9023d8-6c9c-4a0d-bf74-168132240986\">\n",
              "    <div class=\"colab-df-container\">\n",
              "      <div>\n",
              "<style scoped>\n",
              "    .dataframe tbody tr th:only-of-type {\n",
              "        vertical-align: middle;\n",
              "    }\n",
              "\n",
              "    .dataframe tbody tr th {\n",
              "        vertical-align: top;\n",
              "    }\n",
              "\n",
              "    .dataframe thead th {\n",
              "        text-align: right;\n",
              "    }\n",
              "</style>\n",
              "<table border=\"1\" class=\"dataframe\">\n",
              "  <thead>\n",
              "    <tr style=\"text-align: right;\">\n",
              "      <th></th>\n",
              "      <th>total.cost</th>\n",
              "      <th>mileage</th>\n",
              "      <th>vehicle.type</th>\n",
              "      <th>domestic.import</th>\n",
              "      <th>vehicle.age</th>\n",
              "      <th>color.set</th>\n",
              "      <th>makex</th>\n",
              "      <th>state</th>\n",
              "      <th>make.model</th>\n",
              "    </tr>\n",
              "  </thead>\n",
              "  <tbody>\n",
              "    <tr>\n",
              "      <th>6319</th>\n",
              "      <td>4306</td>\n",
              "      <td>42204</td>\n",
              "      <td>0</td>\n",
              "      <td>1</td>\n",
              "      <td>3</td>\n",
              "      <td>7</td>\n",
              "      <td>10</td>\n",
              "      <td>6</td>\n",
              "      <td>54</td>\n",
              "    </tr>\n",
              "    <tr>\n",
              "      <th>2914</th>\n",
              "      <td>4816</td>\n",
              "      <td>89106</td>\n",
              "      <td>2</td>\n",
              "      <td>0</td>\n",
              "      <td>8</td>\n",
              "      <td>1</td>\n",
              "      <td>0</td>\n",
              "      <td>2</td>\n",
              "      <td>4</td>\n",
              "    </tr>\n",
              "    <tr>\n",
              "      <th>5533</th>\n",
              "      <td>5466</td>\n",
              "      <td>81563</td>\n",
              "      <td>1</td>\n",
              "      <td>0</td>\n",
              "      <td>6</td>\n",
              "      <td>7</td>\n",
              "      <td>15</td>\n",
              "      <td>0</td>\n",
              "      <td>77</td>\n",
              "    </tr>\n",
              "    <tr>\n",
              "      <th>5137</th>\n",
              "      <td>4522</td>\n",
              "      <td>93521</td>\n",
              "      <td>3</td>\n",
              "      <td>1</td>\n",
              "      <td>6</td>\n",
              "      <td>1</td>\n",
              "      <td>19</td>\n",
              "      <td>1</td>\n",
              "      <td>93</td>\n",
              "    </tr>\n",
              "    <tr>\n",
              "      <th>6070</th>\n",
              "      <td>3416</td>\n",
              "      <td>84883</td>\n",
              "      <td>3</td>\n",
              "      <td>1</td>\n",
              "      <td>8</td>\n",
              "      <td>3</td>\n",
              "      <td>7</td>\n",
              "      <td>1</td>\n",
              "      <td>44</td>\n",
              "    </tr>\n",
              "  </tbody>\n",
              "</table>\n",
              "</div>\n",
              "      <button class=\"colab-df-convert\" onclick=\"convertToInteractive('df-2d9023d8-6c9c-4a0d-bf74-168132240986')\"\n",
              "              title=\"Convert this dataframe to an interactive table.\"\n",
              "              style=\"display:none;\">\n",
              "        \n",
              "  <svg xmlns=\"http://www.w3.org/2000/svg\" height=\"24px\"viewBox=\"0 0 24 24\"\n",
              "       width=\"24px\">\n",
              "    <path d=\"M0 0h24v24H0V0z\" fill=\"none\"/>\n",
              "    <path d=\"M18.56 5.44l.94 2.06.94-2.06 2.06-.94-2.06-.94-.94-2.06-.94 2.06-2.06.94zm-11 1L8.5 8.5l.94-2.06 2.06-.94-2.06-.94L8.5 2.5l-.94 2.06-2.06.94zm10 10l.94 2.06.94-2.06 2.06-.94-2.06-.94-.94-2.06-.94 2.06-2.06.94z\"/><path d=\"M17.41 7.96l-1.37-1.37c-.4-.4-.92-.59-1.43-.59-.52 0-1.04.2-1.43.59L10.3 9.45l-7.72 7.72c-.78.78-.78 2.05 0 2.83L4 21.41c.39.39.9.59 1.41.59.51 0 1.02-.2 1.41-.59l7.78-7.78 2.81-2.81c.8-.78.8-2.07 0-2.86zM5.41 20L4 18.59l7.72-7.72 1.47 1.35L5.41 20z\"/>\n",
              "  </svg>\n",
              "      </button>\n",
              "      \n",
              "  <style>\n",
              "    .colab-df-container {\n",
              "      display:flex;\n",
              "      flex-wrap:wrap;\n",
              "      gap: 12px;\n",
              "    }\n",
              "\n",
              "    .colab-df-convert {\n",
              "      background-color: #E8F0FE;\n",
              "      border: none;\n",
              "      border-radius: 50%;\n",
              "      cursor: pointer;\n",
              "      display: none;\n",
              "      fill: #1967D2;\n",
              "      height: 32px;\n",
              "      padding: 0 0 0 0;\n",
              "      width: 32px;\n",
              "    }\n",
              "\n",
              "    .colab-df-convert:hover {\n",
              "      background-color: #E2EBFA;\n",
              "      box-shadow: 0px 1px 2px rgba(60, 64, 67, 0.3), 0px 1px 3px 1px rgba(60, 64, 67, 0.15);\n",
              "      fill: #174EA6;\n",
              "    }\n",
              "\n",
              "    [theme=dark] .colab-df-convert {\n",
              "      background-color: #3B4455;\n",
              "      fill: #D2E3FC;\n",
              "    }\n",
              "\n",
              "    [theme=dark] .colab-df-convert:hover {\n",
              "      background-color: #434B5C;\n",
              "      box-shadow: 0px 1px 3px 1px rgba(0, 0, 0, 0.15);\n",
              "      filter: drop-shadow(0px 1px 2px rgba(0, 0, 0, 0.3));\n",
              "      fill: #FFFFFF;\n",
              "    }\n",
              "  </style>\n",
              "\n",
              "      <script>\n",
              "        const buttonEl =\n",
              "          document.querySelector('#df-2d9023d8-6c9c-4a0d-bf74-168132240986 button.colab-df-convert');\n",
              "        buttonEl.style.display =\n",
              "          google.colab.kernel.accessAllowed ? 'block' : 'none';\n",
              "\n",
              "        async function convertToInteractive(key) {\n",
              "          const element = document.querySelector('#df-2d9023d8-6c9c-4a0d-bf74-168132240986');\n",
              "          const dataTable =\n",
              "            await google.colab.kernel.invokeFunction('convertToInteractive',\n",
              "                                                     [key], {});\n",
              "          if (!dataTable) return;\n",
              "\n",
              "          const docLinkHtml = 'Like what you see? Visit the ' +\n",
              "            '<a target=\"_blank\" href=https://colab.research.google.com/notebooks/data_table.ipynb>data table notebook</a>'\n",
              "            + ' to learn more about interactive tables.';\n",
              "          element.innerHTML = '';\n",
              "          dataTable['output_type'] = 'display_data';\n",
              "          await google.colab.output.renderOutput(dataTable, element);\n",
              "          const docLink = document.createElement('div');\n",
              "          docLink.innerHTML = docLinkHtml;\n",
              "          element.appendChild(docLink);\n",
              "        }\n",
              "      </script>\n",
              "    </div>\n",
              "  </div>\n",
              "  "
            ]
          },
          "metadata": {},
          "execution_count": 46
        }
      ]
    },
    {
      "cell_type": "code",
      "metadata": {
        "id": "n5XHHj99upbE",
        "colab": {
          "base_uri": "https://localhost:8080/"
        },
        "outputId": "a5f0e289-ec67-4959-bbbf-41d954a780ac"
      },
      "source": [
        "y_treino.head()"
      ],
      "execution_count": null,
      "outputs": [
        {
          "output_type": "execute_result",
          "data": {
            "text/plain": [
              "6319     NO\n",
              "2914    YES\n",
              "5533     NO\n",
              "5137     NO\n",
              "6070     NO\n",
              "Name: overage, dtype: object"
            ]
          },
          "metadata": {},
          "execution_count": 47
        }
      ]
    },
    {
      "cell_type": "code",
      "metadata": {
        "id": "oQq5-wo3upbH",
        "colab": {
          "base_uri": "https://localhost:8080/"
        },
        "outputId": "c16bd70a-bdbf-4729-e91f-6eecf63aac87"
      },
      "source": [
        "X_teste.count()"
      ],
      "execution_count": null,
      "outputs": [
        {
          "output_type": "execute_result",
          "data": {
            "text/plain": [
              "total.cost         1874\n",
              "mileage            1874\n",
              "vehicle.type       1874\n",
              "domestic.import    1874\n",
              "vehicle.age        1874\n",
              "color.set          1874\n",
              "makex              1874\n",
              "state              1874\n",
              "make.model         1874\n",
              "dtype: int64"
            ]
          },
          "metadata": {},
          "execution_count": 48
        }
      ]
    },
    {
      "cell_type": "code",
      "metadata": {
        "id": "95Zulj6eupbK",
        "colab": {
          "base_uri": "https://localhost:8080/"
        },
        "outputId": "78e0e49b-72a2-499e-c5ed-7e2b6161e725"
      },
      "source": [
        "y_teste.count()"
      ],
      "execution_count": null,
      "outputs": [
        {
          "output_type": "execute_result",
          "data": {
            "text/plain": [
              "1874"
            ]
          },
          "metadata": {},
          "execution_count": 49
        }
      ]
    },
    {
      "cell_type": "code",
      "metadata": {
        "id": "7TQ59_KeupbT",
        "colab": {
          "base_uri": "https://localhost:8080/",
          "height": 206
        },
        "outputId": "909920be-0f3b-47bb-c129-22b3425c3c47"
      },
      "source": [
        "X_teste.head()"
      ],
      "execution_count": null,
      "outputs": [
        {
          "output_type": "execute_result",
          "data": {
            "text/plain": [
              "      total.cost  mileage  vehicle.type  domestic.import  vehicle.age  \\\n",
              "4173        3535    92987             3                1            9   \n",
              "4527        5232    48180             0                0            3   \n",
              "2780        5460    81175             3                0            5   \n",
              "6900        3956    80543             3                0            4   \n",
              "7283        5043    63101             2                0            4   \n",
              "\n",
              "      color.set  makex  state  make.model  \n",
              "4173          3     19      1          93  \n",
              "4527          7      6      3          39  \n",
              "2780          3     18      1          83  \n",
              "6900          5      2      1          14  \n",
              "7283          3      6      6          41  "
            ],
            "text/html": [
              "\n",
              "  <div id=\"df-3a542cf4-4952-4aa8-9604-2ec15fc17d1b\">\n",
              "    <div class=\"colab-df-container\">\n",
              "      <div>\n",
              "<style scoped>\n",
              "    .dataframe tbody tr th:only-of-type {\n",
              "        vertical-align: middle;\n",
              "    }\n",
              "\n",
              "    .dataframe tbody tr th {\n",
              "        vertical-align: top;\n",
              "    }\n",
              "\n",
              "    .dataframe thead th {\n",
              "        text-align: right;\n",
              "    }\n",
              "</style>\n",
              "<table border=\"1\" class=\"dataframe\">\n",
              "  <thead>\n",
              "    <tr style=\"text-align: right;\">\n",
              "      <th></th>\n",
              "      <th>total.cost</th>\n",
              "      <th>mileage</th>\n",
              "      <th>vehicle.type</th>\n",
              "      <th>domestic.import</th>\n",
              "      <th>vehicle.age</th>\n",
              "      <th>color.set</th>\n",
              "      <th>makex</th>\n",
              "      <th>state</th>\n",
              "      <th>make.model</th>\n",
              "    </tr>\n",
              "  </thead>\n",
              "  <tbody>\n",
              "    <tr>\n",
              "      <th>4173</th>\n",
              "      <td>3535</td>\n",
              "      <td>92987</td>\n",
              "      <td>3</td>\n",
              "      <td>1</td>\n",
              "      <td>9</td>\n",
              "      <td>3</td>\n",
              "      <td>19</td>\n",
              "      <td>1</td>\n",
              "      <td>93</td>\n",
              "    </tr>\n",
              "    <tr>\n",
              "      <th>4527</th>\n",
              "      <td>5232</td>\n",
              "      <td>48180</td>\n",
              "      <td>0</td>\n",
              "      <td>0</td>\n",
              "      <td>3</td>\n",
              "      <td>7</td>\n",
              "      <td>6</td>\n",
              "      <td>3</td>\n",
              "      <td>39</td>\n",
              "    </tr>\n",
              "    <tr>\n",
              "      <th>2780</th>\n",
              "      <td>5460</td>\n",
              "      <td>81175</td>\n",
              "      <td>3</td>\n",
              "      <td>0</td>\n",
              "      <td>5</td>\n",
              "      <td>3</td>\n",
              "      <td>18</td>\n",
              "      <td>1</td>\n",
              "      <td>83</td>\n",
              "    </tr>\n",
              "    <tr>\n",
              "      <th>6900</th>\n",
              "      <td>3956</td>\n",
              "      <td>80543</td>\n",
              "      <td>3</td>\n",
              "      <td>0</td>\n",
              "      <td>4</td>\n",
              "      <td>5</td>\n",
              "      <td>2</td>\n",
              "      <td>1</td>\n",
              "      <td>14</td>\n",
              "    </tr>\n",
              "    <tr>\n",
              "      <th>7283</th>\n",
              "      <td>5043</td>\n",
              "      <td>63101</td>\n",
              "      <td>2</td>\n",
              "      <td>0</td>\n",
              "      <td>4</td>\n",
              "      <td>3</td>\n",
              "      <td>6</td>\n",
              "      <td>6</td>\n",
              "      <td>41</td>\n",
              "    </tr>\n",
              "  </tbody>\n",
              "</table>\n",
              "</div>\n",
              "      <button class=\"colab-df-convert\" onclick=\"convertToInteractive('df-3a542cf4-4952-4aa8-9604-2ec15fc17d1b')\"\n",
              "              title=\"Convert this dataframe to an interactive table.\"\n",
              "              style=\"display:none;\">\n",
              "        \n",
              "  <svg xmlns=\"http://www.w3.org/2000/svg\" height=\"24px\"viewBox=\"0 0 24 24\"\n",
              "       width=\"24px\">\n",
              "    <path d=\"M0 0h24v24H0V0z\" fill=\"none\"/>\n",
              "    <path d=\"M18.56 5.44l.94 2.06.94-2.06 2.06-.94-2.06-.94-.94-2.06-.94 2.06-2.06.94zm-11 1L8.5 8.5l.94-2.06 2.06-.94-2.06-.94L8.5 2.5l-.94 2.06-2.06.94zm10 10l.94 2.06.94-2.06 2.06-.94-2.06-.94-.94-2.06-.94 2.06-2.06.94z\"/><path d=\"M17.41 7.96l-1.37-1.37c-.4-.4-.92-.59-1.43-.59-.52 0-1.04.2-1.43.59L10.3 9.45l-7.72 7.72c-.78.78-.78 2.05 0 2.83L4 21.41c.39.39.9.59 1.41.59.51 0 1.02-.2 1.41-.59l7.78-7.78 2.81-2.81c.8-.78.8-2.07 0-2.86zM5.41 20L4 18.59l7.72-7.72 1.47 1.35L5.41 20z\"/>\n",
              "  </svg>\n",
              "      </button>\n",
              "      \n",
              "  <style>\n",
              "    .colab-df-container {\n",
              "      display:flex;\n",
              "      flex-wrap:wrap;\n",
              "      gap: 12px;\n",
              "    }\n",
              "\n",
              "    .colab-df-convert {\n",
              "      background-color: #E8F0FE;\n",
              "      border: none;\n",
              "      border-radius: 50%;\n",
              "      cursor: pointer;\n",
              "      display: none;\n",
              "      fill: #1967D2;\n",
              "      height: 32px;\n",
              "      padding: 0 0 0 0;\n",
              "      width: 32px;\n",
              "    }\n",
              "\n",
              "    .colab-df-convert:hover {\n",
              "      background-color: #E2EBFA;\n",
              "      box-shadow: 0px 1px 2px rgba(60, 64, 67, 0.3), 0px 1px 3px 1px rgba(60, 64, 67, 0.15);\n",
              "      fill: #174EA6;\n",
              "    }\n",
              "\n",
              "    [theme=dark] .colab-df-convert {\n",
              "      background-color: #3B4455;\n",
              "      fill: #D2E3FC;\n",
              "    }\n",
              "\n",
              "    [theme=dark] .colab-df-convert:hover {\n",
              "      background-color: #434B5C;\n",
              "      box-shadow: 0px 1px 3px 1px rgba(0, 0, 0, 0.15);\n",
              "      filter: drop-shadow(0px 1px 2px rgba(0, 0, 0, 0.3));\n",
              "      fill: #FFFFFF;\n",
              "    }\n",
              "  </style>\n",
              "\n",
              "      <script>\n",
              "        const buttonEl =\n",
              "          document.querySelector('#df-3a542cf4-4952-4aa8-9604-2ec15fc17d1b button.colab-df-convert');\n",
              "        buttonEl.style.display =\n",
              "          google.colab.kernel.accessAllowed ? 'block' : 'none';\n",
              "\n",
              "        async function convertToInteractive(key) {\n",
              "          const element = document.querySelector('#df-3a542cf4-4952-4aa8-9604-2ec15fc17d1b');\n",
              "          const dataTable =\n",
              "            await google.colab.kernel.invokeFunction('convertToInteractive',\n",
              "                                                     [key], {});\n",
              "          if (!dataTable) return;\n",
              "\n",
              "          const docLinkHtml = 'Like what you see? Visit the ' +\n",
              "            '<a target=\"_blank\" href=https://colab.research.google.com/notebooks/data_table.ipynb>data table notebook</a>'\n",
              "            + ' to learn more about interactive tables.';\n",
              "          element.innerHTML = '';\n",
              "          dataTable['output_type'] = 'display_data';\n",
              "          await google.colab.output.renderOutput(dataTable, element);\n",
              "          const docLink = document.createElement('div');\n",
              "          docLink.innerHTML = docLinkHtml;\n",
              "          element.appendChild(docLink);\n",
              "        }\n",
              "      </script>\n",
              "    </div>\n",
              "  </div>\n",
              "  "
            ]
          },
          "metadata": {},
          "execution_count": 50
        }
      ]
    },
    {
      "cell_type": "markdown",
      "metadata": {
        "id": "fMeTQs0SupbX"
      },
      "source": [
        "**Aplicando Machine Learning com Arvore de Decisão**\n",
        "\n",
        "Uma árvore de decisão é um algoritmo de aprendizado de máquina supervisionado que é utilizado para classificação e para regressão. Isto é, pode ser usado para prever categorias discretas (sim ou não, por exemplo) e para prever valores numéricos (o valor do lucro em reais). [Mais...] https://blogdozouza.wordpress.com/2019/09/30/decision-trees-e-random-forests-para-classificacao-e-regressao/)"
      ]
    },
    {
      "cell_type": "code",
      "metadata": {
        "id": "36t7iKWfupbY"
      },
      "source": [
        "# importando\n",
        "from sklearn import tree"
      ],
      "execution_count": null,
      "outputs": []
    },
    {
      "cell_type": "code",
      "metadata": {
        "id": "SYXjACefupbc"
      },
      "source": [
        "# instanciando\n",
        "arvore = tree.DecisionTreeClassifier()"
      ],
      "execution_count": null,
      "outputs": []
    },
    {
      "cell_type": "code",
      "metadata": {
        "id": "Y6CtbwURupbj",
        "colab": {
          "base_uri": "https://localhost:8080/"
        },
        "outputId": "25f381fa-f2b7-4245-f181-89853c421c14"
      },
      "source": [
        "# treinando\n",
        "arvore.fit(X_treino, y_treino)"
      ],
      "execution_count": null,
      "outputs": [
        {
          "output_type": "execute_result",
          "data": {
            "text/plain": [
              "DecisionTreeClassifier()"
            ]
          },
          "metadata": {},
          "execution_count": 53
        }
      ]
    },
    {
      "cell_type": "markdown",
      "metadata": {
        "id": "LGk4-lhtupbn"
      },
      "source": [
        "**Validação do Modelo**"
      ]
    },
    {
      "cell_type": "code",
      "metadata": {
        "id": "6zaqpR77upbp",
        "colab": {
          "base_uri": "https://localhost:8080/",
          "height": 206
        },
        "outputId": "3dedfeda-2ac3-4ef7-8ab8-08925eb5cb81"
      },
      "source": [
        "# visualizando os dados de teste\n",
        "X_teste.head()"
      ],
      "execution_count": null,
      "outputs": [
        {
          "output_type": "execute_result",
          "data": {
            "text/plain": [
              "      total.cost  mileage  vehicle.type  domestic.import  vehicle.age  \\\n",
              "4173        3535    92987             3                1            9   \n",
              "4527        5232    48180             0                0            3   \n",
              "2780        5460    81175             3                0            5   \n",
              "6900        3956    80543             3                0            4   \n",
              "7283        5043    63101             2                0            4   \n",
              "\n",
              "      color.set  makex  state  make.model  \n",
              "4173          3     19      1          93  \n",
              "4527          7      6      3          39  \n",
              "2780          3     18      1          83  \n",
              "6900          5      2      1          14  \n",
              "7283          3      6      6          41  "
            ],
            "text/html": [
              "\n",
              "  <div id=\"df-162b902e-b705-4848-98b1-0c1fafdaba7c\">\n",
              "    <div class=\"colab-df-container\">\n",
              "      <div>\n",
              "<style scoped>\n",
              "    .dataframe tbody tr th:only-of-type {\n",
              "        vertical-align: middle;\n",
              "    }\n",
              "\n",
              "    .dataframe tbody tr th {\n",
              "        vertical-align: top;\n",
              "    }\n",
              "\n",
              "    .dataframe thead th {\n",
              "        text-align: right;\n",
              "    }\n",
              "</style>\n",
              "<table border=\"1\" class=\"dataframe\">\n",
              "  <thead>\n",
              "    <tr style=\"text-align: right;\">\n",
              "      <th></th>\n",
              "      <th>total.cost</th>\n",
              "      <th>mileage</th>\n",
              "      <th>vehicle.type</th>\n",
              "      <th>domestic.import</th>\n",
              "      <th>vehicle.age</th>\n",
              "      <th>color.set</th>\n",
              "      <th>makex</th>\n",
              "      <th>state</th>\n",
              "      <th>make.model</th>\n",
              "    </tr>\n",
              "  </thead>\n",
              "  <tbody>\n",
              "    <tr>\n",
              "      <th>4173</th>\n",
              "      <td>3535</td>\n",
              "      <td>92987</td>\n",
              "      <td>3</td>\n",
              "      <td>1</td>\n",
              "      <td>9</td>\n",
              "      <td>3</td>\n",
              "      <td>19</td>\n",
              "      <td>1</td>\n",
              "      <td>93</td>\n",
              "    </tr>\n",
              "    <tr>\n",
              "      <th>4527</th>\n",
              "      <td>5232</td>\n",
              "      <td>48180</td>\n",
              "      <td>0</td>\n",
              "      <td>0</td>\n",
              "      <td>3</td>\n",
              "      <td>7</td>\n",
              "      <td>6</td>\n",
              "      <td>3</td>\n",
              "      <td>39</td>\n",
              "    </tr>\n",
              "    <tr>\n",
              "      <th>2780</th>\n",
              "      <td>5460</td>\n",
              "      <td>81175</td>\n",
              "      <td>3</td>\n",
              "      <td>0</td>\n",
              "      <td>5</td>\n",
              "      <td>3</td>\n",
              "      <td>18</td>\n",
              "      <td>1</td>\n",
              "      <td>83</td>\n",
              "    </tr>\n",
              "    <tr>\n",
              "      <th>6900</th>\n",
              "      <td>3956</td>\n",
              "      <td>80543</td>\n",
              "      <td>3</td>\n",
              "      <td>0</td>\n",
              "      <td>4</td>\n",
              "      <td>5</td>\n",
              "      <td>2</td>\n",
              "      <td>1</td>\n",
              "      <td>14</td>\n",
              "    </tr>\n",
              "    <tr>\n",
              "      <th>7283</th>\n",
              "      <td>5043</td>\n",
              "      <td>63101</td>\n",
              "      <td>2</td>\n",
              "      <td>0</td>\n",
              "      <td>4</td>\n",
              "      <td>3</td>\n",
              "      <td>6</td>\n",
              "      <td>6</td>\n",
              "      <td>41</td>\n",
              "    </tr>\n",
              "  </tbody>\n",
              "</table>\n",
              "</div>\n",
              "      <button class=\"colab-df-convert\" onclick=\"convertToInteractive('df-162b902e-b705-4848-98b1-0c1fafdaba7c')\"\n",
              "              title=\"Convert this dataframe to an interactive table.\"\n",
              "              style=\"display:none;\">\n",
              "        \n",
              "  <svg xmlns=\"http://www.w3.org/2000/svg\" height=\"24px\"viewBox=\"0 0 24 24\"\n",
              "       width=\"24px\">\n",
              "    <path d=\"M0 0h24v24H0V0z\" fill=\"none\"/>\n",
              "    <path d=\"M18.56 5.44l.94 2.06.94-2.06 2.06-.94-2.06-.94-.94-2.06-.94 2.06-2.06.94zm-11 1L8.5 8.5l.94-2.06 2.06-.94-2.06-.94L8.5 2.5l-.94 2.06-2.06.94zm10 10l.94 2.06.94-2.06 2.06-.94-2.06-.94-.94-2.06-.94 2.06-2.06.94z\"/><path d=\"M17.41 7.96l-1.37-1.37c-.4-.4-.92-.59-1.43-.59-.52 0-1.04.2-1.43.59L10.3 9.45l-7.72 7.72c-.78.78-.78 2.05 0 2.83L4 21.41c.39.39.9.59 1.41.59.51 0 1.02-.2 1.41-.59l7.78-7.78 2.81-2.81c.8-.78.8-2.07 0-2.86zM5.41 20L4 18.59l7.72-7.72 1.47 1.35L5.41 20z\"/>\n",
              "  </svg>\n",
              "      </button>\n",
              "      \n",
              "  <style>\n",
              "    .colab-df-container {\n",
              "      display:flex;\n",
              "      flex-wrap:wrap;\n",
              "      gap: 12px;\n",
              "    }\n",
              "\n",
              "    .colab-df-convert {\n",
              "      background-color: #E8F0FE;\n",
              "      border: none;\n",
              "      border-radius: 50%;\n",
              "      cursor: pointer;\n",
              "      display: none;\n",
              "      fill: #1967D2;\n",
              "      height: 32px;\n",
              "      padding: 0 0 0 0;\n",
              "      width: 32px;\n",
              "    }\n",
              "\n",
              "    .colab-df-convert:hover {\n",
              "      background-color: #E2EBFA;\n",
              "      box-shadow: 0px 1px 2px rgba(60, 64, 67, 0.3), 0px 1px 3px 1px rgba(60, 64, 67, 0.15);\n",
              "      fill: #174EA6;\n",
              "    }\n",
              "\n",
              "    [theme=dark] .colab-df-convert {\n",
              "      background-color: #3B4455;\n",
              "      fill: #D2E3FC;\n",
              "    }\n",
              "\n",
              "    [theme=dark] .colab-df-convert:hover {\n",
              "      background-color: #434B5C;\n",
              "      box-shadow: 0px 1px 3px 1px rgba(0, 0, 0, 0.15);\n",
              "      filter: drop-shadow(0px 1px 2px rgba(0, 0, 0, 0.3));\n",
              "      fill: #FFFFFF;\n",
              "    }\n",
              "  </style>\n",
              "\n",
              "      <script>\n",
              "        const buttonEl =\n",
              "          document.querySelector('#df-162b902e-b705-4848-98b1-0c1fafdaba7c button.colab-df-convert');\n",
              "        buttonEl.style.display =\n",
              "          google.colab.kernel.accessAllowed ? 'block' : 'none';\n",
              "\n",
              "        async function convertToInteractive(key) {\n",
              "          const element = document.querySelector('#df-162b902e-b705-4848-98b1-0c1fafdaba7c');\n",
              "          const dataTable =\n",
              "            await google.colab.kernel.invokeFunction('convertToInteractive',\n",
              "                                                     [key], {});\n",
              "          if (!dataTable) return;\n",
              "\n",
              "          const docLinkHtml = 'Like what you see? Visit the ' +\n",
              "            '<a target=\"_blank\" href=https://colab.research.google.com/notebooks/data_table.ipynb>data table notebook</a>'\n",
              "            + ' to learn more about interactive tables.';\n",
              "          element.innerHTML = '';\n",
              "          dataTable['output_type'] = 'display_data';\n",
              "          await google.colab.output.renderOutput(dataTable, element);\n",
              "          const docLink = document.createElement('div');\n",
              "          docLink.innerHTML = docLinkHtml;\n",
              "          element.appendChild(docLink);\n",
              "        }\n",
              "      </script>\n",
              "    </div>\n",
              "  </div>\n",
              "  "
            ]
          },
          "metadata": {},
          "execution_count": 54
        }
      ]
    },
    {
      "cell_type": "code",
      "metadata": {
        "id": "1KVXfwq5upbs",
        "colab": {
          "base_uri": "https://localhost:8080/"
        },
        "outputId": "e96a2850-2d8a-463a-dfa9-b4dee6465290"
      },
      "source": [
        "# predizendo os dados de teste\n",
        "arvore.predict(X_teste)"
      ],
      "execution_count": null,
      "outputs": [
        {
          "output_type": "execute_result",
          "data": {
            "text/plain": [
              "array(['YES', 'NO', 'YES', ..., 'NO', 'YES', 'YES'], dtype=object)"
            ]
          },
          "metadata": {},
          "execution_count": 55
        }
      ]
    },
    {
      "cell_type": "code",
      "metadata": {
        "id": "Uey-oXnxupbx"
      },
      "source": [
        "resultado = arvore.predict(X_teste)"
      ],
      "execution_count": null,
      "outputs": []
    },
    {
      "cell_type": "code",
      "metadata": {
        "id": "Kfkw0KBBupb2",
        "colab": {
          "base_uri": "https://localhost:8080/"
        },
        "outputId": "0eae1627-e95a-42b7-8ab3-4c440c91b547"
      },
      "source": [
        "resultado"
      ],
      "execution_count": null,
      "outputs": [
        {
          "output_type": "execute_result",
          "data": {
            "text/plain": [
              "array(['YES', 'NO', 'YES', ..., 'NO', 'YES', 'YES'], dtype=object)"
            ]
          },
          "metadata": {},
          "execution_count": 57
        }
      ]
    },
    {
      "cell_type": "code",
      "metadata": {
        "id": "SKIUf2z6upb6",
        "colab": {
          "base_uri": "https://localhost:8080/"
        },
        "outputId": "b1f49b89-4c32-4c3b-fb18-789c51411ce5"
      },
      "source": [
        "from sklearn import metrics\n",
        "print(metrics.classification_report(y_teste,resultado))"
      ],
      "execution_count": null,
      "outputs": [
        {
          "output_type": "stream",
          "name": "stdout",
          "text": [
            "              precision    recall  f1-score   support\n",
            "\n",
            "          NO       0.65      0.65      0.65      1005\n",
            "         YES       0.60      0.61      0.60       869\n",
            "\n",
            "    accuracy                           0.63      1874\n",
            "   macro avg       0.63      0.63      0.63      1874\n",
            "weighted avg       0.63      0.63      0.63      1874\n",
            "\n"
          ]
        }
      ]
    },
    {
      "cell_type": "markdown",
      "metadata": {
        "id": "niQ4S2nHupb-"
      },
      "source": [
        "**`Conclusões`:**"
      ]
    },
    {
      "cell_type": "markdown",
      "metadata": {
        "id": "EWSxt_lqupb_"
      },
      "source": [
        "- Tivemos uma precisão de 62% para classificar carros que superam os 90 dias.\n",
        "- O modelo pode melhorar se trabalhar mais nos dados, e com um trabalho de engenharia de features."
      ]
    },
    {
      "cell_type": "markdown",
      "metadata": {
        "id": "fAugnFucupcA"
      },
      "source": [
        "**Features mais importantes para o modelo**\n",
        "\n",
        "Descobrindo as variáveis mais importantes para o modelo usando arvore de decisão..."
      ]
    },
    {
      "cell_type": "code",
      "metadata": {
        "id": "pLRkbcE0upcA",
        "colab": {
          "base_uri": "https://localhost:8080/"
        },
        "outputId": "ef134e8c-e46f-4e49-e74b-4ab7737e1a7f"
      },
      "source": [
        "arvore.feature_importances_"
      ],
      "execution_count": null,
      "outputs": [
        {
          "output_type": "execute_result",
          "data": {
            "text/plain": [
              "array([0.27782561, 0.22723879, 0.0835638 , 0.01077992, 0.07366022,\n",
              "       0.07987865, 0.03594917, 0.07933382, 0.13177002])"
            ]
          },
          "metadata": {},
          "execution_count": 59
        }
      ]
    },
    {
      "cell_type": "code",
      "metadata": {
        "id": "rCXmkwMjupcD"
      },
      "source": [
        "feature_imp = pd.Series(arvore.feature_importances_,index=X_treino.columns)"
      ],
      "execution_count": null,
      "outputs": []
    },
    {
      "cell_type": "code",
      "metadata": {
        "id": "PKstcWLfupcG",
        "colab": {
          "base_uri": "https://localhost:8080/"
        },
        "outputId": "ecbe0162-1f86-4df4-d00c-47f956fc7557"
      },
      "source": [
        "feature_imp"
      ],
      "execution_count": null,
      "outputs": [
        {
          "output_type": "execute_result",
          "data": {
            "text/plain": [
              "total.cost         0.277826\n",
              "mileage            0.227239\n",
              "vehicle.type       0.083564\n",
              "domestic.import    0.010780\n",
              "vehicle.age        0.073660\n",
              "color.set          0.079879\n",
              "makex              0.035949\n",
              "state              0.079334\n",
              "make.model         0.131770\n",
              "dtype: float64"
            ]
          },
          "metadata": {},
          "execution_count": 61
        }
      ]
    },
    {
      "cell_type": "markdown",
      "metadata": {
        "id": "_hILRDdJupcJ"
      },
      "source": [
        "**Visualizando as Features mais importantes do Modelo**"
      ]
    },
    {
      "cell_type": "code",
      "metadata": {
        "id": "HNdo4ro9upcL",
        "colab": {
          "base_uri": "https://localhost:8080/",
          "height": 300
        },
        "outputId": "adb71a3c-1913-4e29-94a2-6c3d6831d55e"
      },
      "source": [
        "%matplotlib inline\n",
        "sns.barplot(x=feature_imp, y=feature_imp.index)\n",
        "\n",
        "plt.xlabel('Importância de Features')\n",
        "plt.ylabel('Features')\n",
        "plt.title(\"Importância de Features\")\n",
        "plt.show()"
      ],
      "execution_count": null,
      "outputs": [
        {
          "output_type": "display_data",
          "data": {
            "text/plain": [
              "<Figure size 432x288 with 1 Axes>"
            ],
            "image/png": "[encoded data removed]"
          },
          "metadata": {
            "needs_background": "light"
          }
        }
      ]
    },
    {
      "cell_type": "markdown",
      "metadata": {
        "id": "FGOkwvXHupcP"
      },
      "source": [
        "### Visualizando a árvore de Decisão"
      ]
    },
    {
      "cell_type": "markdown",
      "metadata": {
        "id": "K5aE_Iv8upcQ"
      },
      "source": [
        "- Instala as bibliotecas para visualização no notebook"
      ]
    },
    {
      "cell_type": "code",
      "metadata": {
        "id": "z2Fm7bkKupcR",
        "outputId": "6a3063aa-a585-4cbf-a01f-1f4410db65d9",
        "colab": {
          "base_uri": "https://localhost:8080/"
        }
      },
      "source": [
        "!pip install pydot\n",
        "!pip install graphviz"
      ],
      "execution_count": null,
      "outputs": [
        {
          "output_type": "stream",
          "name": "stdout",
          "text": [
            "Requirement already satisfied: pydot in /usr/local/lib/python3.7/dist-packages (1.3.0)\n",
            "Requirement already satisfied: pyparsing>=2.1.4 in /usr/local/lib/python3.7/dist-packages (from pydot) (3.0.8)\n",
            "Requirement already satisfied: graphviz in /usr/local/lib/python3.7/dist-packages (0.10.1)\n"
          ]
        }
      ]
    },
    {
      "cell_type": "code",
      "metadata": {
        "id": "XYWBWeOKupcU"
      },
      "source": [
        "import pydot\n",
        "import graphviz\n",
        "from ipywidgets import interactive"
      ],
      "execution_count": null,
      "outputs": []
    },
    {
      "cell_type": "code",
      "metadata": {
        "id": "vo1crZGwupcX",
        "colab": {
          "base_uri": "https://localhost:8080/",
          "height": 815
        },
        "outputId": "ae076b42-3824-4f27-ae66-7fb226a37a5b"
      },
      "source": [
        "dot_data = tree.export_graphviz(\n",
        "         arvore,\n",
        "         feature_names=X.columns,\n",
        "         class_names=y,\n",
        "         max_depth=3,\n",
        "         filled=True,\n",
        "         rounded=True,\n",
        "         node_ids=True,\n",
        "         label='all',\n",
        "        )\n",
        "graph = graphviz.Source(dot_data)\n",
        "graph"
      ],
      "execution_count": null,
      "outputs": [
        {
          "output_type": "execute_result",
          "data": {
            "text/plain": [
              "<graphviz.files.Source at 0x7f8f73d94910>"
            ],
            "image/svg+xml": "<?xml version=\"1.0\" encoding=\"UTF-8\" standalone=\"no\"?>\n<!DOCTYPE svg PUBLIC \"-//W3C//DTD SVG 1.1//EN\"\n \"http://www.w3.org/Graphics/SVG/1.1/DTD/svg11.dtd\">\n<!-- Generated by graphviz version 2.40.1 (20161225.0304)\n -->\n<!-- Title: Tree Pages: 1 -->\n<svg width=\"1248pt\" height=\"580pt\"\n viewBox=\"0.00 0.00 1247.50 580.00\" xmlns=\"http://www.w3.org/2000/svg\" xmlns:xlink=\"http://www.w3.org/1999/xlink\">\n<g id=\"graph0\" class=\"graph\" transform=\"scale(1 1) rotate(0) translate(4 576)\">\n<title>Tree</title>\n<polygon fill=\"#ffffff\" stroke=\"transparent\" points=\"-4,4 -4,-576 1243.5,-576 1243.5,4 -4,4\"/>\n<!-- 0 -->\n<g id=\"node1\" class=\"node\">\n<title>0</title>\n<path fill=\"#fcefe7\" stroke=\"#000000\" d=\"M680,-572C680,-572 555,-572 555,-572 549,-572 543,-566 543,-560 543,-560 543,-486 543,-486 543,-480 549,-474 555,-474 555,-474 680,-474 680,-474 686,-474 692,-480 692,-486 692,-486 692,-560 692,-560 692,-566 686,-572 680,-572\"/>\n<text text-anchor=\"middle\" x=\"617.5\" y=\"-556.8\" font-family=\"Helvetica,sans-Serif\" font-size=\"14.00\" fill=\"#000000\">node #0</text>\n<text text-anchor=\"middle\" x=\"617.5\" y=\"-541.8\" font-family=\"Helvetica,sans-Serif\" font-size=\"14.00\" fill=\"#000000\">vehicle.age &lt;= 4.5</text>\n<text text-anchor=\"middle\" x=\"617.5\" y=\"-526.8\" font-family=\"Helvetica,sans-Serif\" font-size=\"14.00\" fill=\"#000000\">gini = 0.498</text>\n<text text-anchor=\"middle\" x=\"617.5\" y=\"-511.8\" font-family=\"Helvetica,sans-Serif\" font-size=\"14.00\" fill=\"#000000\">samples = 5621</text>\n<text text-anchor=\"middle\" x=\"617.5\" y=\"-496.8\" font-family=\"Helvetica,sans-Serif\" font-size=\"14.00\" fill=\"#000000\">value = [2995, 2626]</text>\n<text text-anchor=\"middle\" x=\"617.5\" y=\"-481.8\" font-family=\"Helvetica,sans-Serif\" font-size=\"14.00\" fill=\"#000000\">class = YES</text>\n</g>\n<!-- 1 -->\n<g id=\"node2\" class=\"node\">\n<title>1</title>\n<path fill=\"#f2c19e\" stroke=\"#000000\" d=\"M521,-438C521,-438 402,-438 402,-438 396,-438 390,-432 390,-426 390,-426 390,-352 390,-352 390,-346 396,-340 402,-340 402,-340 521,-340 521,-340 527,-340 533,-346 533,-352 533,-352 533,-426 533,-426 533,-432 527,-438 521,-438\"/>\n<text text-anchor=\"middle\" x=\"461.5\" y=\"-422.8\" font-family=\"Helvetica,sans-Serif\" font-size=\"14.00\" fill=\"#000000\">node #1</text>\n<text text-anchor=\"middle\" x=\"461.5\" y=\"-407.8\" font-family=\"Helvetica,sans-Serif\" font-size=\"14.00\" fill=\"#000000\">total.cost &lt;= 5583.0</text>\n<text text-anchor=\"middle\" x=\"461.5\" y=\"-392.8\" font-family=\"Helvetica,sans-Serif\" font-size=\"14.00\" fill=\"#000000\">gini = 0.447</text>\n<text text-anchor=\"middle\" x=\"461.5\" y=\"-377.8\" font-family=\"Helvetica,sans-Serif\" font-size=\"14.00\" fill=\"#000000\">samples = 1581</text>\n<text text-anchor=\"middle\" x=\"461.5\" y=\"-362.8\" font-family=\"Helvetica,sans-Serif\" font-size=\"14.00\" fill=\"#000000\">value = [1047, 534]</text>\n<text text-anchor=\"middle\" x=\"461.5\" y=\"-347.8\" font-family=\"Helvetica,sans-Serif\" font-size=\"14.00\" fill=\"#000000\">class = YES</text>\n</g>\n<!-- 0&#45;&gt;1 -->\n<g id=\"edge1\" class=\"edge\">\n<title>0&#45;&gt;1</title>\n<path fill=\"none\" stroke=\"#000000\" d=\"M560.2972,-473.8642C549.2753,-464.3967 537.6557,-454.4158 526.4099,-444.7559\"/>\n<polygon fill=\"#000000\" stroke=\"#000000\" points=\"528.5622,-441.9908 518.6959,-438.1298 524.0011,-447.3008 528.5622,-441.9908\"/>\n<text text-anchor=\"middle\" x=\"520.587\" y=\"-459.3582\" font-family=\"Helvetica,sans-Serif\" font-size=\"14.00\" fill=\"#000000\">True</text>\n</g>\n<!-- 728 -->\n<g id=\"node17\" class=\"node\">\n<title>728</title>\n<path fill=\"#f1f8fd\" stroke=\"#000000\" d=\"M844,-438C844,-438 719,-438 719,-438 713,-438 707,-432 707,-426 707,-426 707,-352 707,-352 707,-346 713,-340 719,-340 719,-340 844,-340 844,-340 850,-340 856,-346 856,-352 856,-352 856,-426 856,-426 856,-432 850,-438 844,-438\"/>\n<text text-anchor=\"middle\" x=\"781.5\" y=\"-422.8\" font-family=\"Helvetica,sans-Serif\" font-size=\"14.00\" fill=\"#000000\">node #728</text>\n<text text-anchor=\"middle\" x=\"781.5\" y=\"-407.8\" font-family=\"Helvetica,sans-Serif\" font-size=\"14.00\" fill=\"#000000\">total.cost &lt;= 4646.5</text>\n<text text-anchor=\"middle\" x=\"781.5\" y=\"-392.8\" font-family=\"Helvetica,sans-Serif\" font-size=\"14.00\" fill=\"#000000\">gini = 0.499</text>\n<text text-anchor=\"middle\" x=\"781.5\" y=\"-377.8\" font-family=\"Helvetica,sans-Serif\" font-size=\"14.00\" fill=\"#000000\">samples = 4040</text>\n<text text-anchor=\"middle\" x=\"781.5\" y=\"-362.8\" font-family=\"Helvetica,sans-Serif\" font-size=\"14.00\" fill=\"#000000\">value = [1948, 2092]</text>\n<text text-anchor=\"middle\" x=\"781.5\" y=\"-347.8\" font-family=\"Helvetica,sans-Serif\" font-size=\"14.00\" fill=\"#000000\">class = YES</text>\n</g>\n<!-- 0&#45;&gt;728 -->\n<g id=\"edge16\" class=\"edge\">\n<title>0&#45;&gt;728</title>\n<path fill=\"none\" stroke=\"#000000\" d=\"M677.6363,-473.8642C689.3348,-464.3057 701.6738,-454.2238 713.6024,-444.4773\"/>\n<polygon fill=\"#000000\" stroke=\"#000000\" points=\"715.8417,-447.1674 721.371,-438.1298 711.4126,-441.7468 715.8417,-447.1674\"/>\n<text text-anchor=\"middle\" x=\"718.8668\" y=\"-459.3041\" font-family=\"Helvetica,sans-Serif\" font-size=\"14.00\" fill=\"#000000\">False</text>\n</g>\n<!-- 2 -->\n<g id=\"node3\" class=\"node\">\n<title>2</title>\n<path fill=\"#eda775\" stroke=\"#000000\" d=\"M284.5,-304C284.5,-304 176.5,-304 176.5,-304 170.5,-304 164.5,-298 164.5,-292 164.5,-292 164.5,-218 164.5,-218 164.5,-212 170.5,-206 176.5,-206 176.5,-206 284.5,-206 284.5,-206 290.5,-206 296.5,-212 296.5,-218 296.5,-218 296.5,-292 296.5,-292 296.5,-298 290.5,-304 284.5,-304\"/>\n<text text-anchor=\"middle\" x=\"230.5\" y=\"-288.8\" font-family=\"Helvetica,sans-Serif\" font-size=\"14.00\" fill=\"#000000\">node #2</text>\n<text text-anchor=\"middle\" x=\"230.5\" y=\"-273.8\" font-family=\"Helvetica,sans-Serif\" font-size=\"14.00\" fill=\"#000000\">state &lt;= 3.5</text>\n<text text-anchor=\"middle\" x=\"230.5\" y=\"-258.8\" font-family=\"Helvetica,sans-Serif\" font-size=\"14.00\" fill=\"#000000\">gini = 0.358</text>\n<text text-anchor=\"middle\" x=\"230.5\" y=\"-243.8\" font-family=\"Helvetica,sans-Serif\" font-size=\"14.00\" fill=\"#000000\">samples = 1024</text>\n<text text-anchor=\"middle\" x=\"230.5\" y=\"-228.8\" font-family=\"Helvetica,sans-Serif\" font-size=\"14.00\" fill=\"#000000\">value = [785, 239]</text>\n<text text-anchor=\"middle\" x=\"230.5\" y=\"-213.8\" font-family=\"Helvetica,sans-Serif\" font-size=\"14.00\" fill=\"#000000\">class = YES</text>\n</g>\n<!-- 1&#45;&gt;2 -->\n<g id=\"edge2\" class=\"edge\">\n<title>1&#45;&gt;2</title>\n<path fill=\"none\" stroke=\"#000000\" d=\"M389.9921,-347.5192C363.0901,-331.9137 332.4445,-314.1366 305.2544,-298.364\"/>\n<polygon fill=\"#000000\" stroke=\"#000000\" points=\"306.9632,-295.3091 296.557,-293.3188 303.4508,-301.3641 306.9632,-295.3091\"/>\n</g>\n<!-- 429 -->\n<g id=\"node10\" class=\"node\">\n<title>429</title>\n<path fill=\"#e9f4fc\" stroke=\"#000000\" d=\"M522,-304C522,-304 401,-304 401,-304 395,-304 389,-298 389,-292 389,-292 389,-218 389,-218 389,-212 395,-206 401,-206 401,-206 522,-206 522,-206 528,-206 534,-212 534,-218 534,-218 534,-292 534,-292 534,-298 528,-304 522,-304\"/>\n<text text-anchor=\"middle\" x=\"461.5\" y=\"-288.8\" font-family=\"Helvetica,sans-Serif\" font-size=\"14.00\" fill=\"#000000\">node #429</text>\n<text text-anchor=\"middle\" x=\"461.5\" y=\"-273.8\" font-family=\"Helvetica,sans-Serif\" font-size=\"14.00\" fill=\"#000000\">mileage &lt;= 22243.5</text>\n<text text-anchor=\"middle\" x=\"461.5\" y=\"-258.8\" font-family=\"Helvetica,sans-Serif\" font-size=\"14.00\" fill=\"#000000\">gini = 0.498</text>\n<text text-anchor=\"middle\" x=\"461.5\" y=\"-243.8\" font-family=\"Helvetica,sans-Serif\" font-size=\"14.00\" fill=\"#000000\">samples = 557</text>\n<text text-anchor=\"middle\" x=\"461.5\" y=\"-228.8\" font-family=\"Helvetica,sans-Serif\" font-size=\"14.00\" fill=\"#000000\">value = [262, 295]</text>\n<text text-anchor=\"middle\" x=\"461.5\" y=\"-213.8\" font-family=\"Helvetica,sans-Serif\" font-size=\"14.00\" fill=\"#000000\">class = YES</text>\n</g>\n<!-- 1&#45;&gt;429 -->\n<g id=\"edge9\" class=\"edge\">\n<title>1&#45;&gt;429</title>\n<path fill=\"none\" stroke=\"#000000\" d=\"M461.5,-339.8642C461.5,-331.5802 461.5,-322.903 461.5,-314.3918\"/>\n<polygon fill=\"#000000\" stroke=\"#000000\" points=\"465.0001,-314.1298 461.5,-304.1298 458.0001,-314.1299 465.0001,-314.1298\"/>\n</g>\n<!-- 3 -->\n<g id=\"node4\" class=\"node\">\n<title>3</title>\n<path fill=\"#f0b68c\" stroke=\"#000000\" d=\"M131,-170C131,-170 12,-170 12,-170 6,-170 0,-164 0,-158 0,-158 0,-84 0,-84 0,-78 6,-72 12,-72 12,-72 131,-72 131,-72 137,-72 143,-78 143,-84 143,-84 143,-158 143,-158 143,-164 137,-170 131,-170\"/>\n<text text-anchor=\"middle\" x=\"71.5\" y=\"-154.8\" font-family=\"Helvetica,sans-Serif\" font-size=\"14.00\" fill=\"#000000\">node #3</text>\n<text text-anchor=\"middle\" x=\"71.5\" y=\"-139.8\" font-family=\"Helvetica,sans-Serif\" font-size=\"14.00\" fill=\"#000000\">total.cost &lt;= 4560.0</text>\n<text text-anchor=\"middle\" x=\"71.5\" y=\"-124.8\" font-family=\"Helvetica,sans-Serif\" font-size=\"14.00\" fill=\"#000000\">gini = 0.416</text>\n<text text-anchor=\"middle\" x=\"71.5\" y=\"-109.8\" font-family=\"Helvetica,sans-Serif\" font-size=\"14.00\" fill=\"#000000\">samples = 548</text>\n<text text-anchor=\"middle\" x=\"71.5\" y=\"-94.8\" font-family=\"Helvetica,sans-Serif\" font-size=\"14.00\" fill=\"#000000\">value = [386, 162]</text>\n<text text-anchor=\"middle\" x=\"71.5\" y=\"-79.8\" font-family=\"Helvetica,sans-Serif\" font-size=\"14.00\" fill=\"#000000\">class = YES</text>\n</g>\n<!-- 2&#45;&gt;3 -->\n<g id=\"edge3\" class=\"edge\">\n<title>2&#45;&gt;3</title>\n<path fill=\"none\" stroke=\"#000000\" d=\"M172.1971,-205.8642C160.9633,-196.3967 149.1202,-186.4158 137.6581,-176.7559\"/>\n<polygon fill=\"#000000\" stroke=\"#000000\" points=\"139.698,-173.8979 129.7958,-170.1298 135.187,-179.2505 139.698,-173.8979\"/>\n</g>\n<!-- 274 -->\n<g id=\"node7\" class=\"node\">\n<title>274</title>\n<path fill=\"#ea995f\" stroke=\"#000000\" d=\"M287.5,-170C287.5,-170 173.5,-170 173.5,-170 167.5,-170 161.5,-164 161.5,-158 161.5,-158 161.5,-84 161.5,-84 161.5,-78 167.5,-72 173.5,-72 173.5,-72 287.5,-72 287.5,-72 293.5,-72 299.5,-78 299.5,-84 299.5,-84 299.5,-158 299.5,-158 299.5,-164 293.5,-170 287.5,-170\"/>\n<text text-anchor=\"middle\" x=\"230.5\" y=\"-154.8\" font-family=\"Helvetica,sans-Serif\" font-size=\"14.00\" fill=\"#000000\">node #274</text>\n<text text-anchor=\"middle\" x=\"230.5\" y=\"-139.8\" font-family=\"Helvetica,sans-Serif\" font-size=\"14.00\" fill=\"#000000\">vehicle.type &lt;= 0.5</text>\n<text text-anchor=\"middle\" x=\"230.5\" y=\"-124.8\" font-family=\"Helvetica,sans-Serif\" font-size=\"14.00\" fill=\"#000000\">gini = 0.271</text>\n<text text-anchor=\"middle\" x=\"230.5\" y=\"-109.8\" font-family=\"Helvetica,sans-Serif\" font-size=\"14.00\" fill=\"#000000\">samples = 476</text>\n<text text-anchor=\"middle\" x=\"230.5\" y=\"-94.8\" font-family=\"Helvetica,sans-Serif\" font-size=\"14.00\" fill=\"#000000\">value = [399, 77]</text>\n<text text-anchor=\"middle\" x=\"230.5\" y=\"-79.8\" font-family=\"Helvetica,sans-Serif\" font-size=\"14.00\" fill=\"#000000\">class = YES</text>\n</g>\n<!-- 2&#45;&gt;274 -->\n<g id=\"edge6\" class=\"edge\">\n<title>2&#45;&gt;274</title>\n<path fill=\"none\" stroke=\"#000000\" d=\"M230.5,-205.8642C230.5,-197.5802 230.5,-188.903 230.5,-180.3918\"/>\n<polygon fill=\"#000000\" stroke=\"#000000\" points=\"234.0001,-180.1298 230.5,-170.1298 227.0001,-180.1299 234.0001,-180.1298\"/>\n</g>\n<!-- 4 -->\n<g id=\"node5\" class=\"node\">\n<title>4</title>\n<path fill=\"#c0c0c0\" stroke=\"#000000\" d=\"M50.5,-36C50.5,-36 20.5,-36 20.5,-36 14.5,-36 8.5,-30 8.5,-24 8.5,-24 8.5,-12 8.5,-12 8.5,-6 14.5,0 20.5,0 20.5,0 50.5,0 50.5,0 56.5,0 62.5,-6 62.5,-12 62.5,-12 62.5,-24 62.5,-24 62.5,-30 56.5,-36 50.5,-36\"/>\n<text text-anchor=\"middle\" x=\"35.5\" y=\"-14.3\" font-family=\"Helvetica,sans-Serif\" font-size=\"14.00\" fill=\"#000000\">(...)</text>\n</g>\n<!-- 3&#45;&gt;4 -->\n<g id=\"edge4\" class=\"edge\">\n<title>3&#45;&gt;4</title>\n<path fill=\"none\" stroke=\"#000000\" d=\"M54.3435,-71.9133C51.2365,-63.0239 48.096,-54.0385 45.2932,-46.0195\"/>\n<polygon fill=\"#000000\" stroke=\"#000000\" points=\"48.5552,-44.7441 41.9517,-36.4589 41.9471,-47.0538 48.5552,-44.7441\"/>\n</g>\n<!-- 65 -->\n<g id=\"node6\" class=\"node\">\n<title>65</title>\n<path fill=\"#c0c0c0\" stroke=\"#000000\" d=\"M122.5,-36C122.5,-36 92.5,-36 92.5,-36 86.5,-36 80.5,-30 80.5,-24 80.5,-24 80.5,-12 80.5,-12 80.5,-6 86.5,0 92.5,0 92.5,0 122.5,0 122.5,0 128.5,0 134.5,-6 134.5,-12 134.5,-12 134.5,-24 134.5,-24 134.5,-30 128.5,-36 122.5,-36\"/>\n<text text-anchor=\"middle\" x=\"107.5\" y=\"-14.3\" font-family=\"Helvetica,sans-Serif\" font-size=\"14.00\" fill=\"#000000\">(...)</text>\n</g>\n<!-- 3&#45;&gt;65 -->\n<g id=\"edge5\" class=\"edge\">\n<title>3&#45;&gt;65</title>\n<path fill=\"none\" stroke=\"#000000\" d=\"M88.6565,-71.9133C91.7635,-63.0239 94.904,-54.0385 97.7068,-46.0195\"/>\n<polygon fill=\"#000000\" stroke=\"#000000\" points=\"101.0529,-47.0538 101.0483,-36.4589 94.4448,-44.7441 101.0529,-47.0538\"/>\n</g>\n<!-- 275 -->\n<g id=\"node8\" class=\"node\">\n<title>275</title>\n<path fill=\"#c0c0c0\" stroke=\"#000000\" d=\"M213.5,-36C213.5,-36 183.5,-36 183.5,-36 177.5,-36 171.5,-30 171.5,-24 171.5,-24 171.5,-12 171.5,-12 171.5,-6 177.5,0 183.5,0 183.5,0 213.5,0 213.5,0 219.5,0 225.5,-6 225.5,-12 225.5,-12 225.5,-24 225.5,-24 225.5,-30 219.5,-36 213.5,-36\"/>\n<text text-anchor=\"middle\" x=\"198.5\" y=\"-14.3\" font-family=\"Helvetica,sans-Serif\" font-size=\"14.00\" fill=\"#000000\">(...)</text>\n</g>\n<!-- 274&#45;&gt;275 -->\n<g id=\"edge7\" class=\"edge\">\n<title>274&#45;&gt;275</title>\n<path fill=\"none\" stroke=\"#000000\" d=\"M215.2498,-71.9133C212.488,-63.0239 209.6964,-54.0385 207.2051,-46.0195\"/>\n<polygon fill=\"#000000\" stroke=\"#000000\" points=\"210.5442,-44.9702 204.2348,-36.4589 203.8594,-47.0471 210.5442,-44.9702\"/>\n</g>\n<!-- 364 -->\n<g id=\"node9\" class=\"node\">\n<title>364</title>\n<path fill=\"#c0c0c0\" stroke=\"#000000\" d=\"M285.5,-36C285.5,-36 255.5,-36 255.5,-36 249.5,-36 243.5,-30 243.5,-24 243.5,-24 243.5,-12 243.5,-12 243.5,-6 249.5,0 255.5,0 255.5,0 285.5,0 285.5,0 291.5,0 297.5,-6 297.5,-12 297.5,-12 297.5,-24 297.5,-24 297.5,-30 291.5,-36 285.5,-36\"/>\n<text text-anchor=\"middle\" x=\"270.5\" y=\"-14.3\" font-family=\"Helvetica,sans-Serif\" font-size=\"14.00\" fill=\"#000000\">(...)</text>\n</g>\n<!-- 274&#45;&gt;364 -->\n<g id=\"edge8\" class=\"edge\">\n<title>274&#45;&gt;364</title>\n<path fill=\"none\" stroke=\"#000000\" d=\"M249.5628,-71.9133C253.015,-63.0239 256.5045,-54.0385 259.6186,-46.0195\"/>\n<polygon fill=\"#000000\" stroke=\"#000000\" points=\"262.9739,-47.0477 263.3315,-36.4589 256.4487,-44.5136 262.9739,-47.0477\"/>\n</g>\n<!-- 430 -->\n<g id=\"node11\" class=\"node\">\n<title>430</title>\n<path fill=\"#52a9e8\" stroke=\"#000000\" d=\"M443,-170C443,-170 330,-170 330,-170 324,-170 318,-164 318,-158 318,-158 318,-84 318,-84 318,-78 324,-72 330,-72 330,-72 443,-72 443,-72 449,-72 455,-78 455,-84 455,-84 455,-158 455,-158 455,-164 449,-170 443,-170\"/>\n<text text-anchor=\"middle\" x=\"386.5\" y=\"-154.8\" font-family=\"Helvetica,sans-Serif\" font-size=\"14.00\" fill=\"#000000\">node #430</text>\n<text text-anchor=\"middle\" x=\"386.5\" y=\"-139.8\" font-family=\"Helvetica,sans-Serif\" font-size=\"14.00\" fill=\"#000000\">mileage &lt;= 9897.0</text>\n<text text-anchor=\"middle\" x=\"386.5\" y=\"-124.8\" font-family=\"Helvetica,sans-Serif\" font-size=\"14.00\" fill=\"#000000\">gini = 0.198</text>\n<text text-anchor=\"middle\" x=\"386.5\" y=\"-109.8\" font-family=\"Helvetica,sans-Serif\" font-size=\"14.00\" fill=\"#000000\">samples = 81</text>\n<text text-anchor=\"middle\" x=\"386.5\" y=\"-94.8\" font-family=\"Helvetica,sans-Serif\" font-size=\"14.00\" fill=\"#000000\">value = [9, 72]</text>\n<text text-anchor=\"middle\" x=\"386.5\" y=\"-79.8\" font-family=\"Helvetica,sans-Serif\" font-size=\"14.00\" fill=\"#000000\">class = YES</text>\n</g>\n<!-- 429&#45;&gt;430 -->\n<g id=\"edge10\" class=\"edge\">\n<title>429&#45;&gt;430</title>\n<path fill=\"none\" stroke=\"#000000\" d=\"M433.9986,-205.8642C429.1073,-197.125 423.9711,-187.9483 418.9573,-178.9904\"/>\n<polygon fill=\"#000000\" stroke=\"#000000\" points=\"421.9363,-177.1466 413.998,-170.1298 415.828,-180.5654 421.9363,-177.1466\"/>\n</g>\n<!-- 461 -->\n<g id=\"node14\" class=\"node\">\n<title>461</title>\n<path fill=\"#fcf0e8\" stroke=\"#000000\" d=\"M596,-170C596,-170 485,-170 485,-170 479,-170 473,-164 473,-158 473,-158 473,-84 473,-84 473,-78 479,-72 485,-72 485,-72 596,-72 596,-72 602,-72 608,-78 608,-84 608,-84 608,-158 608,-158 608,-164 602,-170 596,-170\"/>\n<text text-anchor=\"middle\" x=\"540.5\" y=\"-154.8\" font-family=\"Helvetica,sans-Serif\" font-size=\"14.00\" fill=\"#000000\">node #461</text>\n<text text-anchor=\"middle\" x=\"540.5\" y=\"-139.8\" font-family=\"Helvetica,sans-Serif\" font-size=\"14.00\" fill=\"#000000\">vehicle.age &lt;= 3.5</text>\n<text text-anchor=\"middle\" x=\"540.5\" y=\"-124.8\" font-family=\"Helvetica,sans-Serif\" font-size=\"14.00\" fill=\"#000000\">gini = 0.498</text>\n<text text-anchor=\"middle\" x=\"540.5\" y=\"-109.8\" font-family=\"Helvetica,sans-Serif\" font-size=\"14.00\" fill=\"#000000\">samples = 476</text>\n<text text-anchor=\"middle\" x=\"540.5\" y=\"-94.8\" font-family=\"Helvetica,sans-Serif\" font-size=\"14.00\" fill=\"#000000\">value = [253, 223]</text>\n<text text-anchor=\"middle\" x=\"540.5\" y=\"-79.8\" font-family=\"Helvetica,sans-Serif\" font-size=\"14.00\" fill=\"#000000\">class = YES</text>\n</g>\n<!-- 429&#45;&gt;461 -->\n<g id=\"edge13\" class=\"edge\">\n<title>429&#45;&gt;461</title>\n<path fill=\"none\" stroke=\"#000000\" d=\"M490.4681,-205.8642C495.6203,-197.125 501.0305,-187.9483 506.3116,-178.9904\"/>\n<polygon fill=\"#000000\" stroke=\"#000000\" points=\"509.4718,-180.5218 511.5354,-170.1298 503.4417,-176.9667 509.4718,-180.5218\"/>\n</g>\n<!-- 431 -->\n<g id=\"node12\" class=\"node\">\n<title>431</title>\n<path fill=\"#c0c0c0\" stroke=\"#000000\" d=\"M381.5,-36C381.5,-36 351.5,-36 351.5,-36 345.5,-36 339.5,-30 339.5,-24 339.5,-24 339.5,-12 339.5,-12 339.5,-6 345.5,0 351.5,0 351.5,0 381.5,0 381.5,0 387.5,0 393.5,-6 393.5,-12 393.5,-12 393.5,-24 393.5,-24 393.5,-30 387.5,-36 381.5,-36\"/>\n<text text-anchor=\"middle\" x=\"366.5\" y=\"-14.3\" font-family=\"Helvetica,sans-Serif\" font-size=\"14.00\" fill=\"#000000\">(...)</text>\n</g>\n<!-- 430&#45;&gt;431 -->\n<g id=\"edge11\" class=\"edge\">\n<title>430&#45;&gt;431</title>\n<path fill=\"none\" stroke=\"#000000\" d=\"M376.9686,-71.9133C375.2617,-63.1227 373.5365,-54.2382 371.9927,-46.2872\"/>\n<polygon fill=\"#000000\" stroke=\"#000000\" points=\"375.4263,-45.6084 370.0843,-36.4589 368.5547,-46.9427 375.4263,-45.6084\"/>\n</g>\n<!-- 434 -->\n<g id=\"node13\" class=\"node\">\n<title>434</title>\n<path fill=\"#c0c0c0\" stroke=\"#000000\" d=\"M453.5,-36C453.5,-36 423.5,-36 423.5,-36 417.5,-36 411.5,-30 411.5,-24 411.5,-24 411.5,-12 411.5,-12 411.5,-6 417.5,0 423.5,0 423.5,0 453.5,0 453.5,0 459.5,0 465.5,-6 465.5,-12 465.5,-12 465.5,-24 465.5,-24 465.5,-30 459.5,-36 453.5,-36\"/>\n<text text-anchor=\"middle\" x=\"438.5\" y=\"-14.3\" font-family=\"Helvetica,sans-Serif\" font-size=\"14.00\" fill=\"#000000\">(...)</text>\n</g>\n<!-- 430&#45;&gt;434 -->\n<g id=\"edge12\" class=\"edge\">\n<title>430&#45;&gt;434</title>\n<path fill=\"none\" stroke=\"#000000\" d=\"M411.2816,-71.9133C415.8692,-62.8264 420.5074,-53.6391 424.6234,-45.4863\"/>\n<polygon fill=\"#000000\" stroke=\"#000000\" points=\"427.7985,-46.9632 429.1809,-36.4589 421.5497,-43.8084 427.7985,-46.9632\"/>\n</g>\n<!-- 462 -->\n<g id=\"node15\" class=\"node\">\n<title>462</title>\n<path fill=\"#c0c0c0\" stroke=\"#000000\" d=\"M537.5,-36C537.5,-36 507.5,-36 507.5,-36 501.5,-36 495.5,-30 495.5,-24 495.5,-24 495.5,-12 495.5,-12 495.5,-6 501.5,0 507.5,0 507.5,0 537.5,0 537.5,0 543.5,0 549.5,-6 549.5,-12 549.5,-12 549.5,-24 549.5,-24 549.5,-30 543.5,-36 537.5,-36\"/>\n<text text-anchor=\"middle\" x=\"522.5\" y=\"-14.3\" font-family=\"Helvetica,sans-Serif\" font-size=\"14.00\" fill=\"#000000\">(...)</text>\n</g>\n<!-- 461&#45;&gt;462 -->\n<g id=\"edge14\" class=\"edge\">\n<title>461&#45;&gt;462</title>\n<path fill=\"none\" stroke=\"#000000\" d=\"M531.9217,-71.9133C530.4028,-63.2215 528.8678,-54.4378 527.4903,-46.5555\"/>\n<polygon fill=\"#000000\" stroke=\"#000000\" points=\"530.8951,-45.7071 525.7258,-36.4589 523.9996,-46.9122 530.8951,-45.7071\"/>\n</g>\n<!-- 573 -->\n<g id=\"node16\" class=\"node\">\n<title>573</title>\n<path fill=\"#c0c0c0\" stroke=\"#000000\" d=\"M609.5,-36C609.5,-36 579.5,-36 579.5,-36 573.5,-36 567.5,-30 567.5,-24 567.5,-24 567.5,-12 567.5,-12 567.5,-6 573.5,0 579.5,0 579.5,0 609.5,0 609.5,0 615.5,0 621.5,-6 621.5,-12 621.5,-12 621.5,-24 621.5,-24 621.5,-30 615.5,-36 609.5,-36\"/>\n<text text-anchor=\"middle\" x=\"594.5\" y=\"-14.3\" font-family=\"Helvetica,sans-Serif\" font-size=\"14.00\" fill=\"#000000\">(...)</text>\n</g>\n<!-- 461&#45;&gt;573 -->\n<g id=\"edge15\" class=\"edge\">\n<title>461&#45;&gt;573</title>\n<path fill=\"none\" stroke=\"#000000\" d=\"M566.2348,-71.9133C570.9988,-62.8264 575.8154,-53.6391 580.0897,-45.4863\"/>\n<polygon fill=\"#000000\" stroke=\"#000000\" points=\"583.279,-46.9407 584.8225,-36.4589 577.0794,-43.6904 583.279,-46.9407\"/>\n</g>\n<!-- 729 -->\n<g id=\"node18\" class=\"node\">\n<title>729</title>\n<path fill=\"#f8dcc7\" stroke=\"#000000\" d=\"M837,-304C837,-304 726,-304 726,-304 720,-304 714,-298 714,-292 714,-292 714,-218 714,-218 714,-212 720,-206 726,-206 726,-206 837,-206 837,-206 843,-206 849,-212 849,-218 849,-218 849,-292 849,-292 849,-298 843,-304 837,-304\"/>\n<text text-anchor=\"middle\" x=\"781.5\" y=\"-288.8\" font-family=\"Helvetica,sans-Serif\" font-size=\"14.00\" fill=\"#000000\">node #729</text>\n<text text-anchor=\"middle\" x=\"781.5\" y=\"-273.8\" font-family=\"Helvetica,sans-Serif\" font-size=\"14.00\" fill=\"#000000\">vehicle.age &lt;= 6.5</text>\n<text text-anchor=\"middle\" x=\"781.5\" y=\"-258.8\" font-family=\"Helvetica,sans-Serif\" font-size=\"14.00\" fill=\"#000000\">gini = 0.487</text>\n<text text-anchor=\"middle\" x=\"781.5\" y=\"-243.8\" font-family=\"Helvetica,sans-Serif\" font-size=\"14.00\" fill=\"#000000\">samples = 1700</text>\n<text text-anchor=\"middle\" x=\"781.5\" y=\"-228.8\" font-family=\"Helvetica,sans-Serif\" font-size=\"14.00\" fill=\"#000000\">value = [989, 711]</text>\n<text text-anchor=\"middle\" x=\"781.5\" y=\"-213.8\" font-family=\"Helvetica,sans-Serif\" font-size=\"14.00\" fill=\"#000000\">class = YES</text>\n</g>\n<!-- 728&#45;&gt;729 -->\n<g id=\"edge17\" class=\"edge\">\n<title>728&#45;&gt;729</title>\n<path fill=\"none\" stroke=\"#000000\" d=\"M781.5,-339.8642C781.5,-331.5802 781.5,-322.903 781.5,-314.3918\"/>\n<polygon fill=\"#000000\" stroke=\"#000000\" points=\"785.0001,-314.1298 781.5,-304.1298 778.0001,-314.1299 785.0001,-314.1298\"/>\n</g>\n<!-- 1642 -->\n<g id=\"node25\" class=\"node\">\n<title>1642</title>\n<path fill=\"#c2e1f7\" stroke=\"#000000\" d=\"M1077.5,-304C1077.5,-304 961.5,-304 961.5,-304 955.5,-304 949.5,-298 949.5,-292 949.5,-292 949.5,-218 949.5,-218 949.5,-212 955.5,-206 961.5,-206 961.5,-206 1077.5,-206 1077.5,-206 1083.5,-206 1089.5,-212 1089.5,-218 1089.5,-218 1089.5,-292 1089.5,-292 1089.5,-298 1083.5,-304 1077.5,-304\"/>\n<text text-anchor=\"middle\" x=\"1019.5\" y=\"-288.8\" font-family=\"Helvetica,sans-Serif\" font-size=\"14.00\" fill=\"#000000\">node #1642</text>\n<text text-anchor=\"middle\" x=\"1019.5\" y=\"-273.8\" font-family=\"Helvetica,sans-Serif\" font-size=\"14.00\" fill=\"#000000\">vehicle.type &lt;= 3.5</text>\n<text text-anchor=\"middle\" x=\"1019.5\" y=\"-258.8\" font-family=\"Helvetica,sans-Serif\" font-size=\"14.00\" fill=\"#000000\">gini = 0.484</text>\n<text text-anchor=\"middle\" x=\"1019.5\" y=\"-243.8\" font-family=\"Helvetica,sans-Serif\" font-size=\"14.00\" fill=\"#000000\">samples = 2340</text>\n<text text-anchor=\"middle\" x=\"1019.5\" y=\"-228.8\" font-family=\"Helvetica,sans-Serif\" font-size=\"14.00\" fill=\"#000000\">value = [959, 1381]</text>\n<text text-anchor=\"middle\" x=\"1019.5\" y=\"-213.8\" font-family=\"Helvetica,sans-Serif\" font-size=\"14.00\" fill=\"#000000\">class = YES</text>\n</g>\n<!-- 728&#45;&gt;1642 -->\n<g id=\"edge24\" class=\"edge\">\n<title>728&#45;&gt;1642</title>\n<path fill=\"none\" stroke=\"#000000\" d=\"M856.1517,-346.9692C882.8519,-331.9363 913.028,-314.9464 940.1136,-299.6966\"/>\n<polygon fill=\"#000000\" stroke=\"#000000\" points=\"942.1745,-302.5529 949.1711,-294.5969 938.7402,-296.4532 942.1745,-302.5529\"/>\n</g>\n<!-- 730 -->\n<g id=\"node19\" class=\"node\">\n<title>730</title>\n<path fill=\"#f2c09c\" stroke=\"#000000\" d=\"M763,-170C763,-170 638,-170 638,-170 632,-170 626,-164 626,-158 626,-158 626,-84 626,-84 626,-78 632,-72 638,-72 638,-72 763,-72 763,-72 769,-72 775,-78 775,-84 775,-84 775,-158 775,-158 775,-164 769,-170 763,-170\"/>\n<text text-anchor=\"middle\" x=\"700.5\" y=\"-154.8\" font-family=\"Helvetica,sans-Serif\" font-size=\"14.00\" fill=\"#000000\">node #730</text>\n<text text-anchor=\"middle\" x=\"700.5\" y=\"-139.8\" font-family=\"Helvetica,sans-Serif\" font-size=\"14.00\" fill=\"#000000\">make.model &lt;= 15.5</text>\n<text text-anchor=\"middle\" x=\"700.5\" y=\"-124.8\" font-family=\"Helvetica,sans-Serif\" font-size=\"14.00\" fill=\"#000000\">gini = 0.444</text>\n<text text-anchor=\"middle\" x=\"700.5\" y=\"-109.8\" font-family=\"Helvetica,sans-Serif\" font-size=\"14.00\" fill=\"#000000\">samples = 859</text>\n<text text-anchor=\"middle\" x=\"700.5\" y=\"-94.8\" font-family=\"Helvetica,sans-Serif\" font-size=\"14.00\" fill=\"#000000\">value = [573, 286]</text>\n<text text-anchor=\"middle\" x=\"700.5\" y=\"-79.8\" font-family=\"Helvetica,sans-Serif\" font-size=\"14.00\" fill=\"#000000\">class = YES</text>\n</g>\n<!-- 729&#45;&gt;730 -->\n<g id=\"edge18\" class=\"edge\">\n<title>729&#45;&gt;730</title>\n<path fill=\"none\" stroke=\"#000000\" d=\"M751.7985,-205.8642C746.4608,-197.034 740.8532,-187.7571 735.3847,-178.7106\"/>\n<polygon fill=\"#000000\" stroke=\"#000000\" points=\"738.3663,-176.8772 730.1979,-170.1298 732.3757,-180.4984 738.3663,-176.8772\"/>\n</g>\n<!-- 1141 -->\n<g id=\"node22\" class=\"node\">\n<title>1141</title>\n<path fill=\"#fbfdfe\" stroke=\"#000000\" d=\"M919.5,-170C919.5,-170 805.5,-170 805.5,-170 799.5,-170 793.5,-164 793.5,-158 793.5,-158 793.5,-84 793.5,-84 793.5,-78 799.5,-72 805.5,-72 805.5,-72 919.5,-72 919.5,-72 925.5,-72 931.5,-78 931.5,-84 931.5,-84 931.5,-158 931.5,-158 931.5,-164 925.5,-170 919.5,-170\"/>\n<text text-anchor=\"middle\" x=\"862.5\" y=\"-154.8\" font-family=\"Helvetica,sans-Serif\" font-size=\"14.00\" fill=\"#000000\">node #1141</text>\n<text text-anchor=\"middle\" x=\"862.5\" y=\"-139.8\" font-family=\"Helvetica,sans-Serif\" font-size=\"14.00\" fill=\"#000000\">vehicle.type &lt;= 0.5</text>\n<text text-anchor=\"middle\" x=\"862.5\" y=\"-124.8\" font-family=\"Helvetica,sans-Serif\" font-size=\"14.00\" fill=\"#000000\">gini = 0.5</text>\n<text text-anchor=\"middle\" x=\"862.5\" y=\"-109.8\" font-family=\"Helvetica,sans-Serif\" font-size=\"14.00\" fill=\"#000000\">samples = 841</text>\n<text text-anchor=\"middle\" x=\"862.5\" y=\"-94.8\" font-family=\"Helvetica,sans-Serif\" font-size=\"14.00\" fill=\"#000000\">value = [416, 425]</text>\n<text text-anchor=\"middle\" x=\"862.5\" y=\"-79.8\" font-family=\"Helvetica,sans-Serif\" font-size=\"14.00\" fill=\"#000000\">class = YES</text>\n</g>\n<!-- 729&#45;&gt;1141 -->\n<g id=\"edge21\" class=\"edge\">\n<title>729&#45;&gt;1141</title>\n<path fill=\"none\" stroke=\"#000000\" d=\"M811.2015,-205.8642C816.5392,-197.034 822.1468,-187.7571 827.6153,-178.7106\"/>\n<polygon fill=\"#000000\" stroke=\"#000000\" points=\"830.6243,-180.4984 832.8021,-170.1298 824.6337,-176.8772 830.6243,-180.4984\"/>\n</g>\n<!-- 731 -->\n<g id=\"node20\" class=\"node\">\n<title>731</title>\n<path fill=\"#c0c0c0\" stroke=\"#000000\" d=\"M687.5,-36C687.5,-36 657.5,-36 657.5,-36 651.5,-36 645.5,-30 645.5,-24 645.5,-24 645.5,-12 645.5,-12 645.5,-6 651.5,0 657.5,0 657.5,0 687.5,0 687.5,0 693.5,0 699.5,-6 699.5,-12 699.5,-12 699.5,-24 699.5,-24 699.5,-30 693.5,-36 687.5,-36\"/>\n<text text-anchor=\"middle\" x=\"672.5\" y=\"-14.3\" font-family=\"Helvetica,sans-Serif\" font-size=\"14.00\" fill=\"#000000\">(...)</text>\n</g>\n<!-- 730&#45;&gt;731 -->\n<g id=\"edge19\" class=\"edge\">\n<title>730&#45;&gt;731</title>\n<path fill=\"none\" stroke=\"#000000\" d=\"M687.156,-71.9133C684.7664,-63.1227 682.3512,-54.2382 680.1897,-46.2872\"/>\n<polygon fill=\"#000000\" stroke=\"#000000\" points=\"683.5187,-45.1906 677.518,-36.4589 676.7638,-47.0269 683.5187,-45.1906\"/>\n</g>\n<!-- 816 -->\n<g id=\"node21\" class=\"node\">\n<title>816</title>\n<path fill=\"#c0c0c0\" stroke=\"#000000\" d=\"M759.5,-36C759.5,-36 729.5,-36 729.5,-36 723.5,-36 717.5,-30 717.5,-24 717.5,-24 717.5,-12 717.5,-12 717.5,-6 723.5,0 729.5,0 729.5,0 759.5,0 759.5,0 765.5,0 771.5,-6 771.5,-12 771.5,-12 771.5,-24 771.5,-24 771.5,-30 765.5,-36 759.5,-36\"/>\n<text text-anchor=\"middle\" x=\"744.5\" y=\"-14.3\" font-family=\"Helvetica,sans-Serif\" font-size=\"14.00\" fill=\"#000000\">(...)</text>\n</g>\n<!-- 730&#45;&gt;816 -->\n<g id=\"edge20\" class=\"edge\">\n<title>730&#45;&gt;816</title>\n<path fill=\"none\" stroke=\"#000000\" d=\"M721.4691,-71.9133C725.3087,-62.9252 729.1902,-53.8388 732.6445,-45.7526\"/>\n<polygon fill=\"#000000\" stroke=\"#000000\" points=\"735.9048,-47.0299 736.6146,-36.4589 729.4675,-44.28 735.9048,-47.0299\"/>\n</g>\n<!-- 1142 -->\n<g id=\"node23\" class=\"node\">\n<title>1142</title>\n<path fill=\"#c0c0c0\" stroke=\"#000000\" d=\"M834.5,-36C834.5,-36 804.5,-36 804.5,-36 798.5,-36 792.5,-30 792.5,-24 792.5,-24 792.5,-12 792.5,-12 792.5,-6 798.5,0 804.5,0 804.5,0 834.5,0 834.5,0 840.5,0 846.5,-6 846.5,-12 846.5,-12 846.5,-24 846.5,-24 846.5,-30 840.5,-36 834.5,-36\"/>\n<text text-anchor=\"middle\" x=\"819.5\" y=\"-14.3\" font-family=\"Helvetica,sans-Serif\" font-size=\"14.00\" fill=\"#000000\">(...)</text>\n</g>\n<!-- 1141&#45;&gt;1142 -->\n<g id=\"edge22\" class=\"edge\">\n<title>1141&#45;&gt;1142</title>\n<path fill=\"none\" stroke=\"#000000\" d=\"M842.0075,-71.9133C838.2552,-62.9252 834.4618,-53.8388 831.086,-45.7526\"/>\n<polygon fill=\"#000000\" stroke=\"#000000\" points=\"834.2886,-44.3386 827.2061,-36.4589 827.8289,-47.0354 834.2886,-44.3386\"/>\n</g>\n<!-- 1185 -->\n<g id=\"node24\" class=\"node\">\n<title>1185</title>\n<path fill=\"#c0c0c0\" stroke=\"#000000\" d=\"M906.5,-36C906.5,-36 876.5,-36 876.5,-36 870.5,-36 864.5,-30 864.5,-24 864.5,-24 864.5,-12 864.5,-12 864.5,-6 870.5,0 876.5,0 876.5,0 906.5,0 906.5,0 912.5,0 918.5,-6 918.5,-12 918.5,-12 918.5,-24 918.5,-24 918.5,-30 912.5,-36 906.5,-36\"/>\n<text text-anchor=\"middle\" x=\"891.5\" y=\"-14.3\" font-family=\"Helvetica,sans-Serif\" font-size=\"14.00\" fill=\"#000000\">(...)</text>\n</g>\n<!-- 1141&#45;&gt;1185 -->\n<g id=\"edge23\" class=\"edge\">\n<title>1141&#45;&gt;1185</title>\n<path fill=\"none\" stroke=\"#000000\" d=\"M876.3205,-71.9133C878.7955,-63.1227 881.297,-54.2382 883.5357,-46.2872\"/>\n<polygon fill=\"#000000\" stroke=\"#000000\" points=\"886.9616,-47.0332 886.3028,-36.4589 880.2236,-45.1361 886.9616,-47.0332\"/>\n</g>\n<!-- 1643 -->\n<g id=\"node26\" class=\"node\">\n<title>1643</title>\n<path fill=\"#a8d4f4\" stroke=\"#000000\" d=\"M1077.5,-170C1077.5,-170 961.5,-170 961.5,-170 955.5,-170 949.5,-164 949.5,-158 949.5,-158 949.5,-84 949.5,-84 949.5,-78 955.5,-72 961.5,-72 961.5,-72 1077.5,-72 1077.5,-72 1083.5,-72 1089.5,-78 1089.5,-84 1089.5,-84 1089.5,-158 1089.5,-158 1089.5,-164 1083.5,-170 1077.5,-170\"/>\n<text text-anchor=\"middle\" x=\"1019.5\" y=\"-154.8\" font-family=\"Helvetica,sans-Serif\" font-size=\"14.00\" fill=\"#000000\">node #1643</text>\n<text text-anchor=\"middle\" x=\"1019.5\" y=\"-139.8\" font-family=\"Helvetica,sans-Serif\" font-size=\"14.00\" fill=\"#000000\">vehicle.age &lt;= 5.5</text>\n<text text-anchor=\"middle\" x=\"1019.5\" y=\"-124.8\" font-family=\"Helvetica,sans-Serif\" font-size=\"14.00\" fill=\"#000000\">gini = 0.46</text>\n<text text-anchor=\"middle\" x=\"1019.5\" y=\"-109.8\" font-family=\"Helvetica,sans-Serif\" font-size=\"14.00\" fill=\"#000000\">samples = 1906</text>\n<text text-anchor=\"middle\" x=\"1019.5\" y=\"-94.8\" font-family=\"Helvetica,sans-Serif\" font-size=\"14.00\" fill=\"#000000\">value = [684, 1222]</text>\n<text text-anchor=\"middle\" x=\"1019.5\" y=\"-79.8\" font-family=\"Helvetica,sans-Serif\" font-size=\"14.00\" fill=\"#000000\">class = YES</text>\n</g>\n<!-- 1642&#45;&gt;1643 -->\n<g id=\"edge25\" class=\"edge\">\n<title>1642&#45;&gt;1643</title>\n<path fill=\"none\" stroke=\"#000000\" d=\"M1019.5,-205.8642C1019.5,-197.5802 1019.5,-188.903 1019.5,-180.3918\"/>\n<polygon fill=\"#000000\" stroke=\"#000000\" points=\"1023.0001,-180.1298 1019.5,-170.1298 1016.0001,-180.1299 1023.0001,-180.1298\"/>\n</g>\n<!-- 2668 -->\n<g id=\"node29\" class=\"node\">\n<title>2668</title>\n<path fill=\"#f4caab\" stroke=\"#000000\" d=\"M1227.5,-170C1227.5,-170 1119.5,-170 1119.5,-170 1113.5,-170 1107.5,-164 1107.5,-158 1107.5,-158 1107.5,-84 1107.5,-84 1107.5,-78 1113.5,-72 1119.5,-72 1119.5,-72 1227.5,-72 1227.5,-72 1233.5,-72 1239.5,-78 1239.5,-84 1239.5,-84 1239.5,-158 1239.5,-158 1239.5,-164 1233.5,-170 1227.5,-170\"/>\n<text text-anchor=\"middle\" x=\"1173.5\" y=\"-154.8\" font-family=\"Helvetica,sans-Serif\" font-size=\"14.00\" fill=\"#000000\">node #2668</text>\n<text text-anchor=\"middle\" x=\"1173.5\" y=\"-139.8\" font-family=\"Helvetica,sans-Serif\" font-size=\"14.00\" fill=\"#000000\">makex &lt;= 14.5</text>\n<text text-anchor=\"middle\" x=\"1173.5\" y=\"-124.8\" font-family=\"Helvetica,sans-Serif\" font-size=\"14.00\" fill=\"#000000\">gini = 0.464</text>\n<text text-anchor=\"middle\" x=\"1173.5\" y=\"-109.8\" font-family=\"Helvetica,sans-Serif\" font-size=\"14.00\" fill=\"#000000\">samples = 434</text>\n<text text-anchor=\"middle\" x=\"1173.5\" y=\"-94.8\" font-family=\"Helvetica,sans-Serif\" font-size=\"14.00\" fill=\"#000000\">value = [275, 159]</text>\n<text text-anchor=\"middle\" x=\"1173.5\" y=\"-79.8\" font-family=\"Helvetica,sans-Serif\" font-size=\"14.00\" fill=\"#000000\">class = YES</text>\n</g>\n<!-- 1642&#45;&gt;2668 -->\n<g id=\"edge28\" class=\"edge\">\n<title>1642&#45;&gt;2668</title>\n<path fill=\"none\" stroke=\"#000000\" d=\"M1075.9695,-205.8642C1086.85,-196.3967 1098.3206,-186.4158 1109.4223,-176.7559\"/>\n<polygon fill=\"#000000\" stroke=\"#000000\" points=\"1111.7909,-179.3345 1117.0374,-170.1298 1107.1959,-174.0537 1111.7909,-179.3345\"/>\n</g>\n<!-- 1644 -->\n<g id=\"node27\" class=\"node\">\n<title>1644</title>\n<path fill=\"#c0c0c0\" stroke=\"#000000\" d=\"M979.5,-36C979.5,-36 949.5,-36 949.5,-36 943.5,-36 937.5,-30 937.5,-24 937.5,-24 937.5,-12 937.5,-12 937.5,-6 943.5,0 949.5,0 949.5,0 979.5,0 979.5,0 985.5,0 991.5,-6 991.5,-12 991.5,-12 991.5,-24 991.5,-24 991.5,-30 985.5,-36 979.5,-36\"/>\n<text text-anchor=\"middle\" x=\"964.5\" y=\"-14.3\" font-family=\"Helvetica,sans-Serif\" font-size=\"14.00\" fill=\"#000000\">(...)</text>\n</g>\n<!-- 1643&#45;&gt;1644 -->\n<g id=\"edge26\" class=\"edge\">\n<title>1643&#45;&gt;1644</title>\n<path fill=\"none\" stroke=\"#000000\" d=\"M993.2886,-71.9133C988.4364,-62.8264 983.5306,-53.6391 979.1772,-45.4863\"/>\n<polygon fill=\"#000000\" stroke=\"#000000\" points=\"982.1545,-43.6315 974.3567,-36.4589 975.9797,-46.9287 982.1545,-43.6315\"/>\n</g>\n<!-- 2077 -->\n<g id=\"node28\" class=\"node\">\n<title>2077</title>\n<path fill=\"#c0c0c0\" stroke=\"#000000\" d=\"M1051.5,-36C1051.5,-36 1021.5,-36 1021.5,-36 1015.5,-36 1009.5,-30 1009.5,-24 1009.5,-24 1009.5,-12 1009.5,-12 1009.5,-6 1015.5,0 1021.5,0 1021.5,0 1051.5,0 1051.5,0 1057.5,0 1063.5,-6 1063.5,-12 1063.5,-12 1063.5,-24 1063.5,-24 1063.5,-30 1057.5,-36 1051.5,-36\"/>\n<text text-anchor=\"middle\" x=\"1036.5\" y=\"-14.3\" font-family=\"Helvetica,sans-Serif\" font-size=\"14.00\" fill=\"#000000\">(...)</text>\n</g>\n<!-- 1643&#45;&gt;2077 -->\n<g id=\"edge27\" class=\"edge\">\n<title>1643&#45;&gt;2077</title>\n<path fill=\"none\" stroke=\"#000000\" d=\"M1027.6017,-71.9133C1029.0363,-63.2215 1030.486,-54.4378 1031.787,-46.5555\"/>\n<polygon fill=\"#000000\" stroke=\"#000000\" points=\"1035.2781,-46.8954 1033.4534,-36.4589 1028.3716,-45.7554 1035.2781,-46.8954\"/>\n</g>\n<!-- 2669 -->\n<g id=\"node30\" class=\"node\">\n<title>2669</title>\n<path fill=\"#c0c0c0\" stroke=\"#000000\" d=\"M1152.5,-36C1152.5,-36 1122.5,-36 1122.5,-36 1116.5,-36 1110.5,-30 1110.5,-24 1110.5,-24 1110.5,-12 1110.5,-12 1110.5,-6 1116.5,0 1122.5,0 1122.5,0 1152.5,0 1152.5,0 1158.5,0 1164.5,-6 1164.5,-12 1164.5,-12 1164.5,-24 1164.5,-24 1164.5,-30 1158.5,-36 1152.5,-36\"/>\n<text text-anchor=\"middle\" x=\"1137.5\" y=\"-14.3\" font-family=\"Helvetica,sans-Serif\" font-size=\"14.00\" fill=\"#000000\">(...)</text>\n</g>\n<!-- 2668&#45;&gt;2669 -->\n<g id=\"edge29\" class=\"edge\">\n<title>2668&#45;&gt;2669</title>\n<path fill=\"none\" stroke=\"#000000\" d=\"M1156.3435,-71.9133C1153.2365,-63.0239 1150.096,-54.0385 1147.2932,-46.0195\"/>\n<polygon fill=\"#000000\" stroke=\"#000000\" points=\"1150.5552,-44.7441 1143.9517,-36.4589 1143.9471,-47.0538 1150.5552,-44.7441\"/>\n</g>\n<!-- 2818 -->\n<g id=\"node31\" class=\"node\">\n<title>2818</title>\n<path fill=\"#c0c0c0\" stroke=\"#000000\" d=\"M1224.5,-36C1224.5,-36 1194.5,-36 1194.5,-36 1188.5,-36 1182.5,-30 1182.5,-24 1182.5,-24 1182.5,-12 1182.5,-12 1182.5,-6 1188.5,0 1194.5,0 1194.5,0 1224.5,0 1224.5,0 1230.5,0 1236.5,-6 1236.5,-12 1236.5,-12 1236.5,-24 1236.5,-24 1236.5,-30 1230.5,-36 1224.5,-36\"/>\n<text text-anchor=\"middle\" x=\"1209.5\" y=\"-14.3\" font-family=\"Helvetica,sans-Serif\" font-size=\"14.00\" fill=\"#000000\">(...)</text>\n</g>\n<!-- 2668&#45;&gt;2818 -->\n<g id=\"edge30\" class=\"edge\">\n<title>2668&#45;&gt;2818</title>\n<path fill=\"none\" stroke=\"#000000\" d=\"M1190.6565,-71.9133C1193.7635,-63.0239 1196.904,-54.0385 1199.7068,-46.0195\"/>\n<polygon fill=\"#000000\" stroke=\"#000000\" points=\"1203.0529,-47.0538 1203.0483,-36.4589 1196.4448,-44.7441 1203.0529,-47.0538\"/>\n</g>\n</g>\n</svg>\n"
          },
          "metadata": {},
          "execution_count": 66
        }
      ]
    },
    {
      "cell_type": "markdown",
      "metadata": {
        "id": "nkKd7CJlupce"
      },
      "source": [
        "- *O nó que melhor separa os dados é o nó vehicle.age, em seguida o nó total.cost e mileage.*"
      ]
    }
  ]
}