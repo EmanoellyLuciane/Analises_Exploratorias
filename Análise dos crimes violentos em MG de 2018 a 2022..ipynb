{
 "cells": [
  {
   "cell_type": "markdown",
   "id": "068da783",
   "metadata": {},
   "source": [
    "**Análise exploratória dos dados**\n",
    "A seguir analisaremos um dataset que pode ser acessado em https://dados.mg.gov.br/dataset/crimes-violentos \n",
    "Nele temos os dados sobre os crimes violentos ocorridos em MG entre os anos de 2018 e maio de 2023, vamos fazer algumas análises sobre a estrutura do dataset e após isso responderemos algumas perguntas baseadas nos dados."
   ]
  },
  {
   "cell_type": "markdown",
   "id": "72a953d7",
   "metadata": {},
   "source": [
    "**Nessa análise visamos responder as seguintes quetões:**\n",
    "- Quais os crimes violentos mais praticados no estado de MG?\n",
    "- Em quais municípios temos mais ocorrência desses crimes?\n",
    "- Em qual mês ocorrem mais crimes?\n",
    "- A ocorrência desses crimes têm aumentado ou diminuido ao longo dos anos?\n",
    "- Qual o município mais violento?\n",
    "- Qual o município menos violento?\n"
   ]
  },
  {
   "cell_type": "code",
   "execution_count": 2,
   "id": "dbf29c4d",
   "metadata": {},
   "outputs": [],
   "source": [
    "#Iportando bibliotecas\n",
    "\n",
    "import pandas as pd\n",
    "import numpy as np\n",
    "import matplotlib.pyplot as plt\n",
    "import seaborn as sea\n",
    "import plotly.express as px\n",
    "\n",
    "plt.style.use('ggplot')"
   ]
  },
  {
   "cell_type": "code",
   "execution_count": 6,
   "id": "cb739ef3",
   "metadata": {},
   "outputs": [],
   "source": [
    "#para evitar o erro de UnicodeDecodeError: 'utf-8' codec can't decode byte 0xed in position 5: invalid continuation byte\n",
    "df = pd.read_csv(\"CSV/Banco_Crimes_Violentos _Atualizado_Maio_2023.csv\", encoding=\"ISO-8859-1\", sep = ';')"
   ]
  },
  {
   "cell_type": "markdown",
   "id": "6e63b96c",
   "metadata": {},
   "source": [
    "**Analisando a estrutura do dataset**"
   ]
  },
  {
   "cell_type": "code",
   "execution_count": 7,
   "id": "39d7d952",
   "metadata": {},
   "outputs": [
    {
     "data": {
      "text/html": [
       "<div>\n",
       "<style scoped>\n",
       "    .dataframe tbody tr th:only-of-type {\n",
       "        vertical-align: middle;\n",
       "    }\n",
       "\n",
       "    .dataframe tbody tr th {\n",
       "        vertical-align: top;\n",
       "    }\n",
       "\n",
       "    .dataframe thead th {\n",
       "        text-align: right;\n",
       "    }\n",
       "</style>\n",
       "<table border=\"1\" class=\"dataframe\">\n",
       "  <thead>\n",
       "    <tr style=\"text-align: right;\">\n",
       "      <th></th>\n",
       "      <th>Registros</th>\n",
       "      <th>Natureza</th>\n",
       "      <th>Município</th>\n",
       "      <th>Cod IBGE</th>\n",
       "      <th>Mês</th>\n",
       "      <th>Ano</th>\n",
       "      <th>RISP</th>\n",
       "      <th>RISP Nova</th>\n",
       "      <th>RMBH</th>\n",
       "    </tr>\n",
       "  </thead>\n",
       "  <tbody>\n",
       "    <tr>\n",
       "      <th>0</th>\n",
       "      <td>0</td>\n",
       "      <td>Estupro Consumado</td>\n",
       "      <td>ABADIA DOS DOURADOS</td>\n",
       "      <td>310010</td>\n",
       "      <td>1</td>\n",
       "      <td>2018</td>\n",
       "      <td>10</td>\n",
       "      <td>10</td>\n",
       "      <td>NÃO</td>\n",
       "    </tr>\n",
       "    <tr>\n",
       "      <th>1</th>\n",
       "      <td>0</td>\n",
       "      <td>Estupro Consumado</td>\n",
       "      <td>ABAETE</td>\n",
       "      <td>310020</td>\n",
       "      <td>1</td>\n",
       "      <td>2018</td>\n",
       "      <td>7</td>\n",
       "      <td>7</td>\n",
       "      <td>NÃO</td>\n",
       "    </tr>\n",
       "    <tr>\n",
       "      <th>2</th>\n",
       "      <td>0</td>\n",
       "      <td>Estupro Consumado</td>\n",
       "      <td>ABRE-CAMPO</td>\n",
       "      <td>310030</td>\n",
       "      <td>1</td>\n",
       "      <td>2018</td>\n",
       "      <td>12</td>\n",
       "      <td>12</td>\n",
       "      <td>NÃO</td>\n",
       "    </tr>\n",
       "    <tr>\n",
       "      <th>3</th>\n",
       "      <td>0</td>\n",
       "      <td>Estupro Consumado</td>\n",
       "      <td>ACAIACA</td>\n",
       "      <td>310040</td>\n",
       "      <td>1</td>\n",
       "      <td>2018</td>\n",
       "      <td>12</td>\n",
       "      <td>12</td>\n",
       "      <td>NÃO</td>\n",
       "    </tr>\n",
       "    <tr>\n",
       "      <th>4</th>\n",
       "      <td>0</td>\n",
       "      <td>Estupro Consumado</td>\n",
       "      <td>ACUCENA</td>\n",
       "      <td>310050</td>\n",
       "      <td>1</td>\n",
       "      <td>2018</td>\n",
       "      <td>12</td>\n",
       "      <td>12</td>\n",
       "      <td>NÃO</td>\n",
       "    </tr>\n",
       "  </tbody>\n",
       "</table>\n",
       "</div>"
      ],
      "text/plain": [
       "   Registros           Natureza            Município  Cod IBGE  Mês   Ano  \\\n",
       "0          0  Estupro Consumado  ABADIA DOS DOURADOS    310010    1  2018   \n",
       "1          0  Estupro Consumado               ABAETE    310020    1  2018   \n",
       "2          0  Estupro Consumado           ABRE-CAMPO    310030    1  2018   \n",
       "3          0  Estupro Consumado              ACAIACA    310040    1  2018   \n",
       "4          0  Estupro Consumado              ACUCENA    310050    1  2018   \n",
       "\n",
       "   RISP  RISP Nova RMBH  \n",
       "0    10         10  NÃO  \n",
       "1     7          7  NÃO  \n",
       "2    12         12  NÃO  \n",
       "3    12         12  NÃO  \n",
       "4    12         12  NÃO  "
      ]
     },
     "execution_count": 7,
     "metadata": {},
     "output_type": "execute_result"
    }
   ],
   "source": [
    "df.head()"
   ]
  },
  {
   "cell_type": "code",
   "execution_count": 8,
   "id": "d6a0246d",
   "metadata": {},
   "outputs": [
    {
     "data": {
      "text/html": [
       "<div>\n",
       "<style scoped>\n",
       "    .dataframe tbody tr th:only-of-type {\n",
       "        vertical-align: middle;\n",
       "    }\n",
       "\n",
       "    .dataframe tbody tr th {\n",
       "        vertical-align: top;\n",
       "    }\n",
       "\n",
       "    .dataframe thead th {\n",
       "        text-align: right;\n",
       "    }\n",
       "</style>\n",
       "<table border=\"1\" class=\"dataframe\">\n",
       "  <thead>\n",
       "    <tr style=\"text-align: right;\">\n",
       "      <th></th>\n",
       "      <th>Registros</th>\n",
       "      <th>Cod IBGE</th>\n",
       "      <th>Mês</th>\n",
       "      <th>Ano</th>\n",
       "      <th>RISP</th>\n",
       "      <th>RISP Nova</th>\n",
       "    </tr>\n",
       "  </thead>\n",
       "  <tbody>\n",
       "    <tr>\n",
       "      <th>count</th>\n",
       "      <td>720785.000000</td>\n",
       "      <td>720785.000000</td>\n",
       "      <td>720785.000000</td>\n",
       "      <td>720785.000000</td>\n",
       "      <td>720785.000000</td>\n",
       "      <td>720785.000000</td>\n",
       "    </tr>\n",
       "    <tr>\n",
       "      <th>mean</th>\n",
       "      <td>0.412110</td>\n",
       "      <td>313697.720985</td>\n",
       "      <td>6.230769</td>\n",
       "      <td>2020.230769</td>\n",
       "      <td>10.658851</td>\n",
       "      <td>10.875733</td>\n",
       "    </tr>\n",
       "    <tr>\n",
       "      <th>std</th>\n",
       "      <td>13.032804</td>\n",
       "      <td>2070.887597</td>\n",
       "      <td>3.467519</td>\n",
       "      <td>1.576455</td>\n",
       "      <td>4.662307</td>\n",
       "      <td>4.721165</td>\n",
       "    </tr>\n",
       "    <tr>\n",
       "      <th>min</th>\n",
       "      <td>0.000000</td>\n",
       "      <td>310010.000000</td>\n",
       "      <td>1.000000</td>\n",
       "      <td>2018.000000</td>\n",
       "      <td>1.000000</td>\n",
       "      <td>1.000000</td>\n",
       "    </tr>\n",
       "    <tr>\n",
       "      <th>25%</th>\n",
       "      <td>0.000000</td>\n",
       "      <td>311950.000000</td>\n",
       "      <td>3.000000</td>\n",
       "      <td>2019.000000</td>\n",
       "      <td>7.000000</td>\n",
       "      <td>7.000000</td>\n",
       "    </tr>\n",
       "    <tr>\n",
       "      <th>50%</th>\n",
       "      <td>0.000000</td>\n",
       "      <td>313730.000000</td>\n",
       "      <td>6.000000</td>\n",
       "      <td>2020.000000</td>\n",
       "      <td>11.000000</td>\n",
       "      <td>12.000000</td>\n",
       "    </tr>\n",
       "    <tr>\n",
       "      <th>75%</th>\n",
       "      <td>0.000000</td>\n",
       "      <td>315490.000000</td>\n",
       "      <td>9.000000</td>\n",
       "      <td>2022.000000</td>\n",
       "      <td>14.000000</td>\n",
       "      <td>15.000000</td>\n",
       "    </tr>\n",
       "    <tr>\n",
       "      <th>max</th>\n",
       "      <td>2698.000000</td>\n",
       "      <td>317220.000000</td>\n",
       "      <td>12.000000</td>\n",
       "      <td>2023.000000</td>\n",
       "      <td>18.000000</td>\n",
       "      <td>19.000000</td>\n",
       "    </tr>\n",
       "  </tbody>\n",
       "</table>\n",
       "</div>"
      ],
      "text/plain": [
       "           Registros       Cod IBGE            Mês            Ano  \\\n",
       "count  720785.000000  720785.000000  720785.000000  720785.000000   \n",
       "mean        0.412110  313697.720985       6.230769    2020.230769   \n",
       "std        13.032804    2070.887597       3.467519       1.576455   \n",
       "min         0.000000  310010.000000       1.000000    2018.000000   \n",
       "25%         0.000000  311950.000000       3.000000    2019.000000   \n",
       "50%         0.000000  313730.000000       6.000000    2020.000000   \n",
       "75%         0.000000  315490.000000       9.000000    2022.000000   \n",
       "max      2698.000000  317220.000000      12.000000    2023.000000   \n",
       "\n",
       "                RISP      RISP Nova  \n",
       "count  720785.000000  720785.000000  \n",
       "mean       10.658851      10.875733  \n",
       "std         4.662307       4.721165  \n",
       "min         1.000000       1.000000  \n",
       "25%         7.000000       7.000000  \n",
       "50%        11.000000      12.000000  \n",
       "75%        14.000000      15.000000  \n",
       "max        18.000000      19.000000  "
      ]
     },
     "execution_count": 8,
     "metadata": {},
     "output_type": "execute_result"
    }
   ],
   "source": [
    "df.describe()"
   ]
  },
  {
   "cell_type": "code",
   "execution_count": 9,
   "id": "59f13491",
   "metadata": {},
   "outputs": [
    {
     "name": "stdout",
     "output_type": "stream",
     "text": [
      "<class 'pandas.core.frame.DataFrame'>\n",
      "RangeIndex: 720785 entries, 0 to 720784\n",
      "Data columns (total 9 columns):\n",
      " #   Column     Non-Null Count   Dtype \n",
      "---  ------     --------------   ----- \n",
      " 0   Registros  720785 non-null  int64 \n",
      " 1   Natureza   720785 non-null  object\n",
      " 2   Município  720785 non-null  object\n",
      " 3   Cod IBGE   720785 non-null  int64 \n",
      " 4   Mês        720785 non-null  int64 \n",
      " 5   Ano        720785 non-null  int64 \n",
      " 6   RISP       720785 non-null  int64 \n",
      " 7   RISP Nova  720785 non-null  int64 \n",
      " 8   RMBH       720785 non-null  object\n",
      "dtypes: int64(6), object(3)\n",
      "memory usage: 49.5+ MB\n"
     ]
    }
   ],
   "source": [
    "df.info()"
   ]
  },
  {
   "cell_type": "markdown",
   "id": "5527f2cf",
   "metadata": {},
   "source": [
    "**Significado de cada coluna:**\n",
    "\n",
    "REGISTROS\n",
    "Quantidade de ocorrências registradas.\n",
    "\n",
    "NATUREZA\n",
    "Natureza do crime cometido.\n",
    "\n",
    "MUNICIPIO\n",
    "Nome do município em que ocorreu o crime.\n",
    "\n",
    "CÓDIGO MUNICÍPIO\n",
    "Código do município.\n",
    "\n",
    "MÊS\n",
    "Mês em que ocorreu o fato.\n",
    "\n",
    "ANO\n",
    "Ano em que ocorreu o fato.\n",
    "\n",
    "RISP\n",
    "Número de identificação da Região Integrada de Segurança Pública.\n",
    "\n",
    "RMBH\n",
    "Se pertence ou não à Região Metropolitana de Belo Horizonte."
   ]
  },
  {
   "cell_type": "code",
   "execution_count": 10,
   "id": "546f4afb",
   "metadata": {},
   "outputs": [
    {
     "data": {
      "text/plain": [
       "(720785, 9)"
      ]
     },
     "execution_count": 10,
     "metadata": {},
     "output_type": "execute_result"
    }
   ],
   "source": [
    "df.shape"
   ]
  },
  {
   "cell_type": "code",
   "execution_count": 11,
   "id": "5500451f",
   "metadata": {
    "scrolled": true
   },
   "outputs": [
    {
     "data": {
      "text/plain": [
       "Registros    0\n",
       "Natureza     0\n",
       "Município    0\n",
       "Cod IBGE     0\n",
       "Mês          0\n",
       "Ano          0\n",
       "RISP         0\n",
       "RISP Nova    0\n",
       "RMBH         0\n",
       "dtype: int64"
      ]
     },
     "execution_count": 11,
     "metadata": {},
     "output_type": "execute_result"
    }
   ],
   "source": [
    "#verifica se existe algum dado nulo\n",
    "df.isnull().sum()"
   ]
  },
  {
   "cell_type": "code",
   "execution_count": 12,
   "id": "6d015d91",
   "metadata": {},
   "outputs": [
    {
     "data": {
      "image/png": "[encoded data removed]",
      "text/plain": [
       "<Figure size 640x480 with 1 Axes>"
      ]
     },
     "metadata": {},
     "output_type": "display_data"
    }
   ],
   "source": [
    "_= df.groupby(\"Natureza\")[\"Registros\"].sum().sort_values(ascending=True).plot.barh()\n",
    "_= plt.title(\"Crimes Violentos em MG entre 2018-2023\")\n"
   ]
  },
  {
   "cell_type": "markdown",
   "id": "bb5afb0a",
   "metadata": {},
   "source": [
    "**Quais os crimes violentos mais praticados no estado de MG?**\n",
    "\n",
    "Podemos observar que o crime mais cometido é o de roubo consumado seguido por estupro de vulnerável consumado."
   ]
  },
  {
   "cell_type": "code",
   "execution_count": 13,
   "id": "4ce82283",
   "metadata": {},
   "outputs": [
    {
     "data": {
      "text/html": [
       "<div>\n",
       "<style scoped>\n",
       "    .dataframe tbody tr th:only-of-type {\n",
       "        vertical-align: middle;\n",
       "    }\n",
       "\n",
       "    .dataframe tbody tr th {\n",
       "        vertical-align: top;\n",
       "    }\n",
       "\n",
       "    .dataframe thead th {\n",
       "        text-align: right;\n",
       "    }\n",
       "</style>\n",
       "<table border=\"1\" class=\"dataframe\">\n",
       "  <thead>\n",
       "    <tr style=\"text-align: right;\">\n",
       "      <th></th>\n",
       "      <th></th>\n",
       "      <th>Registros</th>\n",
       "    </tr>\n",
       "    <tr>\n",
       "      <th>Município</th>\n",
       "      <th>Natureza</th>\n",
       "      <th></th>\n",
       "    </tr>\n",
       "  </thead>\n",
       "  <tbody>\n",
       "    <tr>\n",
       "      <th>BELO HORIZONTE</th>\n",
       "      <th>Roubo Consumado</th>\n",
       "      <td>71208</td>\n",
       "    </tr>\n",
       "    <tr>\n",
       "      <th>CONTAGEM</th>\n",
       "      <th>Roubo Consumado</th>\n",
       "      <td>25431</td>\n",
       "    </tr>\n",
       "    <tr>\n",
       "      <th>UBERLANDIA</th>\n",
       "      <th>Roubo Consumado</th>\n",
       "      <td>11393</td>\n",
       "    </tr>\n",
       "    <tr>\n",
       "      <th>BETIM</th>\n",
       "      <th>Roubo Consumado</th>\n",
       "      <td>11313</td>\n",
       "    </tr>\n",
       "    <tr>\n",
       "      <th>RIBEIRAO DAS NEVES</th>\n",
       "      <th>Roubo Consumado</th>\n",
       "      <td>6161</td>\n",
       "    </tr>\n",
       "    <tr>\n",
       "      <th>UBERABA</th>\n",
       "      <th>Roubo Consumado</th>\n",
       "      <td>5552</td>\n",
       "    </tr>\n",
       "    <tr>\n",
       "      <th>MONTES CLAROS</th>\n",
       "      <th>Roubo Consumado</th>\n",
       "      <td>4218</td>\n",
       "    </tr>\n",
       "    <tr>\n",
       "      <th>JUIZ DE FORA</th>\n",
       "      <th>Roubo Consumado</th>\n",
       "      <td>4157</td>\n",
       "    </tr>\n",
       "    <tr>\n",
       "      <th>BELO HORIZONTE</th>\n",
       "      <th>Roubo Tentado</th>\n",
       "      <td>3899</td>\n",
       "    </tr>\n",
       "    <tr>\n",
       "      <th>SETE LAGOAS</th>\n",
       "      <th>Roubo Consumado</th>\n",
       "      <td>3387</td>\n",
       "    </tr>\n",
       "  </tbody>\n",
       "</table>\n",
       "</div>"
      ],
      "text/plain": [
       "                                    Registros\n",
       "Município          Natureza                  \n",
       "BELO HORIZONTE     Roubo Consumado      71208\n",
       "CONTAGEM           Roubo Consumado      25431\n",
       "UBERLANDIA         Roubo Consumado      11393\n",
       "BETIM              Roubo Consumado      11313\n",
       "RIBEIRAO DAS NEVES Roubo Consumado       6161\n",
       "UBERABA            Roubo Consumado       5552\n",
       "MONTES CLAROS      Roubo Consumado       4218\n",
       "JUIZ DE FORA       Roubo Consumado       4157\n",
       "BELO HORIZONTE     Roubo Tentado         3899\n",
       "SETE LAGOAS        Roubo Consumado       3387"
      ]
     },
     "execution_count": 13,
     "metadata": {},
     "output_type": "execute_result"
    }
   ],
   "source": [
    "df.groupby([\"Município\",\"Natureza\"])[\"Registros\"].sum().sort_values(ascending=False).to_frame().head(10)"
   ]
  },
  {
   "cell_type": "markdown",
   "id": "f48363bb",
   "metadata": {},
   "source": [
    "** Em quais municípios temos mais ocorrência desses crimes?**\n",
    "\n",
    "Aqui temos os 10 principais crimes agrupados por municipios, novamente podemos perceber que o roubo é o crime mais praticado, sendo BH o município mais afetado."
   ]
  },
  {
   "cell_type": "code",
   "execution_count": 14,
   "id": "148ec6a2",
   "metadata": {},
   "outputs": [
    {
     "data": {
      "text/html": [
       "<div>\n",
       "<style scoped>\n",
       "    .dataframe tbody tr th:only-of-type {\n",
       "        vertical-align: middle;\n",
       "    }\n",
       "\n",
       "    .dataframe tbody tr th {\n",
       "        vertical-align: top;\n",
       "    }\n",
       "\n",
       "    .dataframe thead th {\n",
       "        text-align: right;\n",
       "    }\n",
       "</style>\n",
       "<table border=\"1\" class=\"dataframe\">\n",
       "  <thead>\n",
       "    <tr style=\"text-align: right;\">\n",
       "      <th></th>\n",
       "      <th>Mês</th>\n",
       "      <th>Registros</th>\n",
       "    </tr>\n",
       "  </thead>\n",
       "  <tbody>\n",
       "    <tr>\n",
       "      <th>0</th>\n",
       "      <td>1</td>\n",
       "      <td>32314</td>\n",
       "    </tr>\n",
       "    <tr>\n",
       "      <th>1</th>\n",
       "      <td>2</td>\n",
       "      <td>29063</td>\n",
       "    </tr>\n",
       "    <tr>\n",
       "      <th>2</th>\n",
       "      <td>3</td>\n",
       "      <td>29910</td>\n",
       "    </tr>\n",
       "    <tr>\n",
       "      <th>3</th>\n",
       "      <td>4</td>\n",
       "      <td>27171</td>\n",
       "    </tr>\n",
       "    <tr>\n",
       "      <th>4</th>\n",
       "      <td>5</td>\n",
       "      <td>25454</td>\n",
       "    </tr>\n",
       "    <tr>\n",
       "      <th>5</th>\n",
       "      <td>6</td>\n",
       "      <td>21363</td>\n",
       "    </tr>\n",
       "    <tr>\n",
       "      <th>6</th>\n",
       "      <td>7</td>\n",
       "      <td>21515</td>\n",
       "    </tr>\n",
       "    <tr>\n",
       "      <th>7</th>\n",
       "      <td>8</td>\n",
       "      <td>21650</td>\n",
       "    </tr>\n",
       "    <tr>\n",
       "      <th>8</th>\n",
       "      <td>9</td>\n",
       "      <td>20941</td>\n",
       "    </tr>\n",
       "    <tr>\n",
       "      <th>9</th>\n",
       "      <td>10</td>\n",
       "      <td>22896</td>\n",
       "    </tr>\n",
       "    <tr>\n",
       "      <th>10</th>\n",
       "      <td>11</td>\n",
       "      <td>22250</td>\n",
       "    </tr>\n",
       "    <tr>\n",
       "      <th>11</th>\n",
       "      <td>12</td>\n",
       "      <td>22516</td>\n",
       "    </tr>\n",
       "  </tbody>\n",
       "</table>\n",
       "</div>"
      ],
      "text/plain": [
       "    Mês  Registros\n",
       "0     1      32314\n",
       "1     2      29063\n",
       "2     3      29910\n",
       "3     4      27171\n",
       "4     5      25454\n",
       "5     6      21363\n",
       "6     7      21515\n",
       "7     8      21650\n",
       "8     9      20941\n",
       "9    10      22896\n",
       "10   11      22250\n",
       "11   12      22516"
      ]
     },
     "execution_count": 14,
     "metadata": {},
     "output_type": "execute_result"
    }
   ],
   "source": [
    "registros_por_mes = df.groupby([\"Mês\"])[\"Registros\"].sum().reset_index()\n",
    "registros_por_mes"
   ]
  },
  {
   "cell_type": "code",
   "execution_count": 15,
   "id": "203f61be",
   "metadata": {},
   "outputs": [
    {
     "data": {
      "text/plain": [
       "<Axes: xlabel='Mês', ylabel='Registros'>"
      ]
     },
     "execution_count": 15,
     "metadata": {},
     "output_type": "execute_result"
    },
    {
     "data": {
      "image/png": "[encoded data removed]",
      "text/plain": [
       "<Figure size 640x480 with 1 Axes>"
      ]
     },
     "metadata": {},
     "output_type": "display_data"
    }
   ],
   "source": [
    "registros_por_mes.plot.scatter(\"Mês\",'Registros', color = 'red')"
   ]
  },
  {
   "cell_type": "markdown",
   "id": "d3b2bf8e",
   "metadata": {},
   "source": [
    "**Em qual mês ocorrem mais crimes?**\n",
    "\n",
    "Notamos um pico no mês de janeiro com um total de 32 314 registros e logo após uma queda"
   ]
  },
  {
   "cell_type": "code",
   "execution_count": 34,
   "id": "e2a0bd41",
   "metadata": {},
   "outputs": [
    {
     "data": {
      "text/html": [
       "<div>\n",
       "<style scoped>\n",
       "    .dataframe tbody tr th:only-of-type {\n",
       "        vertical-align: middle;\n",
       "    }\n",
       "\n",
       "    .dataframe tbody tr th {\n",
       "        vertical-align: top;\n",
       "    }\n",
       "\n",
       "    .dataframe thead th {\n",
       "        text-align: right;\n",
       "    }\n",
       "</style>\n",
       "<table border=\"1\" class=\"dataframe\">\n",
       "  <thead>\n",
       "    <tr style=\"text-align: right;\">\n",
       "      <th></th>\n",
       "      <th>Ano</th>\n",
       "      <th>Registros</th>\n",
       "    </tr>\n",
       "  </thead>\n",
       "  <tbody>\n",
       "    <tr>\n",
       "      <th>0</th>\n",
       "      <td>2018</td>\n",
       "      <td>95089</td>\n",
       "    </tr>\n",
       "    <tr>\n",
       "      <th>1</th>\n",
       "      <td>2019</td>\n",
       "      <td>69095</td>\n",
       "    </tr>\n",
       "    <tr>\n",
       "      <th>2</th>\n",
       "      <td>2020</td>\n",
       "      <td>46517</td>\n",
       "    </tr>\n",
       "    <tr>\n",
       "      <th>3</th>\n",
       "      <td>2021</td>\n",
       "      <td>37008</td>\n",
       "    </tr>\n",
       "    <tr>\n",
       "      <th>4</th>\n",
       "      <td>2022</td>\n",
       "      <td>36076</td>\n",
       "    </tr>\n",
       "    <tr>\n",
       "      <th>5</th>\n",
       "      <td>2023</td>\n",
       "      <td>13258</td>\n",
       "    </tr>\n",
       "  </tbody>\n",
       "</table>\n",
       "</div>"
      ],
      "text/plain": [
       "    Ano  Registros\n",
       "0  2018      95089\n",
       "1  2019      69095\n",
       "2  2020      46517\n",
       "3  2021      37008\n",
       "4  2022      36076\n",
       "5  2023      13258"
      ]
     },
     "execution_count": 34,
     "metadata": {},
     "output_type": "execute_result"
    }
   ],
   "source": [
    "registros_por_ano = df.groupby([\"Ano\"])[\"Registros\"].sum().reset_index()\n",
    "registros_por_ano"
   ]
  },
  {
   "cell_type": "code",
   "execution_count": 16,
   "id": "ae9c43ba",
   "metadata": {},
   "outputs": [
    {
     "data": {
      "text/plain": [
       "24753.583333333332"
      ]
     },
     "execution_count": 16,
     "metadata": {},
     "output_type": "execute_result"
    }
   ],
   "source": [
    "registros_por_mes.Registros.mean()"
   ]
  },
  {
   "cell_type": "markdown",
   "id": "2ef44b5e",
   "metadata": {},
   "source": [
    "A média de registros por mês é de 24 753 mil"
   ]
  },
  {
   "cell_type": "code",
   "execution_count": 14,
   "id": "5d0286a8",
   "metadata": {
    "scrolled": true
   },
   "outputs": [
    {
     "data": {
      "text/html": [
       "<div>\n",
       "<style scoped>\n",
       "    .dataframe tbody tr th:only-of-type {\n",
       "        vertical-align: middle;\n",
       "    }\n",
       "\n",
       "    .dataframe tbody tr th {\n",
       "        vertical-align: top;\n",
       "    }\n",
       "\n",
       "    .dataframe thead th {\n",
       "        text-align: right;\n",
       "    }\n",
       "</style>\n",
       "<table border=\"1\" class=\"dataframe\">\n",
       "  <thead>\n",
       "    <tr style=\"text-align: right;\">\n",
       "      <th></th>\n",
       "      <th>Registros</th>\n",
       "    </tr>\n",
       "    <tr>\n",
       "      <th>Ano</th>\n",
       "      <th></th>\n",
       "    </tr>\n",
       "  </thead>\n",
       "  <tbody>\n",
       "    <tr>\n",
       "      <th>2018</th>\n",
       "      <td>95089</td>\n",
       "    </tr>\n",
       "    <tr>\n",
       "      <th>2019</th>\n",
       "      <td>69095</td>\n",
       "    </tr>\n",
       "    <tr>\n",
       "      <th>2020</th>\n",
       "      <td>46517</td>\n",
       "    </tr>\n",
       "    <tr>\n",
       "      <th>2021</th>\n",
       "      <td>37008</td>\n",
       "    </tr>\n",
       "    <tr>\n",
       "      <th>2022</th>\n",
       "      <td>36076</td>\n",
       "    </tr>\n",
       "    <tr>\n",
       "      <th>2023</th>\n",
       "      <td>13258</td>\n",
       "    </tr>\n",
       "  </tbody>\n",
       "</table>\n",
       "</div>"
      ],
      "text/plain": [
       "      Registros\n",
       "Ano            \n",
       "2018      95089\n",
       "2019      69095\n",
       "2020      46517\n",
       "2021      37008\n",
       "2022      36076\n",
       "2023      13258"
      ]
     },
     "execution_count": 14,
     "metadata": {},
     "output_type": "execute_result"
    }
   ],
   "source": [
    "registros_por_ano = df.groupby([\"Ano\"])[\"Registros\"].sum().to_frame()\n",
    "registros_por_ano"
   ]
  },
  {
   "cell_type": "code",
   "execution_count": 28,
   "id": "63395189",
   "metadata": {},
   "outputs": [
    {
     "data": {
      "text/plain": [
       "<Axes: xlabel='Ano'>"
      ]
     },
     "execution_count": 28,
     "metadata": {},
     "output_type": "execute_result"
    },
    {
     "data": {
      "image/png": "[encoded data removed]",
      "text/plain": [
       "<Figure size 640x480 with 1 Axes>"
      ]
     },
     "metadata": {},
     "output_type": "display_data"
    }
   ],
   "source": [
    "registros_por_ano.plot()"
   ]
  },
  {
   "cell_type": "code",
   "execution_count": 18,
   "id": "4949372c",
   "metadata": {},
   "outputs": [
    {
     "data": {
      "text/html": [
       "<div>\n",
       "<style scoped>\n",
       "    .dataframe tbody tr th:only-of-type {\n",
       "        vertical-align: middle;\n",
       "    }\n",
       "\n",
       "    .dataframe tbody tr th {\n",
       "        vertical-align: top;\n",
       "    }\n",
       "\n",
       "    .dataframe thead th {\n",
       "        text-align: right;\n",
       "    }\n",
       "</style>\n",
       "<table border=\"1\" class=\"dataframe\">\n",
       "  <thead>\n",
       "    <tr style=\"text-align: right;\">\n",
       "      <th></th>\n",
       "      <th></th>\n",
       "      <th>Registros</th>\n",
       "    </tr>\n",
       "    <tr>\n",
       "      <th>Ano</th>\n",
       "      <th>Mês</th>\n",
       "      <th></th>\n",
       "    </tr>\n",
       "  </thead>\n",
       "  <tbody>\n",
       "    <tr>\n",
       "      <th rowspan=\"5\" valign=\"top\">2018</th>\n",
       "      <th>1</th>\n",
       "      <td>10132</td>\n",
       "    </tr>\n",
       "    <tr>\n",
       "      <th>2</th>\n",
       "      <td>8969</td>\n",
       "    </tr>\n",
       "    <tr>\n",
       "      <th>3</th>\n",
       "      <td>8956</td>\n",
       "    </tr>\n",
       "    <tr>\n",
       "      <th>4</th>\n",
       "      <td>8264</td>\n",
       "    </tr>\n",
       "    <tr>\n",
       "      <th>5</th>\n",
       "      <td>7403</td>\n",
       "    </tr>\n",
       "    <tr>\n",
       "      <th>...</th>\n",
       "      <th>...</th>\n",
       "      <td>...</td>\n",
       "    </tr>\n",
       "    <tr>\n",
       "      <th rowspan=\"5\" valign=\"top\">2023</th>\n",
       "      <th>1</th>\n",
       "      <td>2844</td>\n",
       "    </tr>\n",
       "    <tr>\n",
       "      <th>2</th>\n",
       "      <td>2448</td>\n",
       "    </tr>\n",
       "    <tr>\n",
       "      <th>3</th>\n",
       "      <td>2902</td>\n",
       "    </tr>\n",
       "    <tr>\n",
       "      <th>4</th>\n",
       "      <td>2468</td>\n",
       "    </tr>\n",
       "    <tr>\n",
       "      <th>5</th>\n",
       "      <td>2596</td>\n",
       "    </tr>\n",
       "  </tbody>\n",
       "</table>\n",
       "<p>65 rows × 1 columns</p>\n",
       "</div>"
      ],
      "text/plain": [
       "          Registros\n",
       "Ano  Mês           \n",
       "2018 1        10132\n",
       "     2         8969\n",
       "     3         8956\n",
       "     4         8264\n",
       "     5         7403\n",
       "...             ...\n",
       "2023 1         2844\n",
       "     2         2448\n",
       "     3         2902\n",
       "     4         2468\n",
       "     5         2596\n",
       "\n",
       "[65 rows x 1 columns]"
      ]
     },
     "execution_count": 18,
     "metadata": {},
     "output_type": "execute_result"
    }
   ],
   "source": [
    "df.groupby([\"Ano\",\"Mês\"])[\"Registros\"].sum().to_frame()"
   ]
  },
  {
   "cell_type": "markdown",
   "id": "55868c0d",
   "metadata": {},
   "source": [
    "**A ocorrência desses crimes têm aumentado ou diminuido ao longo dos anos?**\n",
    "\n",
    "Notamos uma queda brusca nos registros ano a ano, em 2018 foram registrados 95 089 casos, já em 2022 temos 36 076 , mesmo considerando que os dados de 2023 ainda não contém informações do ano todo, somente até o mês de maio, também notamos uma queda, em janeiro de 2018 foram registrados 10 132 casos já em janeiro de 2023 temos 2 844, demonstrando uma diminuição expressiva dos valores."
   ]
  },
  {
   "cell_type": "code",
   "execution_count": 29,
   "id": "32220614",
   "metadata": {},
   "outputs": [
    {
     "data": {
      "text/plain": [
       "Registros    49507.166667\n",
       "dtype: float64"
      ]
     },
     "execution_count": 29,
     "metadata": {},
     "output_type": "execute_result"
    }
   ],
   "source": [
    "registros_por_ano.mean()"
   ]
  },
  {
   "cell_type": "markdown",
   "id": "28d69fe9",
   "metadata": {},
   "source": [
    "A média de registros por ano é de 49 507, "
   ]
  },
  {
   "cell_type": "code",
   "execution_count": 41,
   "id": "b27c14c5",
   "metadata": {},
   "outputs": [
    {
     "data": {
      "text/html": [
       "<div>\n",
       "<style scoped>\n",
       "    .dataframe tbody tr th:only-of-type {\n",
       "        vertical-align: middle;\n",
       "    }\n",
       "\n",
       "    .dataframe tbody tr th {\n",
       "        vertical-align: top;\n",
       "    }\n",
       "\n",
       "    .dataframe thead th {\n",
       "        text-align: right;\n",
       "    }\n",
       "</style>\n",
       "<table border=\"1\" class=\"dataframe\">\n",
       "  <thead>\n",
       "    <tr style=\"text-align: right;\">\n",
       "      <th></th>\n",
       "      <th>Registros</th>\n",
       "    </tr>\n",
       "    <tr>\n",
       "      <th>Município</th>\n",
       "      <th></th>\n",
       "    </tr>\n",
       "  </thead>\n",
       "  <tbody>\n",
       "    <tr>\n",
       "      <th>BELO HORIZONTE</th>\n",
       "      <td>83939</td>\n",
       "    </tr>\n",
       "    <tr>\n",
       "      <th>CONTAGEM</th>\n",
       "      <td>29003</td>\n",
       "    </tr>\n",
       "    <tr>\n",
       "      <th>UBERLANDIA</th>\n",
       "      <td>13571</td>\n",
       "    </tr>\n",
       "    <tr>\n",
       "      <th>BETIM</th>\n",
       "      <td>13223</td>\n",
       "    </tr>\n",
       "    <tr>\n",
       "      <th>RIBEIRAO DAS NEVES</th>\n",
       "      <td>7784</td>\n",
       "    </tr>\n",
       "    <tr>\n",
       "      <th>...</th>\n",
       "      <td>...</td>\n",
       "    </tr>\n",
       "    <tr>\n",
       "      <th>SERRA DA SAUDADE</th>\n",
       "      <td>2</td>\n",
       "    </tr>\n",
       "    <tr>\n",
       "      <th>GRUPIARA</th>\n",
       "      <td>1</td>\n",
       "    </tr>\n",
       "    <tr>\n",
       "      <th>CONCEICAO DAS PEDRAS</th>\n",
       "      <td>1</td>\n",
       "    </tr>\n",
       "    <tr>\n",
       "      <th>CARANAIBA</th>\n",
       "      <td>1</td>\n",
       "    </tr>\n",
       "    <tr>\n",
       "      <th>SERRANOS</th>\n",
       "      <td>0</td>\n",
       "    </tr>\n",
       "  </tbody>\n",
       "</table>\n",
       "<p>853 rows × 1 columns</p>\n",
       "</div>"
      ],
      "text/plain": [
       "                      Registros\n",
       "Município                      \n",
       "BELO HORIZONTE            83939\n",
       "CONTAGEM                  29003\n",
       "UBERLANDIA                13571\n",
       "BETIM                     13223\n",
       "RIBEIRAO DAS NEVES         7784\n",
       "...                         ...\n",
       "SERRA DA SAUDADE              2\n",
       "GRUPIARA                      1\n",
       "CONCEICAO DAS PEDRAS          1\n",
       "CARANAIBA                     1\n",
       "SERRANOS                      0\n",
       "\n",
       "[853 rows x 1 columns]"
      ]
     },
     "execution_count": 41,
     "metadata": {},
     "output_type": "execute_result"
    }
   ],
   "source": [
    "df.groupby(\"Município\")[\"Registros\"].sum().sort_values(ascending=False).to_frame()"
   ]
  },
  {
   "cell_type": "markdown",
   "id": "24ee2bf5",
   "metadata": {},
   "source": [
    "**Qual o municipio mais violento?**\n",
    "\n",
    "BELO HORIZONTE com 83939 registros, algo que já era esperado, visto que se trata da capital do estado, que tem a maior população entre os municípios, segundo o censo de 2023 são 2.315.560 habitantes."
   ]
  },
  {
   "cell_type": "markdown",
   "id": "a7213d5e",
   "metadata": {},
   "source": [
    "**Qual o municipio menos violento?**\n",
    "\n",
    "SERRANOS que possui 0, o que também pode ser explicado devido a população, que neste caso é muito baixa, Serranos é 17º menor município de MG com apenas 1.990 habitantes."
   ]
  }
 ],
 "metadata": {
  "kernelspec": {
   "display_name": "Python 3 (ipykernel)",
   "language": "python",
   "name": "python3"
  },
  "language_info": {
   "codemirror_mode": {
    "name": "ipython",
    "version": 3
   },
   "file_extension": ".py",
   "mimetype": "text/x-python",
   "name": "python",
   "nbconvert_exporter": "python",
   "pygments_lexer": "ipython3",
   "version": "3.9.13"
  }
 },
 "nbformat": 4,
 "nbformat_minor": 5
}
